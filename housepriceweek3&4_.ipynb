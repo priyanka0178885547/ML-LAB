{
  "cells": [
    {
      "cell_type": "markdown",
      "metadata": {
        "id": "view-in-github",
        "colab_type": "text"
      },
      "source": [
        "<a href=\"https://colab.research.google.com/github/priyanka0178885547/ML-LAB/blob/main/housepriceweek3%264_.ipynb\" target=\"_parent\"><img src=\"https://colab.research.google.com/assets/colab-badge.svg\" alt=\"Open In Colab\"/></a>"
      ]
    },
    {
      "cell_type": "code",
      "execution_count": null,
      "metadata": {
        "id": "BDZeBx4Vt0S7"
      },
      "outputs": [],
      "source": [
        "import pandas as pd\n",
        "import numpy as np\n",
        "import matplotlib.pyplot as plt\n",
        "from sklearn.model_selection import train_test_split\n",
        "from sklearn.feature_selection import VarianceThreshold"
      ]
    },
    {
      "cell_type": "code",
      "execution_count": null,
      "metadata": {
        "colab": {
          "base_uri": "https://localhost:8080/"
        },
        "id": "yyjXKA5buMml",
        "outputId": "99e12e77-6361-4158-8524-9701e71b224e"
      },
      "outputs": [
        {
          "data": {
            "text/plain": [
              "(1460, 81)"
            ]
          },
          "execution_count": 92,
          "metadata": {},
          "output_type": "execute_result"
        }
      ],
      "source": [
        "df2=pd.read_csv(\"/content/house_price_train.csv\")\n",
        "df2.shape"
      ]
    },
    {
      "cell_type": "code",
      "execution_count": null,
      "metadata": {
        "colab": {
          "base_uri": "https://localhost:8080/",
          "height": 458
        },
        "id": "2w-mTPBMuVWu",
        "outputId": "2c4331e6-0339-4ffe-ebe9-60fcc0c2c5ff"
      },
      "outputs": [
        {
          "data": {
            "text/html": [
              "<div>\n",
              "<style scoped>\n",
              "    .dataframe tbody tr th:only-of-type {\n",
              "        vertical-align: middle;\n",
              "    }\n",
              "\n",
              "    .dataframe tbody tr th {\n",
              "        vertical-align: top;\n",
              "    }\n",
              "\n",
              "    .dataframe thead th {\n",
              "        text-align: right;\n",
              "    }\n",
              "</style>\n",
              "<table border=\"1\" class=\"dataframe\">\n",
              "  <thead>\n",
              "    <tr style=\"text-align: right;\">\n",
              "      <th></th>\n",
              "      <th>0</th>\n",
              "    </tr>\n",
              "  </thead>\n",
              "  <tbody>\n",
              "    <tr>\n",
              "      <th>Id</th>\n",
              "      <td>int64</td>\n",
              "    </tr>\n",
              "    <tr>\n",
              "      <th>MSSubClass</th>\n",
              "      <td>int64</td>\n",
              "    </tr>\n",
              "    <tr>\n",
              "      <th>MSZoning</th>\n",
              "      <td>object</td>\n",
              "    </tr>\n",
              "    <tr>\n",
              "      <th>LotFrontage</th>\n",
              "      <td>float64</td>\n",
              "    </tr>\n",
              "    <tr>\n",
              "      <th>LotArea</th>\n",
              "      <td>int64</td>\n",
              "    </tr>\n",
              "    <tr>\n",
              "      <th>...</th>\n",
              "      <td>...</td>\n",
              "    </tr>\n",
              "    <tr>\n",
              "      <th>MoSold</th>\n",
              "      <td>int64</td>\n",
              "    </tr>\n",
              "    <tr>\n",
              "      <th>YrSold</th>\n",
              "      <td>int64</td>\n",
              "    </tr>\n",
              "    <tr>\n",
              "      <th>SaleType</th>\n",
              "      <td>object</td>\n",
              "    </tr>\n",
              "    <tr>\n",
              "      <th>SaleCondition</th>\n",
              "      <td>object</td>\n",
              "    </tr>\n",
              "    <tr>\n",
              "      <th>SalePrice</th>\n",
              "      <td>int64</td>\n",
              "    </tr>\n",
              "  </tbody>\n",
              "</table>\n",
              "<p>81 rows × 1 columns</p>\n",
              "</div><br><label><b>dtype:</b> object</label>"
            ],
            "text/plain": [
              "Id                 int64\n",
              "MSSubClass         int64\n",
              "MSZoning          object\n",
              "LotFrontage      float64\n",
              "LotArea            int64\n",
              "                  ...   \n",
              "MoSold             int64\n",
              "YrSold             int64\n",
              "SaleType          object\n",
              "SaleCondition     object\n",
              "SalePrice          int64\n",
              "Length: 81, dtype: object"
            ]
          },
          "execution_count": 93,
          "metadata": {},
          "output_type": "execute_result"
        }
      ],
      "source": [
        "df2.dtypes"
      ]
    },
    {
      "cell_type": "code",
      "execution_count": null,
      "metadata": {
        "colab": {
          "base_uri": "https://localhost:8080/"
        },
        "id": "uYHgy5LOcwu2",
        "outputId": "01aed780-2ea1-4df3-fd78-fc2dc775da27"
      },
      "outputs": [
        {
          "data": {
            "text/plain": [
              "Index(['Id', 'MSSubClass', 'MSZoning', 'LotFrontage', 'LotArea', 'Street',\n",
              "       'Alley', 'LotShape', 'LandContour', 'Utilities', 'LotConfig',\n",
              "       'LandSlope', 'Neighborhood', 'Condition1', 'Condition2', 'BldgType',\n",
              "       'HouseStyle', 'OverallQual', 'OverallCond', 'YearBuilt', 'YearRemodAdd',\n",
              "       'RoofStyle', 'RoofMatl', 'Exterior1st', 'Exterior2nd', 'MasVnrType',\n",
              "       'MasVnrArea', 'ExterQual', 'ExterCond', 'Foundation', 'BsmtQual',\n",
              "       'BsmtCond', 'BsmtExposure', 'BsmtFinType1', 'BsmtFinSF1',\n",
              "       'BsmtFinType2', 'BsmtFinSF2', 'BsmtUnfSF', 'TotalBsmtSF', 'Heating',\n",
              "       'HeatingQC', 'CentralAir', 'Electrical', '1stFlrSF', '2ndFlrSF',\n",
              "       'LowQualFinSF', 'GrLivArea', 'BsmtFullBath', 'BsmtHalfBath', 'FullBath',\n",
              "       'HalfBath', 'BedroomAbvGr', 'KitchenAbvGr', 'KitchenQual',\n",
              "       'TotRmsAbvGrd', 'Functional', 'Fireplaces', 'FireplaceQu', 'GarageType',\n",
              "       'GarageYrBlt', 'GarageFinish', 'GarageCars', 'GarageArea', 'GarageQual',\n",
              "       'GarageCond', 'PavedDrive', 'WoodDeckSF', 'OpenPorchSF',\n",
              "       'EnclosedPorch', '3SsnPorch', 'ScreenPorch', 'PoolArea', 'PoolQC',\n",
              "       'Fence', 'MiscFeature', 'MiscVal', 'MoSold', 'YrSold', 'SaleType',\n",
              "       'SaleCondition', 'SalePrice'],\n",
              "      dtype='object')"
            ]
          },
          "execution_count": 94,
          "metadata": {},
          "output_type": "execute_result"
        }
      ],
      "source": [
        "df2.columns"
      ]
    },
    {
      "cell_type": "code",
      "execution_count": null,
      "metadata": {
        "id": "bMB9bxvbWzwK"
      },
      "outputs": [],
      "source": [
        "#  filling LotFrontage with median\n",
        "median_val = df2['LotFrontage'].median()\n",
        "df2['LotFrontage'] = df2['LotFrontage'].fillna(median_val)\n",
        "#filling all categorical values\n",
        "df2['Alley'] = df2['Alley'].fillna('NoAlley')\n",
        "df2['MasVnrType'] = df2['MasVnrType'].fillna('None')\n",
        "basement_cols = ['BsmtQual','BsmtCond','BsmtExposure','BsmtFinType1','BsmtFinType2']\n",
        "df2[basement_cols] = df2[basement_cols].fillna('NoBasement')\n",
        "df2['FireplaceQu'] = df2['FireplaceQu'].fillna('NoFireplace')\n",
        "garage_cat = ['GarageType','GarageFinish','GarageQual','GarageCond']\n",
        "df2[garage_cat] = df2[garage_cat].fillna('NoGarage')\n",
        "df2['GarageYrBlt'] = df2['GarageYrBlt'].fillna(0)\n",
        "df2['PoolQC'] = df2['PoolQC'].fillna('NoPool')\n",
        "df2['Fence'] = df2['Fence'].fillna('NoFence')\n",
        "df2['MiscFeature'] = df2['MiscFeature'].fillna('None')\n",
        "# filling Electrical with mode\n",
        "df2['Electrical'] = df2['Electrical'].fillna(df2['Electrical'].mode()[0])\n",
        "df2['MasVnrArea'] = df2['MasVnrArea'].fillna(0)"
      ]
    },
    {
      "cell_type": "code",
      "execution_count": null,
      "metadata": {
        "colab": {
          "base_uri": "https://localhost:8080/"
        },
        "id": "zRFtauSdXnh2",
        "outputId": "19f44548-c824-48db-94fc-13444cbc6e76"
      },
      "outputs": [
        {
          "data": {
            "text/plain": [
              "[]"
            ]
          },
          "execution_count": 96,
          "metadata": {},
          "output_type": "execute_result"
        }
      ],
      "source": [
        "[col for col in df2.columns if df2[col].isnull().sum()>0]"
      ]
    },
    {
      "cell_type": "code",
      "execution_count": null,
      "metadata": {
        "id": "hNlkCUsEYXJP"
      },
      "outputs": [],
      "source": [
        "X = df2.drop('SalePrice',axis=1)\n",
        "y = df2['SalePrice']"
      ]
    },
    {
      "cell_type": "code",
      "execution_count": null,
      "metadata": {
        "id": "Q3Q7AfC0YfMA"
      },
      "outputs": [],
      "source": [
        "X = pd.get_dummies(X,drop_first=True)"
      ]
    },
    {
      "cell_type": "code",
      "execution_count": null,
      "metadata": {
        "id": "RzJErK8cYif-"
      },
      "outputs": [],
      "source": [
        "x_train,x_test,y_train,y_test=train_test_split(X,y,test_size=0.3,random_state=0)"
      ]
    },
    {
      "cell_type": "code",
      "execution_count": null,
      "metadata": {
        "colab": {
          "base_uri": "https://localhost:8080/"
        },
        "id": "Hy9YACRXYor-",
        "outputId": "092cfbcf-be82-405c-b1c8-2ef1fc2aa182"
      },
      "outputs": [
        {
          "data": {
            "text/plain": [
              "7"
            ]
          },
          "execution_count": 100,
          "metadata": {},
          "output_type": "execute_result"
        }
      ],
      "source": [
        "constant_features=[features for features in x_train.columns if x_train[features].std()==0]\n",
        "len(constant_features)"
      ]
    },
    {
      "cell_type": "code",
      "execution_count": null,
      "metadata": {
        "id": "2DxqLaFoYrSq"
      },
      "outputs": [],
      "source": [
        "x_train.drop(labels=constant_features,axis=1,inplace=True) #deleting constant features\n",
        "x_test.drop(labels=constant_features,axis=1,inplace=True)"
      ]
    },
    {
      "cell_type": "code",
      "execution_count": null,
      "metadata": {
        "colab": {
          "base_uri": "https://localhost:8080/"
        },
        "id": "2HmKoEu1ZdQ5",
        "outputId": "ad9aa90a-1877-406e-f843-65355656001f"
      },
      "outputs": [
        {
          "data": {
            "text/plain": [
              "20"
            ]
          },
          "execution_count": 102,
          "metadata": {},
          "output_type": "execute_result"
        }
      ],
      "source": [
        "quasi_constant_feat=[]\n",
        "\n",
        "for feature in x_train.columns:\n",
        "  predominant=(x_train[feature].value_counts()/float(len(x_train))).sort_values(ascending=False).values[0]\n",
        "  if predominant>0.999:\n",
        "    quasi_constant_feat.append(feature)\n",
        "\n",
        "len(quasi_constant_feat)"
      ]
    },
    {
      "cell_type": "code",
      "execution_count": null,
      "metadata": {
        "id": "a3mYLFe2ZixB"
      },
      "outputs": [],
      "source": [
        "x_train.drop(labels=quasi_constant_feat,axis=1,inplace=True)\n",
        "x_test.drop(labels=quasi_constant_feat,axis=1,inplace=True)"
      ]
    },
    {
      "cell_type": "code",
      "execution_count": null,
      "metadata": {
        "colab": {
          "base_uri": "https://localhost:8080/"
        },
        "id": "sc342IvGZo6C",
        "outputId": "0a013d22-a7ee-45e6-ed74-9cac9386a117"
      },
      "outputs": [
        {
          "name": "stdout",
          "output_type": "stream",
          "text": [
            "6\n"
          ]
        }
      ],
      "source": [
        "dup=[]\n",
        "for i in range (0,len(x_train.columns)):\n",
        "    col1=x_train.columns[i]\n",
        "    for col2 in x_train.columns[i+1:]:\n",
        "        if x_train[col1].equals(x_train[col2]):\n",
        "            dup.append(col2)\n",
        "dup_features=set(dup)\n",
        "print(len(dup_features))"
      ]
    },
    {
      "cell_type": "code",
      "execution_count": null,
      "metadata": {
        "id": "IGUPOZYKZv8x"
      },
      "outputs": [],
      "source": [
        "x_train.drop(labels=dup_features,axis=1,inplace=True)\n",
        "x_test.drop(labels=dup_features,axis=1,inplace=True)"
      ]
    },
    {
      "cell_type": "code",
      "execution_count": null,
      "metadata": {
        "colab": {
          "base_uri": "https://localhost:8080/"
        },
        "id": "Y3i7mIk8Z1Rp",
        "outputId": "299492b0-84bb-4d15-8abb-d2776efb09a2"
      },
      "outputs": [
        {
          "name": "stdout",
          "output_type": "stream",
          "text": [
            "14\n"
          ]
        }
      ],
      "source": [
        "grouped_feature_ls = []\n",
        "correlated_groups = []\n",
        "def correlation (dataset, threshold):\n",
        "    col_corr = set()\n",
        "    corr_matrix = dataset.corr()\n",
        "    for i in range(len(corr_matrix.columns)):\n",
        "        for j in range(i):\n",
        "            if abs(corr_matrix.iloc[i, j]) > threshold:\n",
        "                colname=corr_matrix.columns[i]\n",
        "                col_corr.add(colname)\n",
        "    return col_corr\n",
        "corr_features=correlation (x_test, 0.9)\n",
        "correlated_features = set(corr_features)\n",
        "print(len(correlated_features))\n"
      ]
    },
    {
      "cell_type": "code",
      "execution_count": null,
      "metadata": {
        "colab": {
          "base_uri": "https://localhost:8080/"
        },
        "id": "7nHB4UcoaKph",
        "outputId": "c71b205d-ef00-4e35-9f01-2c57cd1f80a5"
      },
      "outputs": [
        {
          "data": {
            "text/plain": [
              "((1022, 213), (438, 213))"
            ]
          },
          "execution_count": 107,
          "metadata": {},
          "output_type": "execute_result"
        }
      ],
      "source": [
        "x_train.drop(labels=correlated_features,axis=1,inplace=True)\n",
        "x_test.drop(labels=correlated_features,axis=1,inplace=True)\n",
        "x_train.shape,x_test.shape"
      ]
    },
    {
      "cell_type": "code",
      "execution_count": null,
      "metadata": {
        "id": "vYnEbNeKTcTi"
      },
      "outputs": [],
      "source": [
        "x_train.fillna(0, inplace=True)"
      ]
    },
    {
      "cell_type": "code",
      "execution_count": null,
      "metadata": {
        "colab": {
          "base_uri": "https://localhost:8080/"
        },
        "id": "wdqV11laaO8O",
        "outputId": "9766440f-5fbb-495e-a797-d359fac9e836"
      },
      "outputs": [
        {
          "name": "stdout",
          "output_type": "stream",
          "text": [
            "Top 10 Selected Features:\n",
            " ['MSSubClass', 'OverallQual', 'YearBuilt', 'TotalBsmtSF', '1stFlrSF', 'GrLivArea', 'FullBath', 'GarageYrBlt', 'GarageCars', 'GarageArea']\n"
          ]
        }
      ],
      "source": [
        "import pandas as pd\n",
        "import matplotlib.pyplot as plt\n",
        "import pandas as pd\n",
        "from sklearn.feature_selection import mutual_info_regression, SelectKBest\n",
        "mi = mutual_info_regression(x_train.fillna(0), y_train)\n",
        "mi = pd.Series(mi, index=x_train.columns)\n",
        "selector = SelectKBest(score_func=mutual_info_regression, k=10)\n",
        "selector.fit(x_train.fillna(0), y_train)\n",
        "selected_features = x_train.columns[selector.get_support()]\n",
        "print(\"Top 10 Selected Features:\\n\", selected_features.tolist())\n",
        "x_train_selected = selector.transform(x_train.fillna(0))\n",
        "x_train_selected = pd.DataFrame(x_train_selected, columns=selected_features)"
      ]
    },
    {
      "cell_type": "code",
      "execution_count": null,
      "metadata": {
        "colab": {
          "base_uri": "https://localhost:8080/",
          "height": 570
        },
        "id": "Cbe4Gqx3aTd9",
        "outputId": "af30b5d7-f9b3-4760-a2db-df52ca9c22e9"
      },
      "outputs": [
        {
          "data": {
            "image/png": "[encoded data removed]",
            "text/plain": [
              "<Figure size 640x480 with 1 Axes>"
            ]
          },
          "metadata": {},
          "output_type": "display_data"
        }
      ],
      "source": [
        "from scipy.stats import chi2_contingency\n",
        "chi_ls = []\n",
        "for feature in x_train.columns:\n",
        "    c = pd.crosstab(y_train, x_train[feature])\n",
        "    if c.shape[1] > 1:\n",
        "        p_value = chi2_contingency(c)[1]\n",
        "    else:\n",
        "        p_value = 1\n",
        "    chi_ls.append(p_value)\n",
        "\n",
        "pd.Series(chi_ls, index=x_train.columns).sort_values(ascending=True).plot.bar(rot=45)\n",
        "plt.ylabel(\"p value\")\n",
        "plt.title(\"Feature importance based on chi-square test\")\n",
        "plt.show()"
      ]
    },
    {
      "cell_type": "code",
      "execution_count": null,
      "metadata": {
        "id": "ICTVorZsLAWa"
      },
      "outputs": [],
      "source": [
        "from sklearn.ensemble import RandomForestRegressor\n",
        "from mlxtend.feature_selection import SequentialFeatureSelector as SFS"
      ]
    },
    {
      "cell_type": "code",
      "execution_count": null,
      "metadata": {
        "id": "8pQrpGYnLOG9"
      },
      "outputs": [],
      "source": [
        "sfs1=SFS(RandomForestRegressor(n_jobs=4),k_features=5,forward=True,verbose=2,scoring='r2',cv=3)"
      ]
    },
    {
      "cell_type": "code",
      "execution_count": null,
      "metadata": {
        "colab": {
          "base_uri": "https://localhost:8080/"
        },
        "id": "VrO1UMnNUKPI",
        "outputId": "61115878-4182-4b43-f220-97420c296cee"
      },
      "outputs": [
        {
          "name": "stderr",
          "output_type": "stream",
          "text": [
            "[Parallel(n_jobs=1)]: Done  40 tasks      | elapsed:   30.1s\n",
            "[Parallel(n_jobs=1)]: Done 161 tasks      | elapsed:  1.9min\n",
            "[Parallel(n_jobs=1)]: Done 213 out of 213 | elapsed:  2.5min finished\n",
            "\n",
            "[2025-08-20 01:33:38] Features: 1/5 -- score: 0.6688662906209687[Parallel(n_jobs=1)]: Done  40 tasks      | elapsed:   31.1s\n",
            "[Parallel(n_jobs=1)]: Done 161 tasks      | elapsed:  2.0min\n",
            "[Parallel(n_jobs=1)]: Done 212 out of 212 | elapsed:  2.6min finished\n",
            "\n",
            "[2025-08-20 01:36:13] Features: 2/5 -- score: 0.7212246504772266[Parallel(n_jobs=1)]: Done  40 tasks      | elapsed:   31.7s\n",
            "[Parallel(n_jobs=1)]: Done 161 tasks      | elapsed:  2.0min\n",
            "[Parallel(n_jobs=1)]: Done 211 out of 211 | elapsed:  2.6min finished\n",
            "\n",
            "[2025-08-20 01:38:48] Features: 3/5 -- score: 0.7456827689217206[Parallel(n_jobs=1)]: Done  40 tasks      | elapsed:   32.9s\n",
            "[Parallel(n_jobs=1)]: Done 161 tasks      | elapsed:  2.0min\n",
            "[Parallel(n_jobs=1)]: Done 210 out of 210 | elapsed:  2.7min finished\n",
            "\n",
            "[2025-08-20 01:41:27] Features: 4/5 -- score: 0.7637181933352505[Parallel(n_jobs=1)]: Done  40 tasks      | elapsed:   34.1s\n",
            "[Parallel(n_jobs=1)]: Done 161 tasks      | elapsed:  2.1min\n",
            "[Parallel(n_jobs=1)]: Done 209 out of 209 | elapsed:  2.7min finished\n",
            "\n",
            "[2025-08-20 01:44:11] Features: 5/5 -- score: 0.7756862217946005"
          ]
        },
        {
          "data": {
            "text/plain": [
              "Index(['OverallQual', 'BsmtFullBath', 'FullBath', 'GarageCars',\n",
              "       'Neighborhood_Crawfor'],\n",
              "      dtype='object')"
            ]
          },
          "execution_count": 87,
          "metadata": {},
          "output_type": "execute_result"
        }
      ],
      "source": [
        "sfs1 = sfs1.fit(np.array(x_train), y_train)\n",
        "x_train.columns[list(sfs1.k_feature_idx_)]"
      ]
    },
    {
      "cell_type": "code",
      "execution_count": null,
      "metadata": {
        "colab": {
          "base_uri": "https://localhost:8080/"
        },
        "id": "FOQu2xI_UN6-",
        "outputId": "f3e12ada-ae33-4444-ca80-a90e4af3fca6"
      },
      "outputs": [
        {
          "name": "stdout",
          "output_type": "stream",
          "text": [
            "best accracy score 0.7756862217946005\n",
            "best subset(indices) (4, 17, 19, 26, 60)\n",
            "Best subset (corresponding names): ('4', '17', '19', '26', '60')\n"
          ]
        }
      ],
      "source": [
        "print('best accracy score',sfs1.k_score_)\n",
        "print('best subset(indices)',sfs1.k_feature_idx_)\n",
        "print('Best subset (corresponding names):', sfs1.k_feature_names_)"
      ]
    },
    {
      "cell_type": "code",
      "execution_count": null,
      "metadata": {
        "colab": {
          "base_uri": "https://localhost:8080/"
        },
        "id": "G1Xcvmk3-33y",
        "outputId": "527d850c-e501-430c-8eff-f820a2bc70c8"
      },
      "outputs": [
        {
          "name": "stderr",
          "output_type": "stream",
          "text": [
            "[Parallel(n_jobs=1)]: Done  10 out of  10 | elapsed:   18.0s finished\n",
            "\n",
            "[2025-08-20 01:45:02] Features: 9/5 -- score: 0.8163598294713554[Parallel(n_jobs=1)]: Done   9 out of   9 | elapsed:   13.9s finished\n",
            "\n",
            "[2025-08-20 01:45:16] Features: 8/5 -- score: 0.8195785661301512[Parallel(n_jobs=1)]: Done   8 out of   8 | elapsed:   12.3s finished\n",
            "\n",
            "[2025-08-20 01:45:29] Features: 7/5 -- score: 0.8160510572524178[Parallel(n_jobs=1)]: Done   7 out of   7 | elapsed:    8.9s finished\n",
            "\n",
            "[2025-08-20 01:45:38] Features: 6/5 -- score: 0.8093752940554797"
          ]
        },
        {
          "name": "stdout",
          "output_type": "stream",
          "text": [
            "best accracy score 0.8071336749337302\n",
            "best subset(indices) (1, 2, 3, 5, 8)\n",
            "Best subset (corresponding names): ('1', '2', '3', '5', '8')\n"
          ]
        },
        {
          "name": "stderr",
          "output_type": "stream",
          "text": [
            "[Parallel(n_jobs=1)]: Done   6 out of   6 | elapsed:    7.9s finished\n",
            "\n",
            "[2025-08-20 01:45:46] Features: 5/5 -- score: 0.8071336749337302"
          ]
        }
      ],
      "source": [
        "sfs4=SFS(RandomForestRegressor(n_jobs=4),k_features=5,forward=False,verbose=2,scoring='r2',cv=3)\n",
        "sfs4=sfs4.fit(np.array(x_train_selected.fillna(0)),y_train)\n",
        "print('best accracy score',sfs4.k_score_)\n",
        "print('best subset(indices)',sfs4.k_feature_idx_)\n",
        "print('Best subset (corresponding names):', sfs4.k_feature_names_)"
      ]
    },
    {
      "cell_type": "code",
      "execution_count": null,
      "metadata": {
        "colab": {
          "background_save": true
        },
        "id": "1hvDxB2yByR_",
        "outputId": "0ba3608b-16f0-4d8e-e934-ec37e6b662d2"
      },
      "outputs": [
        {
          "name": "stderr",
          "output_type": "stream",
          "text": [
            "Features: 385/385"
          ]
        },
        {
          "name": "stdout",
          "output_type": "stream",
          "text": [
            "best accuracy score 0.8007853031056555\n",
            "best subset(indices) (1, 2, 3, 5)\n",
            "Best subset (corresponding names): ('OverallQual', 'YearBuilt', 'TotalBsmtSF', 'GrLivArea')\n"
          ]
        }
      ],
      "source": [
        "from mlxtend.feature_selection import ExhaustiveFeatureSelector as EFS\n",
        "efs=EFS(RandomForestRegressor(n_jobs=4),min_features=1,max_features=4,scoring='r2',cv=5)\n",
        "efs=efs.fit(x_train_selected,y_train)\n",
        "print('best accuracy score',efs.best_score_)\n",
        "print('best subset(indices)',efs.best_idx_)\n",
        "print('Best subset (corresponding names):', efs.best_feature_names_)"
      ]
    },
    {
      "cell_type": "code",
      "execution_count": null,
      "metadata": {
        "colab": {
          "base_uri": "https://localhost:8080/"
        },
        "id": "GFdUu5PHMKSS",
        "outputId": "e7e503be-7095-484c-9ae7-9b4c766ed09e"
      },
      "outputs": [
        {
          "name": "stdout",
          "output_type": "stream",
          "text": [
            "('Id', np.float64(0.00351550711087482))\n",
            "('MSSubClass', np.float64(0.0023130703455869887))\n",
            "('LotFrontage', np.float64(0.0056785124929431404))\n",
            "('LotArea', np.float64(0.016310089640385064))\n",
            "('OverallQual', np.float64(0.5524877727531102))\n",
            "('OverallCond', np.float64(0.005444948032148983))\n",
            "('YearBuilt', np.float64(0.013452314175141806))\n",
            "('YearRemodAdd', np.float64(0.006050508553185474))\n",
            "('MasVnrArea', np.float64(0.012012935404550935))\n",
            "('BsmtFinSF1', np.float64(0.029908597585932294))\n",
            "('BsmtFinSF2', np.float64(0.0005610199846288104))\n",
            "('BsmtUnfSF', np.float64(0.006237728925846049))\n",
            "('TotalBsmtSF', np.float64(0.032318565721661675))\n",
            "('1stFlrSF', np.float64(0.02777069094763762))\n",
            "('2ndFlrSF', np.float64(0.011618325476014308))\n",
            "('LowQualFinSF', np.float64(0.00017854147340882494))\n",
            "('GrLivArea', np.float64(0.12431923141461264))\n",
            "('BsmtFullBath', np.float64(0.0007151866599565041))\n",
            "('BsmtHalfBath', np.float64(0.0005541389625868165))\n",
            "('FullBath', np.float64(0.0024949970515658238))\n",
            "('HalfBath', np.float64(0.0011350389691613398))\n",
            "('BedroomAbvGr', np.float64(0.0031345508850340402))\n",
            "('KitchenAbvGr', np.float64(0.0009895569120057796))\n",
            "('TotRmsAbvGrd', np.float64(0.005609125447034385))\n",
            "('Fireplaces', np.float64(0.0017884918232702052))\n",
            "('GarageYrBlt', np.float64(0.007221602790483053))\n",
            "('GarageCars', np.float64(0.030128544369476616))\n",
            "('GarageArea', np.float64(0.02290342691857269))\n",
            "('WoodDeckSF', np.float64(0.00568249790599437))\n",
            "('OpenPorchSF', np.float64(0.0054153863251482255))\n",
            "('EnclosedPorch', np.float64(0.0005892953045678203))\n",
            "('3SsnPorch', np.float64(0.00015647878988740422))\n",
            "('ScreenPorch', np.float64(0.0007725991436092982))\n",
            "('PoolArea', np.float64(4.383744331910088e-06))\n",
            "('MiscVal', np.float64(6.0215944654093784e-05))\n",
            "('MoSold', np.float64(0.006219156082267699))\n",
            "('YrSold', np.float64(0.0013129455036324862))\n",
            "('MSZoning_FV', np.float64(0.0001356099684889986))\n",
            "('MSZoning_RH', np.float64(4.1928142295818475e-05))\n",
            "('MSZoning_RL', np.float64(0.0009338381146827278))\n",
            "('MSZoning_RM', np.float64(0.0014155370367041993))\n",
            "('Street_Pave', np.float64(1.6215287430975867e-05))\n",
            "('Alley_NoAlley', np.float64(0.0003288030438159128))\n",
            "('Alley_Pave', np.float64(8.55526359395964e-05))\n",
            "('LotShape_IR2', np.float64(7.0835027729521e-05))\n",
            "('LotShape_IR3', np.float64(1.070008677302476e-05))\n",
            "('LotShape_Reg', np.float64(0.0021657713801228004))\n",
            "('LandContour_HLS', np.float64(8.496950761157459e-05))\n",
            "('LandContour_Low', np.float64(2.1575360531935435e-05))\n",
            "('LandContour_Lvl', np.float64(0.0003364954993989916))\n",
            "('LotConfig_CulDSac', np.float64(0.00043131469203462315))\n",
            "('LotConfig_FR2', np.float64(7.69677593574053e-05))\n",
            "('LotConfig_Inside', np.float64(0.0003558305147615576))\n",
            "('LandSlope_Mod', np.float64(0.0002634588931698506))\n",
            "('LandSlope_Sev', np.float64(0.00013236998187136977))\n",
            "('Neighborhood_Blueste', np.float64(4.1278145026663436e-08))\n",
            "('Neighborhood_BrDale', np.float64(2.578648645060196e-06))\n",
            "('Neighborhood_BrkSide', np.float64(5.4472308133923124e-05))\n",
            "('Neighborhood_ClearCr', np.float64(0.00013429391886114636))\n",
            "('Neighborhood_CollgCr', np.float64(0.0003991426375773515))\n",
            "('Neighborhood_Crawfor', np.float64(0.0010600683010577423))\n",
            "('Neighborhood_Edwards', np.float64(0.00043735975803536073))\n",
            "('Neighborhood_Gilbert', np.float64(9.817049946789432e-05))\n",
            "('Neighborhood_IDOTRR', np.float64(0.000423622011491548))\n",
            "('Neighborhood_MeadowV', np.float64(2.0766222535982528e-05))\n",
            "('Neighborhood_Mitchel', np.float64(7.304778176092984e-05))\n",
            "('Neighborhood_NAmes', np.float64(0.00014954608693204101))\n",
            "('Neighborhood_NPkVill', np.float64(5.891549604410247e-06))\n",
            "('Neighborhood_NWAmes', np.float64(0.00010844436096614718))\n",
            "('Neighborhood_NoRidge', np.float64(0.0003402685221044979))\n",
            "('Neighborhood_NridgHt', np.float64(0.00040281596491392095))\n",
            "('Neighborhood_OldTown', np.float64(0.00022408992531835616))\n",
            "('Neighborhood_SWISU', np.float64(7.525194195151375e-05))\n",
            "('Neighborhood_Sawyer', np.float64(0.00018119062467224787))\n",
            "('Neighborhood_SawyerW', np.float64(6.508181091071429e-05))\n",
            "('Neighborhood_StoneBr', np.float64(0.00023885013358023444))\n",
            "('Neighborhood_Timber', np.float64(5.962415183484941e-05))\n",
            "('Neighborhood_Veenker', np.float64(3.540441110970305e-05))\n",
            "('Condition1_Feedr', np.float64(6.0030492017475074e-05))\n",
            "('Condition1_Norm', np.float64(0.0005281632003696745))\n",
            "('Condition1_PosA', np.float64(9.656992593788464e-06))\n",
            "('Condition1_PosN', np.float64(0.00024684728782575093))\n",
            "('Condition1_RRAe', np.float64(5.3187171684601286e-05))\n",
            "('Condition1_RRAn', np.float64(3.971806711515285e-05))\n",
            "('Condition1_RRNe', np.float64(2.796396817212977e-07))\n",
            "('Condition2_Feedr', np.float64(6.793603464294767e-06))\n",
            "('Condition2_Norm', np.float64(0.0004070562631913932))\n",
            "('BldgType_2fmCon', np.float64(2.677574861950561e-05))\n",
            "('BldgType_Duplex', np.float64(1.3241036647862498e-05))\n",
            "('BldgType_Twnhs', np.float64(9.482078821187987e-06))\n",
            "('BldgType_TwnhsE', np.float64(5.244153938692026e-05))\n",
            "('HouseStyle_1.5Unf', np.float64(3.194563547137044e-05))\n",
            "('HouseStyle_1Story', np.float64(0.00013688615944490716))\n",
            "('HouseStyle_2.5Fin', np.float64(8.759323532375053e-06))\n",
            "('HouseStyle_2.5Unf', np.float64(7.722011277621947e-06))\n",
            "('HouseStyle_2Story', np.float64(0.0007225177305609299))\n",
            "('HouseStyle_SFoyer', np.float64(3.8621902751847265e-06))\n",
            "('HouseStyle_SLvl', np.float64(3.34119572821103e-05))\n",
            "('RoofStyle_Gable', np.float64(0.0007003947887718352))\n",
            "('RoofStyle_Gambrel', np.float64(4.9848959481148444e-05))\n",
            "('RoofStyle_Mansard', np.float64(1.925945760513983e-06))\n",
            "('RoofStyle_Shed', np.float64(1.6498286875394662e-05))\n",
            "('RoofMatl_CompShg', np.float64(0.00022532861016928525))\n",
            "('RoofMatl_Tar&Grv', np.float64(3.177922125258662e-05))\n",
            "('RoofMatl_WdShake', np.float64(1.5256938394379335e-05))\n",
            "('RoofMatl_WdShngl', np.float64(2.443571183428623e-05))\n",
            "('Exterior1st_BrkFace', np.float64(0.0004126796370659414))\n",
            "('Exterior1st_CemntBd', np.float64(0.00018969247312300867))\n",
            "('Exterior1st_HdBoard', np.float64(0.000747367052268445))\n",
            "('Exterior1st_MetalSd', np.float64(0.0002847317362603547))\n",
            "('Exterior1st_Plywood', np.float64(0.00020626990049651866))\n",
            "('Exterior1st_Stone', np.float64(8.738539535746179e-06))\n",
            "('Exterior1st_Stucco', np.float64(9.265163720386634e-05))\n",
            "('Exterior1st_VinylSd', np.float64(0.0007217945208461516))\n",
            "('Exterior1st_Wd Sdng', np.float64(0.00014067973200847367))\n",
            "('Exterior1st_WdShing', np.float64(2.0560667761276995e-05))\n",
            "('Exterior2nd_Brk Cmn', np.float64(5.65633830759883e-05))\n",
            "('Exterior2nd_BrkFace', np.float64(0.00010523528426991996))\n",
            "('Exterior2nd_ImStucc', np.float64(3.545980045191423e-06))\n",
            "('Exterior2nd_Plywood', np.float64(0.000140354853917965))\n",
            "('Exterior2nd_Stone', np.float64(6.050977873289326e-06))\n",
            "('Exterior2nd_Stucco', np.float64(2.518624317822196e-05))\n",
            "('Exterior2nd_Wd Sdng', np.float64(0.00015622487266024078))\n",
            "('Exterior2nd_Wd Shng', np.float64(7.440232540118925e-05))\n",
            "('MasVnrType_BrkFace', np.float64(0.00021613328107951107))\n",
            "('MasVnrType_None', np.float64(0.00021232570765046437))\n",
            "('MasVnrType_Stone', np.float64(0.0003765570575151211))\n",
            "('ExterQual_Fa', np.float64(6.080307068999629e-05))\n",
            "('ExterQual_Gd', np.float64(0.0008445092098038653))\n",
            "('ExterQual_TA', np.float64(0.0008081380429146607))\n",
            "('ExterCond_Fa', np.float64(0.0003860201039732339))\n",
            "('ExterCond_Gd', np.float64(0.0002066807789486394))\n",
            "('Foundation_CBlock', np.float64(0.0001863497193081906))\n",
            "('Foundation_PConc', np.float64(0.00014136969553975328))\n",
            "('Foundation_Slab', np.float64(2.3706660309317552e-05))\n",
            "('Foundation_Stone', np.float64(8.888235098727566e-06))\n",
            "('BsmtQual_Fa', np.float64(4.298262702679354e-05))\n",
            "('BsmtQual_Gd', np.float64(0.0039047062849079392))\n",
            "('BsmtQual_NoBasement', np.float64(3.356539727419121e-05))\n",
            "('BsmtQual_TA', np.float64(0.00018335748560381816))\n",
            "('BsmtCond_Gd', np.float64(8.973342458965196e-05))\n",
            "('BsmtCond_Po', np.float64(3.737895476310714e-06))\n",
            "('BsmtCond_TA', np.float64(0.00025211389301312215))\n",
            "('BsmtExposure_Gd', np.float64(0.0011448626199687642))\n",
            "('BsmtExposure_Mn', np.float64(0.00019437006321085744))\n",
            "('BsmtExposure_No', np.float64(0.0010004021834340954))\n",
            "('BsmtFinType1_BLQ', np.float64(0.00010160928167596342))\n",
            "('BsmtFinType1_GLQ', np.float64(0.0006371391847259857))\n",
            "('BsmtFinType1_LwQ', np.float64(0.00011405451833145194))\n",
            "('BsmtFinType1_Rec', np.float64(0.000165221590840383))\n",
            "('BsmtFinType1_Unf', np.float64(0.0003208140617214204))\n",
            "('BsmtFinType2_BLQ', np.float64(7.153689793093756e-05))\n",
            "('BsmtFinType2_GLQ', np.float64(1.7525539288030289e-06))\n",
            "('BsmtFinType2_LwQ', np.float64(5.22804967421683e-05))\n",
            "('BsmtFinType2_Rec', np.float64(4.0350932463004256e-05))\n",
            "('BsmtFinType2_Unf', np.float64(0.00015247899150241421))\n",
            "('Heating_GasA', np.float64(0.00012363785061789845))\n",
            "('Heating_GasW', np.float64(9.074122783367906e-05))\n",
            "('Heating_Grav', np.float64(1.7298560262478244e-06))\n",
            "('Heating_Wall', np.float64(5.282932299262219e-07))\n",
            "('HeatingQC_Fa', np.float64(6.352136646321029e-05))\n",
            "('HeatingQC_Gd', np.float64(0.00020890687744290124))\n",
            "('HeatingQC_TA', np.float64(0.00045650505526905464))\n",
            "('CentralAir_Y', np.float64(0.00482645618700268))\n",
            "('Electrical_FuseF', np.float64(6.0536422075681444e-05))\n",
            "('Electrical_FuseP', np.float64(3.670026295128964e-07))\n",
            "('Electrical_SBrkr', np.float64(9.343495213467046e-05))\n",
            "('KitchenQual_Fa', np.float64(5.081618851601754e-05))\n",
            "('KitchenQual_Gd', np.float64(0.003935712143555893))\n",
            "('KitchenQual_TA', np.float64(0.0015456181199990813))\n",
            "('Functional_Maj2', np.float64(8.446550715660015e-06))\n",
            "('Functional_Min1', np.float64(1.0439623502457194e-05))\n",
            "('Functional_Min2', np.float64(3.3285615620102575e-05))\n",
            "('Functional_Mod', np.float64(0.00010300191263537207))\n",
            "('Functional_Typ', np.float64(0.00027826836477375024))\n",
            "('FireplaceQu_Fa', np.float64(2.090531582417367e-05))\n",
            "('FireplaceQu_Gd', np.float64(0.0006847709301362605))\n",
            "('FireplaceQu_NoFireplace', np.float64(0.0013789698948860028))\n",
            "('FireplaceQu_Po', np.float64(0.000144906051857492))\n",
            "('FireplaceQu_TA', np.float64(0.0006076015935741697))\n",
            "('GarageType_Attchd', np.float64(0.0013647080286821032))\n",
            "('GarageType_Basment', np.float64(1.4098666620942587e-05))\n",
            "('GarageType_BuiltIn', np.float64(0.0005445614364794208))\n",
            "('GarageType_CarPort', np.float64(2.0921923488727602e-05))\n",
            "('GarageType_Detchd', np.float64(0.001159665129279318))\n",
            "('GarageFinish_RFn', np.float64(0.000509494632433643))\n",
            "('GarageFinish_Unf', np.float64(0.0007855343121568859))\n",
            "('GarageQual_Fa', np.float64(9.951514343211862e-05))\n",
            "('GarageQual_Gd', np.float64(6.6043228339501445e-06))\n",
            "('GarageQual_Po', np.float64(8.652332857798836e-08))\n",
            "('GarageQual_TA', np.float64(0.000504947817042726))\n",
            "('GarageCond_Fa', np.float64(3.5456023048072864e-05))\n",
            "('GarageCond_Gd', np.float64(2.3834398887382966e-05))\n",
            "('GarageCond_Po', np.float64(5.504734435952144e-06))\n",
            "('GarageCond_TA', np.float64(0.00027169428539512247))\n",
            "('PavedDrive_P', np.float64(5.3827178373215285e-05))\n",
            "('PavedDrive_Y', np.float64(0.00026121215485310086))\n",
            "('PoolQC_Gd', np.float64(2.268943209081084e-05))\n",
            "('Fence_GdWo', np.float64(0.00013877083978565175))\n",
            "('Fence_MnPrv', np.float64(8.114035343827452e-05))\n",
            "('Fence_MnWw', np.float64(3.2895746159117625e-06))\n",
            "('Fence_NoFence', np.float64(0.00021971485009972215))\n",
            "('MiscFeature_None', np.float64(2.247221408748556e-05))\n",
            "('MiscFeature_Othr', np.float64(1.006138107790767e-06))\n",
            "('SaleType_ConLD', np.float64(2.367759185129618e-06))\n",
            "('SaleType_ConLI', np.float64(2.8885339041997872e-06))\n",
            "('SaleType_ConLw', np.float64(9.299193744463373e-06))\n",
            "('SaleType_New', np.float64(0.0006333469733665765))\n",
            "('SaleType_Oth', np.float64(1.2409132070841093e-05))\n",
            "('SaleType_WD', np.float64(0.0006274389178863921))\n",
            "('SaleCondition_Alloca', np.float64(4.000103399614065e-05))\n",
            "('SaleCondition_Family', np.float64(1.897189730572681e-05))\n",
            "('SaleCondition_Normal', np.float64(0.0003741153399852486))\n"
          ]
        }
      ],
      "source": [
        "from sklearn.ensemble import RandomForestRegressor\n",
        "rfr = RandomForestRegressor(random_state=0, criterion='squared_error')\n",
        "rfr.fit(x_train, y_train)\n",
        "for feature in zip(x_train.columns, rfr.feature_importances_):\n",
        "    print(feature)"
      ]
    },
    {
      "cell_type": "code",
      "execution_count": null,
      "metadata": {
        "colab": {
          "base_uri": "https://localhost:8080/"
        },
        "id": "NYUU76uaOwQI",
        "outputId": "625caf4e-2a0b-4906-eb80-1a325cde58f9"
      },
      "outputs": [
        {
          "name": "stdout",
          "output_type": "stream",
          "text": [
            "The most important features based on random forest classifier:\n",
            "- OverallQual\n"
          ]
        }
      ],
      "source": [
        "from sklearn.feature_selection import SelectFromModel\n",
        "sfm = SelectFromModel(estimator=rfr, threshold=0.2)\n",
        "sfm = sfm.fit(x_train, y_train)\n",
        "feature_names=x_train.columns\n",
        "print('The most important features based on random forest classifier:')\n",
        "for feature_list_index in sfm.get_support(indices=True):\n",
        "    print('- ' + feature_names[feature_list_index])\n"
      ]
    },
    {
      "cell_type": "code",
      "execution_count": null,
      "metadata": {
        "colab": {
          "base_uri": "https://localhost:8080/"
        },
        "id": "_808jnsfPOhU",
        "outputId": "826fde51-c651-41d1-f45d-97e662728b1f"
      },
      "outputs": [
        {
          "name": "stdout",
          "output_type": "stream",
          "text": [
            "R² Score: 0.8495377937924488\n",
            "MSE: 1021486630.1314864\n"
          ]
        }
      ],
      "source": [
        "from sklearn.metrics import mean_squared_error, r2_score\n",
        "rfr_full = RandomForestRegressor(random_state=0, criterion='squared_error')\n",
        "rfr_full.fit(x_train, y_train)\n",
        "pred_full = rfr_full.predict(x_test)\n",
        "print(\"R² Score:\", r2_score(y_test, pred_full))\n",
        "print(\"MSE:\", mean_squared_error(y_test, pred_full))"
      ]
    },
    {
      "cell_type": "code",
      "execution_count": null,
      "metadata": {
        "id": "Hhl9kzsMPYqv"
      },
      "outputs": [],
      "source": [
        "x_important_train = sfm.transform(x_train)\n",
        "x_important_test = sfm.transform(x_test)"
      ]
    },
    {
      "cell_type": "code",
      "execution_count": null,
      "metadata": {
        "colab": {
          "base_uri": "https://localhost:8080/"
        },
        "id": "zoQiyvP9PjS_",
        "outputId": "bc0e8bf8-e6c1-46d6-c9eb-2e68a19b2956"
      },
      "outputs": [
        {
          "name": "stdout",
          "output_type": "stream",
          "text": [
            "(1022, 1)\n",
            "(438, 1)\n"
          ]
        }
      ],
      "source": [
        "print(x_important_train.shape)\n",
        "print(x_important_test.shape)\n"
      ]
    },
    {
      "cell_type": "code",
      "execution_count": null,
      "metadata": {
        "colab": {
          "base_uri": "https://localhost:8080/"
        },
        "id": "SvBY7du4PoKF",
        "outputId": "5dd43ae0-c92f-4fcc-b81d-7bd3f4cd16fb"
      },
      "outputs": [
        {
          "name": "stdout",
          "output_type": "stream",
          "text": [
            "R² Score (limited features): 0.6914271092644155\n",
            "MSE (limited features): 2094898714.1171165\n"
          ]
        }
      ],
      "source": [
        "rfr_lim = RandomForestRegressor(random_state=0, criterion='squared_error')\n",
        "rfr_lim.fit(x_important_train, y_train)\n",
        "pred_lim = rfr_lim.predict(x_important_test)\n",
        "print(\"R² Score (limited features):\", r2_score(y_test, pred_lim))\n",
        "print(\"MSE (limited features):\", mean_squared_error(y_test, pred_lim))"
      ]
    }
  ],
  "metadata": {
    "colab": {
      "provenance": [],
      "authorship_tag": "ABX9TyP8W375TbTnHKlK6kDhYLZI",
      "include_colab_link": true
    },
    "kernelspec": {
      "display_name": "Python 3",
      "name": "python3"
    },
    "language_info": {
      "name": "python"
    }
  },
  "nbformat": 4,
  "nbformat_minor": 0
}