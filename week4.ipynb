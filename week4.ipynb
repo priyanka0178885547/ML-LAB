{
  "nbformat": 4,
  "nbformat_minor": 0,
  "metadata": {
    "colab": {
      "provenance": [],
      "authorship_tag": "ABX9TyNy6CfRU6I3ztJT+2htWk0B",
      "include_colab_link": true
    },
    "kernelspec": {
      "name": "python3",
      "display_name": "Python 3"
    },
    "language_info": {
      "name": "python"
    }
  },
  "cells": [
    {
      "cell_type": "markdown",
      "metadata": {
        "id": "view-in-github",
        "colab_type": "text"
      },
      "source": [
        "<a href=\"https://colab.research.google.com/github/priyanka0178885547/ML-LAB/blob/main/week4.ipynb\" target=\"_parent\"><img src=\"https://colab.research.google.com/assets/colab-badge.svg\" alt=\"Open In Colab\"/></a>"
      ]
    },
    {
      "cell_type": "code",
      "execution_count": 2,
      "metadata": {
        "id": "watUAQ3ECt8N"
      },
      "outputs": [],
      "source": [
        "import pandas as pd\n",
        "import numpy as np"
      ]
    },
    {
      "cell_type": "code",
      "source": [
        "df=pd.read_csv('/content/titanic_train.csv')\n",
        "df.shape"
      ],
      "metadata": {
        "colab": {
          "base_uri": "https://localhost:8080/"
        },
        "id": "0WJMKW2cC5-n",
        "outputId": "9b9db2b3-70ae-485d-e8db-bc0fe18b757a"
      },
      "execution_count": 4,
      "outputs": [
        {
          "output_type": "execute_result",
          "data": {
            "text/plain": [
              "(891, 12)"
            ]
          },
          "metadata": {},
          "execution_count": 4
        }
      ]
    },
    {
      "cell_type": "code",
      "source": [
        "df.columns"
      ],
      "metadata": {
        "colab": {
          "base_uri": "https://localhost:8080/"
        },
        "id": "JsrF4pSGC-7C",
        "outputId": "5071b320-1b4c-4710-ca81-3d3336e9bb2f"
      },
      "execution_count": 5,
      "outputs": [
        {
          "output_type": "execute_result",
          "data": {
            "text/plain": [
              "Index(['PassengerId', 'Survived', 'Pclass', 'Name', 'Sex', 'Age', 'SibSp',\n",
              "       'Parch', 'Ticket', 'Fare', 'Cabin', 'Embarked'],\n",
              "      dtype='object')"
            ]
          },
          "metadata": {},
          "execution_count": 5
        }
      ]
    },
    {
      "cell_type": "code",
      "source": [
        "df=df.drop(['PassengerId','Name','Ticket'],axis=1)"
      ],
      "metadata": {
        "id": "rMuqrnHhDROL"
      },
      "execution_count": 6,
      "outputs": []
    },
    {
      "cell_type": "code",
      "source": [
        "df.head(5)"
      ],
      "metadata": {
        "colab": {
          "base_uri": "https://localhost:8080/",
          "height": 206
        },
        "id": "b6YIHmQFDWLp",
        "outputId": "45c064f1-f385-49cb-da8b-5fdb26baa520"
      },
      "execution_count": 7,
      "outputs": [
        {
          "output_type": "execute_result",
          "data": {
            "text/plain": [
              "   Survived  Pclass     Sex   Age  SibSp  Parch     Fare Cabin Embarked\n",
              "0         0       3    male  22.0      1      0   7.2500   NaN        S\n",
              "1         1       1  female  38.0      1      0  71.2833   C85        C\n",
              "2         1       3  female  26.0      0      0   7.9250   NaN        S\n",
              "3         1       1  female  35.0      1      0  53.1000  C123        S\n",
              "4         0       3    male  35.0      0      0   8.0500   NaN        S"
            ],
            "text/html": [
              "\n",
              "  <div id=\"df-e9d15af7-9a38-4cc4-bcf6-3bfe5f45e9f5\" class=\"colab-df-container\">\n",
              "    <div>\n",
              "<style scoped>\n",
              "    .dataframe tbody tr th:only-of-type {\n",
              "        vertical-align: middle;\n",
              "    }\n",
              "\n",
              "    .dataframe tbody tr th {\n",
              "        vertical-align: top;\n",
              "    }\n",
              "\n",
              "    .dataframe thead th {\n",
              "        text-align: right;\n",
              "    }\n",
              "</style>\n",
              "<table border=\"1\" class=\"dataframe\">\n",
              "  <thead>\n",
              "    <tr style=\"text-align: right;\">\n",
              "      <th></th>\n",
              "      <th>Survived</th>\n",
              "      <th>Pclass</th>\n",
              "      <th>Sex</th>\n",
              "      <th>Age</th>\n",
              "      <th>SibSp</th>\n",
              "      <th>Parch</th>\n",
              "      <th>Fare</th>\n",
              "      <th>Cabin</th>\n",
              "      <th>Embarked</th>\n",
              "    </tr>\n",
              "  </thead>\n",
              "  <tbody>\n",
              "    <tr>\n",
              "      <th>0</th>\n",
              "      <td>0</td>\n",
              "      <td>3</td>\n",
              "      <td>male</td>\n",
              "      <td>22.0</td>\n",
              "      <td>1</td>\n",
              "      <td>0</td>\n",
              "      <td>7.2500</td>\n",
              "      <td>NaN</td>\n",
              "      <td>S</td>\n",
              "    </tr>\n",
              "    <tr>\n",
              "      <th>1</th>\n",
              "      <td>1</td>\n",
              "      <td>1</td>\n",
              "      <td>female</td>\n",
              "      <td>38.0</td>\n",
              "      <td>1</td>\n",
              "      <td>0</td>\n",
              "      <td>71.2833</td>\n",
              "      <td>C85</td>\n",
              "      <td>C</td>\n",
              "    </tr>\n",
              "    <tr>\n",
              "      <th>2</th>\n",
              "      <td>1</td>\n",
              "      <td>3</td>\n",
              "      <td>female</td>\n",
              "      <td>26.0</td>\n",
              "      <td>0</td>\n",
              "      <td>0</td>\n",
              "      <td>7.9250</td>\n",
              "      <td>NaN</td>\n",
              "      <td>S</td>\n",
              "    </tr>\n",
              "    <tr>\n",
              "      <th>3</th>\n",
              "      <td>1</td>\n",
              "      <td>1</td>\n",
              "      <td>female</td>\n",
              "      <td>35.0</td>\n",
              "      <td>1</td>\n",
              "      <td>0</td>\n",
              "      <td>53.1000</td>\n",
              "      <td>C123</td>\n",
              "      <td>S</td>\n",
              "    </tr>\n",
              "    <tr>\n",
              "      <th>4</th>\n",
              "      <td>0</td>\n",
              "      <td>3</td>\n",
              "      <td>male</td>\n",
              "      <td>35.0</td>\n",
              "      <td>0</td>\n",
              "      <td>0</td>\n",
              "      <td>8.0500</td>\n",
              "      <td>NaN</td>\n",
              "      <td>S</td>\n",
              "    </tr>\n",
              "  </tbody>\n",
              "</table>\n",
              "</div>\n",
              "    <div class=\"colab-df-buttons\">\n",
              "\n",
              "  <div class=\"colab-df-container\">\n",
              "    <button class=\"colab-df-convert\" onclick=\"convertToInteractive('df-e9d15af7-9a38-4cc4-bcf6-3bfe5f45e9f5')\"\n",
              "            title=\"Convert this dataframe to an interactive table.\"\n",
              "            style=\"display:none;\">\n",
              "\n",
              "  <svg xmlns=\"http://www.w3.org/2000/svg\" height=\"24px\" viewBox=\"0 -960 960 960\">\n",
              "    <path d=\"M120-120v-720h720v720H120Zm60-500h600v-160H180v160Zm220 220h160v-160H400v160Zm0 220h160v-160H400v160ZM180-400h160v-160H180v160Zm440 0h160v-160H620v160ZM180-180h160v-160H180v160Zm440 0h160v-160H620v160Z\"/>\n",
              "  </svg>\n",
              "    </button>\n",
              "\n",
              "  <style>\n",
              "    .colab-df-container {\n",
              "      display:flex;\n",
              "      gap: 12px;\n",
              "    }\n",
              "\n",
              "    .colab-df-convert {\n",
              "      background-color: #E8F0FE;\n",
              "      border: none;\n",
              "      border-radius: 50%;\n",
              "      cursor: pointer;\n",
              "      display: none;\n",
              "      fill: #1967D2;\n",
              "      height: 32px;\n",
              "      padding: 0 0 0 0;\n",
              "      width: 32px;\n",
              "    }\n",
              "\n",
              "    .colab-df-convert:hover {\n",
              "      background-color: #E2EBFA;\n",
              "      box-shadow: 0px 1px 2px rgba(60, 64, 67, 0.3), 0px 1px 3px 1px rgba(60, 64, 67, 0.15);\n",
              "      fill: #174EA6;\n",
              "    }\n",
              "\n",
              "    .colab-df-buttons div {\n",
              "      margin-bottom: 4px;\n",
              "    }\n",
              "\n",
              "    [theme=dark] .colab-df-convert {\n",
              "      background-color: #3B4455;\n",
              "      fill: #D2E3FC;\n",
              "    }\n",
              "\n",
              "    [theme=dark] .colab-df-convert:hover {\n",
              "      background-color: #434B5C;\n",
              "      box-shadow: 0px 1px 3px 1px rgba(0, 0, 0, 0.15);\n",
              "      filter: drop-shadow(0px 1px 2px rgba(0, 0, 0, 0.3));\n",
              "      fill: #FFFFFF;\n",
              "    }\n",
              "  </style>\n",
              "\n",
              "    <script>\n",
              "      const buttonEl =\n",
              "        document.querySelector('#df-e9d15af7-9a38-4cc4-bcf6-3bfe5f45e9f5 button.colab-df-convert');\n",
              "      buttonEl.style.display =\n",
              "        google.colab.kernel.accessAllowed ? 'block' : 'none';\n",
              "\n",
              "      async function convertToInteractive(key) {\n",
              "        const element = document.querySelector('#df-e9d15af7-9a38-4cc4-bcf6-3bfe5f45e9f5');\n",
              "        const dataTable =\n",
              "          await google.colab.kernel.invokeFunction('convertToInteractive',\n",
              "                                                    [key], {});\n",
              "        if (!dataTable) return;\n",
              "\n",
              "        const docLinkHtml = 'Like what you see? Visit the ' +\n",
              "          '<a target=\"_blank\" href=https://colab.research.google.com/notebooks/data_table.ipynb>data table notebook</a>'\n",
              "          + ' to learn more about interactive tables.';\n",
              "        element.innerHTML = '';\n",
              "        dataTable['output_type'] = 'display_data';\n",
              "        await google.colab.output.renderOutput(dataTable, element);\n",
              "        const docLink = document.createElement('div');\n",
              "        docLink.innerHTML = docLinkHtml;\n",
              "        element.appendChild(docLink);\n",
              "      }\n",
              "    </script>\n",
              "  </div>\n",
              "\n",
              "\n",
              "    <div id=\"df-51b90735-d5eb-4632-b1d8-1c5c2448a2f6\">\n",
              "      <button class=\"colab-df-quickchart\" onclick=\"quickchart('df-51b90735-d5eb-4632-b1d8-1c5c2448a2f6')\"\n",
              "                title=\"Suggest charts\"\n",
              "                style=\"display:none;\">\n",
              "\n",
              "<svg xmlns=\"http://www.w3.org/2000/svg\" height=\"24px\"viewBox=\"0 0 24 24\"\n",
              "     width=\"24px\">\n",
              "    <g>\n",
              "        <path d=\"M19 3H5c-1.1 0-2 .9-2 2v14c0 1.1.9 2 2 2h14c1.1 0 2-.9 2-2V5c0-1.1-.9-2-2-2zM9 17H7v-7h2v7zm4 0h-2V7h2v10zm4 0h-2v-4h2v4z\"/>\n",
              "    </g>\n",
              "</svg>\n",
              "      </button>\n",
              "\n",
              "<style>\n",
              "  .colab-df-quickchart {\n",
              "      --bg-color: #E8F0FE;\n",
              "      --fill-color: #1967D2;\n",
              "      --hover-bg-color: #E2EBFA;\n",
              "      --hover-fill-color: #174EA6;\n",
              "      --disabled-fill-color: #AAA;\n",
              "      --disabled-bg-color: #DDD;\n",
              "  }\n",
              "\n",
              "  [theme=dark] .colab-df-quickchart {\n",
              "      --bg-color: #3B4455;\n",
              "      --fill-color: #D2E3FC;\n",
              "      --hover-bg-color: #434B5C;\n",
              "      --hover-fill-color: #FFFFFF;\n",
              "      --disabled-bg-color: #3B4455;\n",
              "      --disabled-fill-color: #666;\n",
              "  }\n",
              "\n",
              "  .colab-df-quickchart {\n",
              "    background-color: var(--bg-color);\n",
              "    border: none;\n",
              "    border-radius: 50%;\n",
              "    cursor: pointer;\n",
              "    display: none;\n",
              "    fill: var(--fill-color);\n",
              "    height: 32px;\n",
              "    padding: 0;\n",
              "    width: 32px;\n",
              "  }\n",
              "\n",
              "  .colab-df-quickchart:hover {\n",
              "    background-color: var(--hover-bg-color);\n",
              "    box-shadow: 0 1px 2px rgba(60, 64, 67, 0.3), 0 1px 3px 1px rgba(60, 64, 67, 0.15);\n",
              "    fill: var(--button-hover-fill-color);\n",
              "  }\n",
              "\n",
              "  .colab-df-quickchart-complete:disabled,\n",
              "  .colab-df-quickchart-complete:disabled:hover {\n",
              "    background-color: var(--disabled-bg-color);\n",
              "    fill: var(--disabled-fill-color);\n",
              "    box-shadow: none;\n",
              "  }\n",
              "\n",
              "  .colab-df-spinner {\n",
              "    border: 2px solid var(--fill-color);\n",
              "    border-color: transparent;\n",
              "    border-bottom-color: var(--fill-color);\n",
              "    animation:\n",
              "      spin 1s steps(1) infinite;\n",
              "  }\n",
              "\n",
              "  @keyframes spin {\n",
              "    0% {\n",
              "      border-color: transparent;\n",
              "      border-bottom-color: var(--fill-color);\n",
              "      border-left-color: var(--fill-color);\n",
              "    }\n",
              "    20% {\n",
              "      border-color: transparent;\n",
              "      border-left-color: var(--fill-color);\n",
              "      border-top-color: var(--fill-color);\n",
              "    }\n",
              "    30% {\n",
              "      border-color: transparent;\n",
              "      border-left-color: var(--fill-color);\n",
              "      border-top-color: var(--fill-color);\n",
              "      border-right-color: var(--fill-color);\n",
              "    }\n",
              "    40% {\n",
              "      border-color: transparent;\n",
              "      border-right-color: var(--fill-color);\n",
              "      border-top-color: var(--fill-color);\n",
              "    }\n",
              "    60% {\n",
              "      border-color: transparent;\n",
              "      border-right-color: var(--fill-color);\n",
              "    }\n",
              "    80% {\n",
              "      border-color: transparent;\n",
              "      border-right-color: var(--fill-color);\n",
              "      border-bottom-color: var(--fill-color);\n",
              "    }\n",
              "    90% {\n",
              "      border-color: transparent;\n",
              "      border-bottom-color: var(--fill-color);\n",
              "    }\n",
              "  }\n",
              "</style>\n",
              "\n",
              "      <script>\n",
              "        async function quickchart(key) {\n",
              "          const quickchartButtonEl =\n",
              "            document.querySelector('#' + key + ' button');\n",
              "          quickchartButtonEl.disabled = true;  // To prevent multiple clicks.\n",
              "          quickchartButtonEl.classList.add('colab-df-spinner');\n",
              "          try {\n",
              "            const charts = await google.colab.kernel.invokeFunction(\n",
              "                'suggestCharts', [key], {});\n",
              "          } catch (error) {\n",
              "            console.error('Error during call to suggestCharts:', error);\n",
              "          }\n",
              "          quickchartButtonEl.classList.remove('colab-df-spinner');\n",
              "          quickchartButtonEl.classList.add('colab-df-quickchart-complete');\n",
              "        }\n",
              "        (() => {\n",
              "          let quickchartButtonEl =\n",
              "            document.querySelector('#df-51b90735-d5eb-4632-b1d8-1c5c2448a2f6 button');\n",
              "          quickchartButtonEl.style.display =\n",
              "            google.colab.kernel.accessAllowed ? 'block' : 'none';\n",
              "        })();\n",
              "      </script>\n",
              "    </div>\n",
              "\n",
              "    </div>\n",
              "  </div>\n"
            ],
            "application/vnd.google.colaboratory.intrinsic+json": {
              "type": "dataframe",
              "variable_name": "df",
              "summary": "{\n  \"name\": \"df\",\n  \"rows\": 891,\n  \"fields\": [\n    {\n      \"column\": \"Survived\",\n      \"properties\": {\n        \"dtype\": \"number\",\n        \"std\": 0,\n        \"min\": 0,\n        \"max\": 1,\n        \"num_unique_values\": 2,\n        \"samples\": [\n          1,\n          0\n        ],\n        \"semantic_type\": \"\",\n        \"description\": \"\"\n      }\n    },\n    {\n      \"column\": \"Pclass\",\n      \"properties\": {\n        \"dtype\": \"number\",\n        \"std\": 0,\n        \"min\": 1,\n        \"max\": 3,\n        \"num_unique_values\": 3,\n        \"samples\": [\n          3,\n          1\n        ],\n        \"semantic_type\": \"\",\n        \"description\": \"\"\n      }\n    },\n    {\n      \"column\": \"Sex\",\n      \"properties\": {\n        \"dtype\": \"category\",\n        \"num_unique_values\": 2,\n        \"samples\": [\n          \"female\",\n          \"male\"\n        ],\n        \"semantic_type\": \"\",\n        \"description\": \"\"\n      }\n    },\n    {\n      \"column\": \"Age\",\n      \"properties\": {\n        \"dtype\": \"number\",\n        \"std\": 14.526497332334044,\n        \"min\": 0.42,\n        \"max\": 80.0,\n        \"num_unique_values\": 88,\n        \"samples\": [\n          0.75,\n          22.0\n        ],\n        \"semantic_type\": \"\",\n        \"description\": \"\"\n      }\n    },\n    {\n      \"column\": \"SibSp\",\n      \"properties\": {\n        \"dtype\": \"number\",\n        \"std\": 1,\n        \"min\": 0,\n        \"max\": 8,\n        \"num_unique_values\": 7,\n        \"samples\": [\n          1,\n          0\n        ],\n        \"semantic_type\": \"\",\n        \"description\": \"\"\n      }\n    },\n    {\n      \"column\": \"Parch\",\n      \"properties\": {\n        \"dtype\": \"number\",\n        \"std\": 0,\n        \"min\": 0,\n        \"max\": 6,\n        \"num_unique_values\": 7,\n        \"samples\": [\n          0,\n          1\n        ],\n        \"semantic_type\": \"\",\n        \"description\": \"\"\n      }\n    },\n    {\n      \"column\": \"Fare\",\n      \"properties\": {\n        \"dtype\": \"number\",\n        \"std\": 49.693428597180905,\n        \"min\": 0.0,\n        \"max\": 512.3292,\n        \"num_unique_values\": 248,\n        \"samples\": [\n          11.2417,\n          51.8625\n        ],\n        \"semantic_type\": \"\",\n        \"description\": \"\"\n      }\n    },\n    {\n      \"column\": \"Cabin\",\n      \"properties\": {\n        \"dtype\": \"category\",\n        \"num_unique_values\": 147,\n        \"samples\": [\n          \"D45\",\n          \"B49\"\n        ],\n        \"semantic_type\": \"\",\n        \"description\": \"\"\n      }\n    },\n    {\n      \"column\": \"Embarked\",\n      \"properties\": {\n        \"dtype\": \"category\",\n        \"num_unique_values\": 3,\n        \"samples\": [\n          \"S\",\n          \"C\"\n        ],\n        \"semantic_type\": \"\",\n        \"description\": \"\"\n      }\n    }\n  ]\n}"
            }
          },
          "metadata": {},
          "execution_count": 7
        }
      ]
    },
    {
      "cell_type": "code",
      "source": [
        "[col for col in df.columns if df[col].isnull().sum()>0]\n"
      ],
      "metadata": {
        "colab": {
          "base_uri": "https://localhost:8080/"
        },
        "id": "reIPU1RzDcQ2",
        "outputId": "6d91e4d7-a5b1-43dc-a150-1c8d98d32f7a"
      },
      "execution_count": 8,
      "outputs": [
        {
          "output_type": "execute_result",
          "data": {
            "text/plain": [
              "['Age', 'Cabin', 'Embarked']"
            ]
          },
          "metadata": {},
          "execution_count": 8
        }
      ]
    },
    {
      "cell_type": "code",
      "source": [
        "df['Age'] = df['Age'].fillna(df['Age'].median())"
      ],
      "metadata": {
        "id": "Il-oNUBnDmxM"
      },
      "execution_count": 9,
      "outputs": []
    },
    {
      "cell_type": "code",
      "source": [
        "df=df.drop(['Embarked','Cabin'],axis=1)"
      ],
      "metadata": {
        "id": "rJgv5wKlDrfH"
      },
      "execution_count": 10,
      "outputs": []
    },
    {
      "cell_type": "code",
      "source": [
        "from sklearn.ensemble import RandomForestClassifier,RandomForestRegressor"
      ],
      "metadata": {
        "id": "9BA_Q1BQDyfL"
      },
      "execution_count": 11,
      "outputs": []
    },
    {
      "cell_type": "code",
      "source": [
        "from sklearn.metrics import roc_auc_score"
      ],
      "metadata": {
        "id": "I6NyGdlhD6Eu"
      },
      "execution_count": 12,
      "outputs": []
    },
    {
      "cell_type": "code",
      "source": [
        "from mlxtend.feature_selection import SequentialFeatureSelector as SFS"
      ],
      "metadata": {
        "id": "L55m3V5CD_oh"
      },
      "execution_count": 13,
      "outputs": []
    },
    {
      "cell_type": "code",
      "source": [
        "X = df.drop('Survived',axis=1)\n",
        "y = df['Survived']"
      ],
      "metadata": {
        "id": "o4SjL8TOEFe_"
      },
      "execution_count": 14,
      "outputs": []
    },
    {
      "cell_type": "code",
      "source": [
        "X = pd.get_dummies(X,drop_first=True)\n"
      ],
      "metadata": {
        "id": "Fgx0akiLEI2R"
      },
      "execution_count": 15,
      "outputs": []
    },
    {
      "cell_type": "code",
      "source": [
        "from sklearn.model_selection import train_test_split\n"
      ],
      "metadata": {
        "id": "dfdVhSnCEOQf"
      },
      "execution_count": 16,
      "outputs": []
    },
    {
      "cell_type": "code",
      "source": [
        "x_train,x_test,y_train,y_test=train_test_split(X,y,test_size=0.3,random_state=0)"
      ],
      "metadata": {
        "id": "hqqTQHleESK1"
      },
      "execution_count": 17,
      "outputs": []
    },
    {
      "cell_type": "code",
      "source": [
        "grouped_feature_ls = []\n",
        "correlated_groups = []\n",
        "def correlation (dataset, threshold):\n",
        "    col_corr = set()\n",
        "    corr_matrix = dataset.corr()\n",
        "    for i in range(len(corr_matrix.columns)):\n",
        "        for j in range(i):\n",
        "            if abs(corr_matrix.iloc[i, j]) > threshold:\n",
        "                colname=corr_matrix.columns[i]\n",
        "                col_corr.add(colname)\n",
        "    return col_corr\n",
        "corr_features=correlation (x_test, 0.9)\n",
        "correlated_features = set(corr_features)\n",
        "print(len(correlated_features))"
      ],
      "metadata": {
        "colab": {
          "base_uri": "https://localhost:8080/"
        },
        "id": "CUNvnidsEWGW",
        "outputId": "5f954578-e34b-4015-fb72-aa39f0521836"
      },
      "execution_count": 18,
      "outputs": [
        {
          "output_type": "stream",
          "name": "stdout",
          "text": [
            "0\n"
          ]
        }
      ]
    },
    {
      "cell_type": "code",
      "source": [
        "sfs1=SFS(RandomForestClassifier(n_jobs=4),k_features=5,forward=True,verbose=2,scoring='roc_auc' or 'accuracy',cv=3)\n"
      ],
      "metadata": {
        "id": "Cr1hkhCDEaOt"
      },
      "execution_count": 19,
      "outputs": []
    },
    {
      "cell_type": "code",
      "source": [
        "sfs1=sfs1.fit(np.array(x_train.fillna(0)),y_train)"
      ],
      "metadata": {
        "colab": {
          "base_uri": "https://localhost:8080/"
        },
        "id": "PsW80KQUEehZ",
        "outputId": "d3b1e04f-aa4a-4013-9111-1f0045b4123b"
      },
      "execution_count": 20,
      "outputs": [
        {
          "output_type": "stream",
          "name": "stderr",
          "text": [
            "[Parallel(n_jobs=1)]: Done   6 out of   6 | elapsed:    5.0s finished\n",
            "\n",
            "[2025-08-27 10:41:59] Features: 1/5 -- score: 0.765194136612553[Parallel(n_jobs=1)]: Done   5 out of   5 | elapsed:    4.6s finished\n",
            "\n",
            "[2025-08-27 10:42:04] Features: 2/5 -- score: 0.832223720877483[Parallel(n_jobs=1)]: Done   4 out of   4 | elapsed:    3.3s finished\n",
            "\n",
            "[2025-08-27 10:42:07] Features: 3/5 -- score: 0.8381843183953857[Parallel(n_jobs=1)]: Done   3 out of   3 | elapsed:    2.4s finished\n",
            "\n",
            "[2025-08-27 10:42:10] Features: 4/5 -- score: 0.8429135883477527[Parallel(n_jobs=1)]: Done   2 out of   2 | elapsed:    1.7s finished\n",
            "\n",
            "[2025-08-27 10:42:11] Features: 5/5 -- score: 0.8467171348951751"
          ]
        }
      ]
    },
    {
      "cell_type": "code",
      "source": [
        "print('best accracy score',sfs1.k_score_)\n",
        "print('best subset(indices)',sfs1.k_feature_idx_)\n",
        "print('Best subset (corresponding names):', sfs1.k_feature_names_)"
      ],
      "metadata": {
        "colab": {
          "base_uri": "https://localhost:8080/"
        },
        "id": "G_VKkEESEka1",
        "outputId": "c3bfa6ca-798c-4205-c9bc-5f872d6de910"
      },
      "execution_count": 21,
      "outputs": [
        {
          "output_type": "stream",
          "name": "stdout",
          "text": [
            "best accracy score 0.8467171348951751\n",
            "best subset(indices) (0, 1, 2, 4, 5)\n",
            "Best subset (corresponding names): ('0', '1', '2', '4', '5')\n"
          ]
        }
      ]
    },
    {
      "cell_type": "code",
      "source": [
        "sfs2=SFS(RandomForestClassifier(n_jobs=4),k_features=5,forward=False,verbose=2,scoring='roc_auc' or 'accuracy',cv=3)\n",
        "sfs2=sfs2.fit(np.array(x_train.fillna(0)),y_train)\n",
        "print('best accracy score',sfs2.k_score_)\n",
        "print('best subset(indices)',sfs2.k_feature_idx_)\n",
        "print('Best subset (corresponding names):', sfs2.k_feature_names_)"
      ],
      "metadata": {
        "colab": {
          "base_uri": "https://localhost:8080/"
        },
        "id": "DkuM1NmvEvkk",
        "outputId": "cd780c2c-433e-4e55-93ac-98ea6d9dd969"
      },
      "execution_count": 22,
      "outputs": [
        {
          "output_type": "stream",
          "name": "stdout",
          "text": [
            "best accracy score 0.8450973720877483\n",
            "best subset(indices) (0, 1, 3, 4, 5)\n",
            "Best subset (corresponding names): ('0', '1', '3', '4', '5')\n"
          ]
        },
        {
          "output_type": "stream",
          "name": "stderr",
          "text": [
            "[Parallel(n_jobs=1)]: Done   6 out of   6 | elapsed:    5.0s finished\n",
            "\n",
            "[2025-08-27 10:42:25] Features: 5/5 -- score: 0.8450973720877483"
          ]
        }
      ]
    },
    {
      "cell_type": "code",
      "source": [
        "from mlxtend.feature_selection import ExhaustiveFeatureSelector as EFS\n",
        "efs=EFS(RandomForestClassifier(n_jobs=4),min_features=1,max_features=4,scoring='accuracy',cv=5)\n",
        "efs=efs.fit(x_train,y_train)\n",
        "print('best accuracy score',efs.best_score_)\n",
        "print('best subset(indices)',efs.best_idx_)\n",
        "print('Best subset (corresponding names):', efs.best_feature_names_)"
      ],
      "metadata": {
        "colab": {
          "base_uri": "https://localhost:8080/"
        },
        "id": "xWK0t_ZaE08C",
        "outputId": "91fb8f70-ebc1-4c79-990a-ad91dc385550"
      },
      "execution_count": 23,
      "outputs": [
        {
          "output_type": "stream",
          "name": "stderr",
          "text": [
            "Features: 56/56"
          ]
        },
        {
          "output_type": "stream",
          "name": "stdout",
          "text": [
            "best accuracy score 0.8170967741935483\n",
            "best subset(indices) (0, 1, 2, 5)\n",
            "Best subset (corresponding names): ('Pclass', 'Age', 'SibSp', 'Sex_male')\n"
          ]
        }
      ]
    },
    {
      "cell_type": "code",
      "source": [
        "efs_results = pd.DataFrame.from_dict(efs.get_metric_dict()).T\n",
        "efs_results.sort_values(by='avg_score', ascending=True, inplace=True)\n",
        "efs_results"
      ],
      "metadata": {
        "colab": {
          "base_uri": "https://localhost:8080/",
          "height": 1000
        },
        "id": "3NkV0BfhE-VX",
        "outputId": "98367277-a7ba-497d-967b-5aac77b5b2bb"
      },
      "execution_count": 24,
      "outputs": [
        {
          "output_type": "execute_result",
          "data": {
            "text/plain": [
              "     feature_idx                                          cv_scores avg_score  \\\n",
              "1           (1,)  [0.608, 0.544, 0.608, 0.5806451612903226, 0.60...  0.589097   \n",
              "12        (1, 3)  [0.56, 0.568, 0.64, 0.6209677419354839, 0.6129...  0.600374   \n",
              "34     (1, 3, 4)  [0.584, 0.6, 0.616, 0.5887096774193549, 0.6290...  0.603548   \n",
              "11        (1, 2)  [0.64, 0.584, 0.616, 0.5645161290322581, 0.620...  0.605097   \n",
              "3           (3,)  [0.568, 0.6, 0.672, 0.6048387096774194, 0.6451...     0.618   \n",
              "31     (1, 2, 3)  [0.624, 0.576, 0.688, 0.5967741935483871, 0.61...  0.619535   \n",
              "13        (1, 4)  [0.616, 0.608, 0.632, 0.6048387096774194, 0.63...  0.619587   \n",
              "2           (2,)  [0.624, 0.6, 0.656, 0.5645161290322581, 0.7177...  0.632452   \n",
              "21     (0, 1, 2)  [0.616, 0.632, 0.712, 0.5967741935483871, 0.64...  0.640387   \n",
              "32     (1, 2, 4)  [0.672, 0.664, 0.648, 0.6048387096774194, 0.63...  0.645187   \n",
              "23     (0, 1, 4)  [0.648, 0.648, 0.648, 0.6129032258064516, 0.66...  0.645252   \n",
              "6         (0, 1)  [0.632, 0.632, 0.672, 0.6209677419354839, 0.66...  0.645265   \n",
              "44  (0, 1, 3, 4)  [0.624, 0.64, 0.664, 0.6612903225806451, 0.637...  0.645277   \n",
              "51  (1, 2, 3, 4)  [0.648, 0.672, 0.664, 0.6370967741935484, 0.62...  0.650026   \n",
              "42  (0, 1, 2, 4)  [0.664, 0.656, 0.648, 0.6209677419354839, 0.66...  0.651665   \n",
              "0           (0,)  [0.64, 0.656, 0.68, 0.6693548387096774, 0.6290...  0.654877   \n",
              "15        (2, 3)  [0.648, 0.64, 0.72, 0.6209677419354839, 0.6774...  0.661277   \n",
              "18        (3, 4)  [0.664, 0.664, 0.648, 0.6612903225806451, 0.69...  0.666168   \n",
              "47  (0, 2, 3, 4)  [0.688, 0.648, 0.672, 0.6693548387096774, 0.66...  0.667729   \n",
              "16        (2, 4)  [0.664, 0.68, 0.736, 0.6451612903225806, 0.637...  0.672452   \n",
              "26     (0, 2, 4)  [0.696, 0.664, 0.68, 0.6612903225806451, 0.661...  0.672516   \n",
              "41  (0, 1, 2, 3)  [0.624, 0.64, 0.768, 0.6854838709677419, 0.645...  0.672529   \n",
              "4           (4,)  [0.696, 0.68, 0.608, 0.7096774193548387, 0.685...  0.675832   \n",
              "22     (0, 1, 3)  [0.632, 0.672, 0.744, 0.6693548387096774, 0.66...  0.677342   \n",
              "25     (0, 2, 3)  [0.664, 0.696, 0.672, 0.6774193548387096, 0.67...  0.677368   \n",
              "7         (0, 2)  [0.656, 0.672, 0.688, 0.6774193548387096, 0.70...  0.680619   \n",
              "37     (2, 3, 4)  [0.704, 0.664, 0.704, 0.6612903225806451, 0.67...  0.682142   \n",
              "9         (0, 4)  [0.664, 0.688, 0.672, 0.6935483870967742, 0.70...  0.683832   \n",
              "28     (0, 3, 4)  [0.68, 0.704, 0.704, 0.6854838709677419, 0.701...  0.695019   \n",
              "8         (0, 3)  [0.672, 0.704, 0.736, 0.6935483870967742, 0.70...  0.703045   \n",
              "35     (1, 3, 5)  [0.752, 0.768, 0.696, 0.7580645161290323, 0.81...  0.757716   \n",
              "54  (1, 3, 4, 5)  [0.712, 0.784, 0.752, 0.7661290322580645, 0.79...   0.76089   \n",
              "10        (0, 5)                    [0.752, 0.8, 0.768, 0.75, 0.75]     0.764   \n",
              "36     (1, 4, 5)    [0.704, 0.808, 0.736, 0.75, 0.8306451612903226]  0.765729   \n",
              "55  (2, 3, 4, 5)  [0.728, 0.816, 0.776, 0.7741935483870968, 0.74...  0.767226   \n",
              "52  (1, 2, 3, 5)  [0.736, 0.752, 0.76, 0.8064516129032258, 0.790...  0.768955   \n",
              "39     (2, 4, 5)    [0.752, 0.824, 0.776, 0.7661290322580645, 0.75]  0.773626   \n",
              "14        (1, 5)  [0.736, 0.824, 0.704, 0.7983870967741935, 0.80...  0.773768   \n",
              "38     (2, 3, 5)  [0.784, 0.792, 0.752, 0.7419354838709677, 0.81...   0.77689   \n",
              "48  (0, 2, 3, 5)  [0.784, 0.8, 0.792, 0.7419354838709677, 0.7903...  0.781652   \n",
              "53  (1, 2, 4, 5)  [0.744, 0.792, 0.792, 0.7580645161290323, 0.82...  0.781729   \n",
              "33     (1, 2, 5)  [0.736, 0.76, 0.76, 0.8145161290322581, 0.8467...  0.783458   \n",
              "50  (0, 3, 4, 5)  [0.776, 0.824, 0.784, 0.782258064516129, 0.766...  0.786477   \n",
              "20        (4, 5)  [0.744, 0.808, 0.784, 0.8064516129032258, 0.79...  0.786555   \n",
              "5           (5,)  [0.752, 0.8, 0.768, 0.7983870967741935, 0.8145...  0.786581   \n",
              "40     (3, 4, 5)  [0.736, 0.84, 0.776, 0.7580645161290323, 0.830...  0.788142   \n",
              "19        (3, 5)  [0.768, 0.8, 0.768, 0.7903225806451613, 0.8225...  0.789781   \n",
              "46  (0, 1, 4, 5)  [0.768, 0.8, 0.776, 0.7741935483870968, 0.8387...  0.791381   \n",
              "27     (0, 2, 5)  [0.776, 0.8, 0.76, 0.8064516129032258, 0.81451...  0.791394   \n",
              "29     (0, 3, 5)  [0.776, 0.816, 0.792, 0.7580645161290323, 0.82...  0.792929   \n",
              "17        (2, 5)  [0.76, 0.792, 0.768, 0.8145161290322581, 0.830...  0.793032   \n",
              "49  (0, 2, 4, 5)  [0.8, 0.848, 0.784, 0.7741935483870968, 0.7741...  0.796077   \n",
              "45  (0, 1, 3, 5)  [0.776, 0.816, 0.792, 0.7983870967741935, 0.86...  0.809058   \n",
              "24     (0, 1, 5)  [0.784, 0.824, 0.776, 0.7983870967741935, 0.86...  0.809058   \n",
              "30     (0, 4, 5)  [0.784, 0.832, 0.816, 0.8145161290322581, 0.81...  0.812206   \n",
              "43  (0, 1, 2, 5)  [0.736, 0.848, 0.816, 0.8306451612903226, 0.85...  0.817097   \n",
              "\n",
              "                       feature_names  ci_bound   std_dev   std_err  \n",
              "1                             (Age,)  0.031836  0.024769  0.012385  \n",
              "12                      (Age, Parch)  0.039945  0.031079  0.015539  \n",
              "34                (Age, Parch, Fare)  0.021655  0.016849  0.008424  \n",
              "11                      (Age, SibSp)  0.034873  0.027133  0.013566  \n",
              "3                           (Parch,)  0.046877  0.036472  0.018236  \n",
              "31               (Age, SibSp, Parch)  0.048654  0.037854  0.018927  \n",
              "13                       (Age, Fare)  0.016513  0.012848  0.006424  \n",
              "2                           (SibSp,)  0.066955  0.052094  0.026047  \n",
              "21              (Pclass, Age, SibSp)  0.050499   0.03929  0.019645  \n",
              "32                (Age, SibSp, Fare)  0.030275  0.023555  0.011778  \n",
              "23               (Pclass, Age, Fare)  0.023349  0.018166  0.009083  \n",
              "6                      (Pclass, Age)  0.027188  0.021154  0.010577  \n",
              "44        (Pclass, Age, Parch, Fare)   0.01953  0.015195  0.007598  \n",
              "51         (Age, SibSp, Parch, Fare)  0.020646  0.016063  0.008032  \n",
              "42        (Pclass, Age, SibSp, Fare)  0.021809  0.016968  0.008484  \n",
              "0                          (Pclass,)  0.023917  0.018608  0.009304  \n",
              "15                    (SibSp, Parch)  0.044386  0.034533  0.017267  \n",
              "18                     (Parch, Fare)  0.019176  0.014919   0.00746  \n",
              "47      (Pclass, SibSp, Parch, Fare)  0.016881  0.013134  0.006567  \n",
              "16                     (SibSp, Fare)  0.045119  0.035104  0.017552  \n",
              "26             (Pclass, SibSp, Fare)  0.017548  0.013653  0.006827  \n",
              "41       (Pclass, Age, SibSp, Parch)  0.066649  0.051855  0.025928  \n",
              "4                            (Fare,)  0.045493  0.035395  0.017697  \n",
              "22              (Pclass, Age, Parch)  0.046892  0.036484  0.018242  \n",
              "25            (Pclass, SibSp, Parch)  0.013537  0.010533  0.005266  \n",
              "7                    (Pclass, SibSp)  0.022916   0.01783  0.008915  \n",
              "37              (SibSp, Parch, Fare)  0.023989  0.018664  0.009332  \n",
              "9                     (Pclass, Fare)  0.017821  0.013865  0.006933  \n",
              "28             (Pclass, Parch, Fare)  0.013124  0.010211  0.005105  \n",
              "8                    (Pclass, Parch)  0.026868  0.020904  0.010452  \n",
              "35            (Age, Parch, Sex_male)  0.048684  0.037878  0.018939  \n",
              "54      (Age, Parch, Fare, Sex_male)  0.035883  0.027918  0.013959  \n",
              "10                (Pclass, Sex_male)   0.02471  0.019225  0.009612  \n",
              "36             (Age, Fare, Sex_male)  0.060128  0.046782  0.023391  \n",
              "55    (SibSp, Parch, Fare, Sex_male)  0.039334  0.030603  0.015302  \n",
              "52     (Age, SibSp, Parch, Sex_male)  0.033101  0.025754  0.012877  \n",
              "39           (SibSp, Fare, Sex_male)  0.034609  0.026927  0.013463  \n",
              "14                   (Age, Sex_male)  0.058876  0.045807  0.022904  \n",
              "38          (SibSp, Parch, Sex_male)   0.03418  0.026593  0.013296  \n",
              "48  (Pclass, SibSp, Parch, Sex_male)  0.026352  0.020503  0.010251  \n",
              "53      (Age, SibSp, Fare, Sex_male)  0.035727  0.027797  0.013898  \n",
              "33            (Age, SibSp, Sex_male)   0.05245  0.040808  0.020404  \n",
              "50   (Pclass, Parch, Fare, Sex_male)   0.02542  0.019777  0.009889  \n",
              "20                  (Fare, Sex_male)  0.029798  0.023184  0.011592  \n",
              "5                        (Sex_male,)  0.029539  0.022982  0.011491  \n",
              "40           (Parch, Fare, Sex_male)  0.052261  0.040661  0.020331  \n",
              "19                 (Parch, Sex_male)  0.026524  0.020637  0.010318  \n",
              "46     (Pclass, Age, Fare, Sex_male)  0.033481   0.02605  0.013025  \n",
              "27         (Pclass, SibSp, Sex_male)  0.026076  0.020288  0.010144  \n",
              "29         (Pclass, Parch, Sex_male)  0.031031  0.024143  0.012072  \n",
              "17                 (SibSp, Sex_male)  0.034464  0.026815  0.013407  \n",
              "49   (Pclass, SibSp, Fare, Sex_male)  0.035503  0.027623  0.013811  \n",
              "45    (Pclass, Age, Parch, Sex_male)  0.038323  0.029817  0.014908  \n",
              "24           (Pclass, Age, Sex_male)   0.04047  0.031487  0.015744  \n",
              "30          (Pclass, Fare, Sex_male)  0.020015  0.015572  0.007786  \n",
              "43    (Pclass, Age, SibSp, Sex_male)  0.054956  0.042757  0.021379  "
            ],
            "text/html": [
              "\n",
              "  <div id=\"df-6f4c5461-f902-4394-87d2-e99601ec34c6\" class=\"colab-df-container\">\n",
              "    <div>\n",
              "<style scoped>\n",
              "    .dataframe tbody tr th:only-of-type {\n",
              "        vertical-align: middle;\n",
              "    }\n",
              "\n",
              "    .dataframe tbody tr th {\n",
              "        vertical-align: top;\n",
              "    }\n",
              "\n",
              "    .dataframe thead th {\n",
              "        text-align: right;\n",
              "    }\n",
              "</style>\n",
              "<table border=\"1\" class=\"dataframe\">\n",
              "  <thead>\n",
              "    <tr style=\"text-align: right;\">\n",
              "      <th></th>\n",
              "      <th>feature_idx</th>\n",
              "      <th>cv_scores</th>\n",
              "      <th>avg_score</th>\n",
              "      <th>feature_names</th>\n",
              "      <th>ci_bound</th>\n",
              "      <th>std_dev</th>\n",
              "      <th>std_err</th>\n",
              "    </tr>\n",
              "  </thead>\n",
              "  <tbody>\n",
              "    <tr>\n",
              "      <th>1</th>\n",
              "      <td>(1,)</td>\n",
              "      <td>[0.608, 0.544, 0.608, 0.5806451612903226, 0.60...</td>\n",
              "      <td>0.589097</td>\n",
              "      <td>(Age,)</td>\n",
              "      <td>0.031836</td>\n",
              "      <td>0.024769</td>\n",
              "      <td>0.012385</td>\n",
              "    </tr>\n",
              "    <tr>\n",
              "      <th>12</th>\n",
              "      <td>(1, 3)</td>\n",
              "      <td>[0.56, 0.568, 0.64, 0.6209677419354839, 0.6129...</td>\n",
              "      <td>0.600374</td>\n",
              "      <td>(Age, Parch)</td>\n",
              "      <td>0.039945</td>\n",
              "      <td>0.031079</td>\n",
              "      <td>0.015539</td>\n",
              "    </tr>\n",
              "    <tr>\n",
              "      <th>34</th>\n",
              "      <td>(1, 3, 4)</td>\n",
              "      <td>[0.584, 0.6, 0.616, 0.5887096774193549, 0.6290...</td>\n",
              "      <td>0.603548</td>\n",
              "      <td>(Age, Parch, Fare)</td>\n",
              "      <td>0.021655</td>\n",
              "      <td>0.016849</td>\n",
              "      <td>0.008424</td>\n",
              "    </tr>\n",
              "    <tr>\n",
              "      <th>11</th>\n",
              "      <td>(1, 2)</td>\n",
              "      <td>[0.64, 0.584, 0.616, 0.5645161290322581, 0.620...</td>\n",
              "      <td>0.605097</td>\n",
              "      <td>(Age, SibSp)</td>\n",
              "      <td>0.034873</td>\n",
              "      <td>0.027133</td>\n",
              "      <td>0.013566</td>\n",
              "    </tr>\n",
              "    <tr>\n",
              "      <th>3</th>\n",
              "      <td>(3,)</td>\n",
              "      <td>[0.568, 0.6, 0.672, 0.6048387096774194, 0.6451...</td>\n",
              "      <td>0.618</td>\n",
              "      <td>(Parch,)</td>\n",
              "      <td>0.046877</td>\n",
              "      <td>0.036472</td>\n",
              "      <td>0.018236</td>\n",
              "    </tr>\n",
              "    <tr>\n",
              "      <th>31</th>\n",
              "      <td>(1, 2, 3)</td>\n",
              "      <td>[0.624, 0.576, 0.688, 0.5967741935483871, 0.61...</td>\n",
              "      <td>0.619535</td>\n",
              "      <td>(Age, SibSp, Parch)</td>\n",
              "      <td>0.048654</td>\n",
              "      <td>0.037854</td>\n",
              "      <td>0.018927</td>\n",
              "    </tr>\n",
              "    <tr>\n",
              "      <th>13</th>\n",
              "      <td>(1, 4)</td>\n",
              "      <td>[0.616, 0.608, 0.632, 0.6048387096774194, 0.63...</td>\n",
              "      <td>0.619587</td>\n",
              "      <td>(Age, Fare)</td>\n",
              "      <td>0.016513</td>\n",
              "      <td>0.012848</td>\n",
              "      <td>0.006424</td>\n",
              "    </tr>\n",
              "    <tr>\n",
              "      <th>2</th>\n",
              "      <td>(2,)</td>\n",
              "      <td>[0.624, 0.6, 0.656, 0.5645161290322581, 0.7177...</td>\n",
              "      <td>0.632452</td>\n",
              "      <td>(SibSp,)</td>\n",
              "      <td>0.066955</td>\n",
              "      <td>0.052094</td>\n",
              "      <td>0.026047</td>\n",
              "    </tr>\n",
              "    <tr>\n",
              "      <th>21</th>\n",
              "      <td>(0, 1, 2)</td>\n",
              "      <td>[0.616, 0.632, 0.712, 0.5967741935483871, 0.64...</td>\n",
              "      <td>0.640387</td>\n",
              "      <td>(Pclass, Age, SibSp)</td>\n",
              "      <td>0.050499</td>\n",
              "      <td>0.03929</td>\n",
              "      <td>0.019645</td>\n",
              "    </tr>\n",
              "    <tr>\n",
              "      <th>32</th>\n",
              "      <td>(1, 2, 4)</td>\n",
              "      <td>[0.672, 0.664, 0.648, 0.6048387096774194, 0.63...</td>\n",
              "      <td>0.645187</td>\n",
              "      <td>(Age, SibSp, Fare)</td>\n",
              "      <td>0.030275</td>\n",
              "      <td>0.023555</td>\n",
              "      <td>0.011778</td>\n",
              "    </tr>\n",
              "    <tr>\n",
              "      <th>23</th>\n",
              "      <td>(0, 1, 4)</td>\n",
              "      <td>[0.648, 0.648, 0.648, 0.6129032258064516, 0.66...</td>\n",
              "      <td>0.645252</td>\n",
              "      <td>(Pclass, Age, Fare)</td>\n",
              "      <td>0.023349</td>\n",
              "      <td>0.018166</td>\n",
              "      <td>0.009083</td>\n",
              "    </tr>\n",
              "    <tr>\n",
              "      <th>6</th>\n",
              "      <td>(0, 1)</td>\n",
              "      <td>[0.632, 0.632, 0.672, 0.6209677419354839, 0.66...</td>\n",
              "      <td>0.645265</td>\n",
              "      <td>(Pclass, Age)</td>\n",
              "      <td>0.027188</td>\n",
              "      <td>0.021154</td>\n",
              "      <td>0.010577</td>\n",
              "    </tr>\n",
              "    <tr>\n",
              "      <th>44</th>\n",
              "      <td>(0, 1, 3, 4)</td>\n",
              "      <td>[0.624, 0.64, 0.664, 0.6612903225806451, 0.637...</td>\n",
              "      <td>0.645277</td>\n",
              "      <td>(Pclass, Age, Parch, Fare)</td>\n",
              "      <td>0.01953</td>\n",
              "      <td>0.015195</td>\n",
              "      <td>0.007598</td>\n",
              "    </tr>\n",
              "    <tr>\n",
              "      <th>51</th>\n",
              "      <td>(1, 2, 3, 4)</td>\n",
              "      <td>[0.648, 0.672, 0.664, 0.6370967741935484, 0.62...</td>\n",
              "      <td>0.650026</td>\n",
              "      <td>(Age, SibSp, Parch, Fare)</td>\n",
              "      <td>0.020646</td>\n",
              "      <td>0.016063</td>\n",
              "      <td>0.008032</td>\n",
              "    </tr>\n",
              "    <tr>\n",
              "      <th>42</th>\n",
              "      <td>(0, 1, 2, 4)</td>\n",
              "      <td>[0.664, 0.656, 0.648, 0.6209677419354839, 0.66...</td>\n",
              "      <td>0.651665</td>\n",
              "      <td>(Pclass, Age, SibSp, Fare)</td>\n",
              "      <td>0.021809</td>\n",
              "      <td>0.016968</td>\n",
              "      <td>0.008484</td>\n",
              "    </tr>\n",
              "    <tr>\n",
              "      <th>0</th>\n",
              "      <td>(0,)</td>\n",
              "      <td>[0.64, 0.656, 0.68, 0.6693548387096774, 0.6290...</td>\n",
              "      <td>0.654877</td>\n",
              "      <td>(Pclass,)</td>\n",
              "      <td>0.023917</td>\n",
              "      <td>0.018608</td>\n",
              "      <td>0.009304</td>\n",
              "    </tr>\n",
              "    <tr>\n",
              "      <th>15</th>\n",
              "      <td>(2, 3)</td>\n",
              "      <td>[0.648, 0.64, 0.72, 0.6209677419354839, 0.6774...</td>\n",
              "      <td>0.661277</td>\n",
              "      <td>(SibSp, Parch)</td>\n",
              "      <td>0.044386</td>\n",
              "      <td>0.034533</td>\n",
              "      <td>0.017267</td>\n",
              "    </tr>\n",
              "    <tr>\n",
              "      <th>18</th>\n",
              "      <td>(3, 4)</td>\n",
              "      <td>[0.664, 0.664, 0.648, 0.6612903225806451, 0.69...</td>\n",
              "      <td>0.666168</td>\n",
              "      <td>(Parch, Fare)</td>\n",
              "      <td>0.019176</td>\n",
              "      <td>0.014919</td>\n",
              "      <td>0.00746</td>\n",
              "    </tr>\n",
              "    <tr>\n",
              "      <th>47</th>\n",
              "      <td>(0, 2, 3, 4)</td>\n",
              "      <td>[0.688, 0.648, 0.672, 0.6693548387096774, 0.66...</td>\n",
              "      <td>0.667729</td>\n",
              "      <td>(Pclass, SibSp, Parch, Fare)</td>\n",
              "      <td>0.016881</td>\n",
              "      <td>0.013134</td>\n",
              "      <td>0.006567</td>\n",
              "    </tr>\n",
              "    <tr>\n",
              "      <th>16</th>\n",
              "      <td>(2, 4)</td>\n",
              "      <td>[0.664, 0.68, 0.736, 0.6451612903225806, 0.637...</td>\n",
              "      <td>0.672452</td>\n",
              "      <td>(SibSp, Fare)</td>\n",
              "      <td>0.045119</td>\n",
              "      <td>0.035104</td>\n",
              "      <td>0.017552</td>\n",
              "    </tr>\n",
              "    <tr>\n",
              "      <th>26</th>\n",
              "      <td>(0, 2, 4)</td>\n",
              "      <td>[0.696, 0.664, 0.68, 0.6612903225806451, 0.661...</td>\n",
              "      <td>0.672516</td>\n",
              "      <td>(Pclass, SibSp, Fare)</td>\n",
              "      <td>0.017548</td>\n",
              "      <td>0.013653</td>\n",
              "      <td>0.006827</td>\n",
              "    </tr>\n",
              "    <tr>\n",
              "      <th>41</th>\n",
              "      <td>(0, 1, 2, 3)</td>\n",
              "      <td>[0.624, 0.64, 0.768, 0.6854838709677419, 0.645...</td>\n",
              "      <td>0.672529</td>\n",
              "      <td>(Pclass, Age, SibSp, Parch)</td>\n",
              "      <td>0.066649</td>\n",
              "      <td>0.051855</td>\n",
              "      <td>0.025928</td>\n",
              "    </tr>\n",
              "    <tr>\n",
              "      <th>4</th>\n",
              "      <td>(4,)</td>\n",
              "      <td>[0.696, 0.68, 0.608, 0.7096774193548387, 0.685...</td>\n",
              "      <td>0.675832</td>\n",
              "      <td>(Fare,)</td>\n",
              "      <td>0.045493</td>\n",
              "      <td>0.035395</td>\n",
              "      <td>0.017697</td>\n",
              "    </tr>\n",
              "    <tr>\n",
              "      <th>22</th>\n",
              "      <td>(0, 1, 3)</td>\n",
              "      <td>[0.632, 0.672, 0.744, 0.6693548387096774, 0.66...</td>\n",
              "      <td>0.677342</td>\n",
              "      <td>(Pclass, Age, Parch)</td>\n",
              "      <td>0.046892</td>\n",
              "      <td>0.036484</td>\n",
              "      <td>0.018242</td>\n",
              "    </tr>\n",
              "    <tr>\n",
              "      <th>25</th>\n",
              "      <td>(0, 2, 3)</td>\n",
              "      <td>[0.664, 0.696, 0.672, 0.6774193548387096, 0.67...</td>\n",
              "      <td>0.677368</td>\n",
              "      <td>(Pclass, SibSp, Parch)</td>\n",
              "      <td>0.013537</td>\n",
              "      <td>0.010533</td>\n",
              "      <td>0.005266</td>\n",
              "    </tr>\n",
              "    <tr>\n",
              "      <th>7</th>\n",
              "      <td>(0, 2)</td>\n",
              "      <td>[0.656, 0.672, 0.688, 0.6774193548387096, 0.70...</td>\n",
              "      <td>0.680619</td>\n",
              "      <td>(Pclass, SibSp)</td>\n",
              "      <td>0.022916</td>\n",
              "      <td>0.01783</td>\n",
              "      <td>0.008915</td>\n",
              "    </tr>\n",
              "    <tr>\n",
              "      <th>37</th>\n",
              "      <td>(2, 3, 4)</td>\n",
              "      <td>[0.704, 0.664, 0.704, 0.6612903225806451, 0.67...</td>\n",
              "      <td>0.682142</td>\n",
              "      <td>(SibSp, Parch, Fare)</td>\n",
              "      <td>0.023989</td>\n",
              "      <td>0.018664</td>\n",
              "      <td>0.009332</td>\n",
              "    </tr>\n",
              "    <tr>\n",
              "      <th>9</th>\n",
              "      <td>(0, 4)</td>\n",
              "      <td>[0.664, 0.688, 0.672, 0.6935483870967742, 0.70...</td>\n",
              "      <td>0.683832</td>\n",
              "      <td>(Pclass, Fare)</td>\n",
              "      <td>0.017821</td>\n",
              "      <td>0.013865</td>\n",
              "      <td>0.006933</td>\n",
              "    </tr>\n",
              "    <tr>\n",
              "      <th>28</th>\n",
              "      <td>(0, 3, 4)</td>\n",
              "      <td>[0.68, 0.704, 0.704, 0.6854838709677419, 0.701...</td>\n",
              "      <td>0.695019</td>\n",
              "      <td>(Pclass, Parch, Fare)</td>\n",
              "      <td>0.013124</td>\n",
              "      <td>0.010211</td>\n",
              "      <td>0.005105</td>\n",
              "    </tr>\n",
              "    <tr>\n",
              "      <th>8</th>\n",
              "      <td>(0, 3)</td>\n",
              "      <td>[0.672, 0.704, 0.736, 0.6935483870967742, 0.70...</td>\n",
              "      <td>0.703045</td>\n",
              "      <td>(Pclass, Parch)</td>\n",
              "      <td>0.026868</td>\n",
              "      <td>0.020904</td>\n",
              "      <td>0.010452</td>\n",
              "    </tr>\n",
              "    <tr>\n",
              "      <th>35</th>\n",
              "      <td>(1, 3, 5)</td>\n",
              "      <td>[0.752, 0.768, 0.696, 0.7580645161290323, 0.81...</td>\n",
              "      <td>0.757716</td>\n",
              "      <td>(Age, Parch, Sex_male)</td>\n",
              "      <td>0.048684</td>\n",
              "      <td>0.037878</td>\n",
              "      <td>0.018939</td>\n",
              "    </tr>\n",
              "    <tr>\n",
              "      <th>54</th>\n",
              "      <td>(1, 3, 4, 5)</td>\n",
              "      <td>[0.712, 0.784, 0.752, 0.7661290322580645, 0.79...</td>\n",
              "      <td>0.76089</td>\n",
              "      <td>(Age, Parch, Fare, Sex_male)</td>\n",
              "      <td>0.035883</td>\n",
              "      <td>0.027918</td>\n",
              "      <td>0.013959</td>\n",
              "    </tr>\n",
              "    <tr>\n",
              "      <th>10</th>\n",
              "      <td>(0, 5)</td>\n",
              "      <td>[0.752, 0.8, 0.768, 0.75, 0.75]</td>\n",
              "      <td>0.764</td>\n",
              "      <td>(Pclass, Sex_male)</td>\n",
              "      <td>0.02471</td>\n",
              "      <td>0.019225</td>\n",
              "      <td>0.009612</td>\n",
              "    </tr>\n",
              "    <tr>\n",
              "      <th>36</th>\n",
              "      <td>(1, 4, 5)</td>\n",
              "      <td>[0.704, 0.808, 0.736, 0.75, 0.8306451612903226]</td>\n",
              "      <td>0.765729</td>\n",
              "      <td>(Age, Fare, Sex_male)</td>\n",
              "      <td>0.060128</td>\n",
              "      <td>0.046782</td>\n",
              "      <td>0.023391</td>\n",
              "    </tr>\n",
              "    <tr>\n",
              "      <th>55</th>\n",
              "      <td>(2, 3, 4, 5)</td>\n",
              "      <td>[0.728, 0.816, 0.776, 0.7741935483870968, 0.74...</td>\n",
              "      <td>0.767226</td>\n",
              "      <td>(SibSp, Parch, Fare, Sex_male)</td>\n",
              "      <td>0.039334</td>\n",
              "      <td>0.030603</td>\n",
              "      <td>0.015302</td>\n",
              "    </tr>\n",
              "    <tr>\n",
              "      <th>52</th>\n",
              "      <td>(1, 2, 3, 5)</td>\n",
              "      <td>[0.736, 0.752, 0.76, 0.8064516129032258, 0.790...</td>\n",
              "      <td>0.768955</td>\n",
              "      <td>(Age, SibSp, Parch, Sex_male)</td>\n",
              "      <td>0.033101</td>\n",
              "      <td>0.025754</td>\n",
              "      <td>0.012877</td>\n",
              "    </tr>\n",
              "    <tr>\n",
              "      <th>39</th>\n",
              "      <td>(2, 4, 5)</td>\n",
              "      <td>[0.752, 0.824, 0.776, 0.7661290322580645, 0.75]</td>\n",
              "      <td>0.773626</td>\n",
              "      <td>(SibSp, Fare, Sex_male)</td>\n",
              "      <td>0.034609</td>\n",
              "      <td>0.026927</td>\n",
              "      <td>0.013463</td>\n",
              "    </tr>\n",
              "    <tr>\n",
              "      <th>14</th>\n",
              "      <td>(1, 5)</td>\n",
              "      <td>[0.736, 0.824, 0.704, 0.7983870967741935, 0.80...</td>\n",
              "      <td>0.773768</td>\n",
              "      <td>(Age, Sex_male)</td>\n",
              "      <td>0.058876</td>\n",
              "      <td>0.045807</td>\n",
              "      <td>0.022904</td>\n",
              "    </tr>\n",
              "    <tr>\n",
              "      <th>38</th>\n",
              "      <td>(2, 3, 5)</td>\n",
              "      <td>[0.784, 0.792, 0.752, 0.7419354838709677, 0.81...</td>\n",
              "      <td>0.77689</td>\n",
              "      <td>(SibSp, Parch, Sex_male)</td>\n",
              "      <td>0.03418</td>\n",
              "      <td>0.026593</td>\n",
              "      <td>0.013296</td>\n",
              "    </tr>\n",
              "    <tr>\n",
              "      <th>48</th>\n",
              "      <td>(0, 2, 3, 5)</td>\n",
              "      <td>[0.784, 0.8, 0.792, 0.7419354838709677, 0.7903...</td>\n",
              "      <td>0.781652</td>\n",
              "      <td>(Pclass, SibSp, Parch, Sex_male)</td>\n",
              "      <td>0.026352</td>\n",
              "      <td>0.020503</td>\n",
              "      <td>0.010251</td>\n",
              "    </tr>\n",
              "    <tr>\n",
              "      <th>53</th>\n",
              "      <td>(1, 2, 4, 5)</td>\n",
              "      <td>[0.744, 0.792, 0.792, 0.7580645161290323, 0.82...</td>\n",
              "      <td>0.781729</td>\n",
              "      <td>(Age, SibSp, Fare, Sex_male)</td>\n",
              "      <td>0.035727</td>\n",
              "      <td>0.027797</td>\n",
              "      <td>0.013898</td>\n",
              "    </tr>\n",
              "    <tr>\n",
              "      <th>33</th>\n",
              "      <td>(1, 2, 5)</td>\n",
              "      <td>[0.736, 0.76, 0.76, 0.8145161290322581, 0.8467...</td>\n",
              "      <td>0.783458</td>\n",
              "      <td>(Age, SibSp, Sex_male)</td>\n",
              "      <td>0.05245</td>\n",
              "      <td>0.040808</td>\n",
              "      <td>0.020404</td>\n",
              "    </tr>\n",
              "    <tr>\n",
              "      <th>50</th>\n",
              "      <td>(0, 3, 4, 5)</td>\n",
              "      <td>[0.776, 0.824, 0.784, 0.782258064516129, 0.766...</td>\n",
              "      <td>0.786477</td>\n",
              "      <td>(Pclass, Parch, Fare, Sex_male)</td>\n",
              "      <td>0.02542</td>\n",
              "      <td>0.019777</td>\n",
              "      <td>0.009889</td>\n",
              "    </tr>\n",
              "    <tr>\n",
              "      <th>20</th>\n",
              "      <td>(4, 5)</td>\n",
              "      <td>[0.744, 0.808, 0.784, 0.8064516129032258, 0.79...</td>\n",
              "      <td>0.786555</td>\n",
              "      <td>(Fare, Sex_male)</td>\n",
              "      <td>0.029798</td>\n",
              "      <td>0.023184</td>\n",
              "      <td>0.011592</td>\n",
              "    </tr>\n",
              "    <tr>\n",
              "      <th>5</th>\n",
              "      <td>(5,)</td>\n",
              "      <td>[0.752, 0.8, 0.768, 0.7983870967741935, 0.8145...</td>\n",
              "      <td>0.786581</td>\n",
              "      <td>(Sex_male,)</td>\n",
              "      <td>0.029539</td>\n",
              "      <td>0.022982</td>\n",
              "      <td>0.011491</td>\n",
              "    </tr>\n",
              "    <tr>\n",
              "      <th>40</th>\n",
              "      <td>(3, 4, 5)</td>\n",
              "      <td>[0.736, 0.84, 0.776, 0.7580645161290323, 0.830...</td>\n",
              "      <td>0.788142</td>\n",
              "      <td>(Parch, Fare, Sex_male)</td>\n",
              "      <td>0.052261</td>\n",
              "      <td>0.040661</td>\n",
              "      <td>0.020331</td>\n",
              "    </tr>\n",
              "    <tr>\n",
              "      <th>19</th>\n",
              "      <td>(3, 5)</td>\n",
              "      <td>[0.768, 0.8, 0.768, 0.7903225806451613, 0.8225...</td>\n",
              "      <td>0.789781</td>\n",
              "      <td>(Parch, Sex_male)</td>\n",
              "      <td>0.026524</td>\n",
              "      <td>0.020637</td>\n",
              "      <td>0.010318</td>\n",
              "    </tr>\n",
              "    <tr>\n",
              "      <th>46</th>\n",
              "      <td>(0, 1, 4, 5)</td>\n",
              "      <td>[0.768, 0.8, 0.776, 0.7741935483870968, 0.8387...</td>\n",
              "      <td>0.791381</td>\n",
              "      <td>(Pclass, Age, Fare, Sex_male)</td>\n",
              "      <td>0.033481</td>\n",
              "      <td>0.02605</td>\n",
              "      <td>0.013025</td>\n",
              "    </tr>\n",
              "    <tr>\n",
              "      <th>27</th>\n",
              "      <td>(0, 2, 5)</td>\n",
              "      <td>[0.776, 0.8, 0.76, 0.8064516129032258, 0.81451...</td>\n",
              "      <td>0.791394</td>\n",
              "      <td>(Pclass, SibSp, Sex_male)</td>\n",
              "      <td>0.026076</td>\n",
              "      <td>0.020288</td>\n",
              "      <td>0.010144</td>\n",
              "    </tr>\n",
              "    <tr>\n",
              "      <th>29</th>\n",
              "      <td>(0, 3, 5)</td>\n",
              "      <td>[0.776, 0.816, 0.792, 0.7580645161290323, 0.82...</td>\n",
              "      <td>0.792929</td>\n",
              "      <td>(Pclass, Parch, Sex_male)</td>\n",
              "      <td>0.031031</td>\n",
              "      <td>0.024143</td>\n",
              "      <td>0.012072</td>\n",
              "    </tr>\n",
              "    <tr>\n",
              "      <th>17</th>\n",
              "      <td>(2, 5)</td>\n",
              "      <td>[0.76, 0.792, 0.768, 0.8145161290322581, 0.830...</td>\n",
              "      <td>0.793032</td>\n",
              "      <td>(SibSp, Sex_male)</td>\n",
              "      <td>0.034464</td>\n",
              "      <td>0.026815</td>\n",
              "      <td>0.013407</td>\n",
              "    </tr>\n",
              "    <tr>\n",
              "      <th>49</th>\n",
              "      <td>(0, 2, 4, 5)</td>\n",
              "      <td>[0.8, 0.848, 0.784, 0.7741935483870968, 0.7741...</td>\n",
              "      <td>0.796077</td>\n",
              "      <td>(Pclass, SibSp, Fare, Sex_male)</td>\n",
              "      <td>0.035503</td>\n",
              "      <td>0.027623</td>\n",
              "      <td>0.013811</td>\n",
              "    </tr>\n",
              "    <tr>\n",
              "      <th>45</th>\n",
              "      <td>(0, 1, 3, 5)</td>\n",
              "      <td>[0.776, 0.816, 0.792, 0.7983870967741935, 0.86...</td>\n",
              "      <td>0.809058</td>\n",
              "      <td>(Pclass, Age, Parch, Sex_male)</td>\n",
              "      <td>0.038323</td>\n",
              "      <td>0.029817</td>\n",
              "      <td>0.014908</td>\n",
              "    </tr>\n",
              "    <tr>\n",
              "      <th>24</th>\n",
              "      <td>(0, 1, 5)</td>\n",
              "      <td>[0.784, 0.824, 0.776, 0.7983870967741935, 0.86...</td>\n",
              "      <td>0.809058</td>\n",
              "      <td>(Pclass, Age, Sex_male)</td>\n",
              "      <td>0.04047</td>\n",
              "      <td>0.031487</td>\n",
              "      <td>0.015744</td>\n",
              "    </tr>\n",
              "    <tr>\n",
              "      <th>30</th>\n",
              "      <td>(0, 4, 5)</td>\n",
              "      <td>[0.784, 0.832, 0.816, 0.8145161290322581, 0.81...</td>\n",
              "      <td>0.812206</td>\n",
              "      <td>(Pclass, Fare, Sex_male)</td>\n",
              "      <td>0.020015</td>\n",
              "      <td>0.015572</td>\n",
              "      <td>0.007786</td>\n",
              "    </tr>\n",
              "    <tr>\n",
              "      <th>43</th>\n",
              "      <td>(0, 1, 2, 5)</td>\n",
              "      <td>[0.736, 0.848, 0.816, 0.8306451612903226, 0.85...</td>\n",
              "      <td>0.817097</td>\n",
              "      <td>(Pclass, Age, SibSp, Sex_male)</td>\n",
              "      <td>0.054956</td>\n",
              "      <td>0.042757</td>\n",
              "      <td>0.021379</td>\n",
              "    </tr>\n",
              "  </tbody>\n",
              "</table>\n",
              "</div>\n",
              "    <div class=\"colab-df-buttons\">\n",
              "\n",
              "  <div class=\"colab-df-container\">\n",
              "    <button class=\"colab-df-convert\" onclick=\"convertToInteractive('df-6f4c5461-f902-4394-87d2-e99601ec34c6')\"\n",
              "            title=\"Convert this dataframe to an interactive table.\"\n",
              "            style=\"display:none;\">\n",
              "\n",
              "  <svg xmlns=\"http://www.w3.org/2000/svg\" height=\"24px\" viewBox=\"0 -960 960 960\">\n",
              "    <path d=\"M120-120v-720h720v720H120Zm60-500h600v-160H180v160Zm220 220h160v-160H400v160Zm0 220h160v-160H400v160ZM180-400h160v-160H180v160Zm440 0h160v-160H620v160ZM180-180h160v-160H180v160Zm440 0h160v-160H620v160Z\"/>\n",
              "  </svg>\n",
              "    </button>\n",
              "\n",
              "  <style>\n",
              "    .colab-df-container {\n",
              "      display:flex;\n",
              "      gap: 12px;\n",
              "    }\n",
              "\n",
              "    .colab-df-convert {\n",
              "      background-color: #E8F0FE;\n",
              "      border: none;\n",
              "      border-radius: 50%;\n",
              "      cursor: pointer;\n",
              "      display: none;\n",
              "      fill: #1967D2;\n",
              "      height: 32px;\n",
              "      padding: 0 0 0 0;\n",
              "      width: 32px;\n",
              "    }\n",
              "\n",
              "    .colab-df-convert:hover {\n",
              "      background-color: #E2EBFA;\n",
              "      box-shadow: 0px 1px 2px rgba(60, 64, 67, 0.3), 0px 1px 3px 1px rgba(60, 64, 67, 0.15);\n",
              "      fill: #174EA6;\n",
              "    }\n",
              "\n",
              "    .colab-df-buttons div {\n",
              "      margin-bottom: 4px;\n",
              "    }\n",
              "\n",
              "    [theme=dark] .colab-df-convert {\n",
              "      background-color: #3B4455;\n",
              "      fill: #D2E3FC;\n",
              "    }\n",
              "\n",
              "    [theme=dark] .colab-df-convert:hover {\n",
              "      background-color: #434B5C;\n",
              "      box-shadow: 0px 1px 3px 1px rgba(0, 0, 0, 0.15);\n",
              "      filter: drop-shadow(0px 1px 2px rgba(0, 0, 0, 0.3));\n",
              "      fill: #FFFFFF;\n",
              "    }\n",
              "  </style>\n",
              "\n",
              "    <script>\n",
              "      const buttonEl =\n",
              "        document.querySelector('#df-6f4c5461-f902-4394-87d2-e99601ec34c6 button.colab-df-convert');\n",
              "      buttonEl.style.display =\n",
              "        google.colab.kernel.accessAllowed ? 'block' : 'none';\n",
              "\n",
              "      async function convertToInteractive(key) {\n",
              "        const element = document.querySelector('#df-6f4c5461-f902-4394-87d2-e99601ec34c6');\n",
              "        const dataTable =\n",
              "          await google.colab.kernel.invokeFunction('convertToInteractive',\n",
              "                                                    [key], {});\n",
              "        if (!dataTable) return;\n",
              "\n",
              "        const docLinkHtml = 'Like what you see? Visit the ' +\n",
              "          '<a target=\"_blank\" href=https://colab.research.google.com/notebooks/data_table.ipynb>data table notebook</a>'\n",
              "          + ' to learn more about interactive tables.';\n",
              "        element.innerHTML = '';\n",
              "        dataTable['output_type'] = 'display_data';\n",
              "        await google.colab.output.renderOutput(dataTable, element);\n",
              "        const docLink = document.createElement('div');\n",
              "        docLink.innerHTML = docLinkHtml;\n",
              "        element.appendChild(docLink);\n",
              "      }\n",
              "    </script>\n",
              "  </div>\n",
              "\n",
              "\n",
              "    <div id=\"df-a8fb43be-b69e-452f-b6bc-ba55c774b866\">\n",
              "      <button class=\"colab-df-quickchart\" onclick=\"quickchart('df-a8fb43be-b69e-452f-b6bc-ba55c774b866')\"\n",
              "                title=\"Suggest charts\"\n",
              "                style=\"display:none;\">\n",
              "\n",
              "<svg xmlns=\"http://www.w3.org/2000/svg\" height=\"24px\"viewBox=\"0 0 24 24\"\n",
              "     width=\"24px\">\n",
              "    <g>\n",
              "        <path d=\"M19 3H5c-1.1 0-2 .9-2 2v14c0 1.1.9 2 2 2h14c1.1 0 2-.9 2-2V5c0-1.1-.9-2-2-2zM9 17H7v-7h2v7zm4 0h-2V7h2v10zm4 0h-2v-4h2v4z\"/>\n",
              "    </g>\n",
              "</svg>\n",
              "      </button>\n",
              "\n",
              "<style>\n",
              "  .colab-df-quickchart {\n",
              "      --bg-color: #E8F0FE;\n",
              "      --fill-color: #1967D2;\n",
              "      --hover-bg-color: #E2EBFA;\n",
              "      --hover-fill-color: #174EA6;\n",
              "      --disabled-fill-color: #AAA;\n",
              "      --disabled-bg-color: #DDD;\n",
              "  }\n",
              "\n",
              "  [theme=dark] .colab-df-quickchart {\n",
              "      --bg-color: #3B4455;\n",
              "      --fill-color: #D2E3FC;\n",
              "      --hover-bg-color: #434B5C;\n",
              "      --hover-fill-color: #FFFFFF;\n",
              "      --disabled-bg-color: #3B4455;\n",
              "      --disabled-fill-color: #666;\n",
              "  }\n",
              "\n",
              "  .colab-df-quickchart {\n",
              "    background-color: var(--bg-color);\n",
              "    border: none;\n",
              "    border-radius: 50%;\n",
              "    cursor: pointer;\n",
              "    display: none;\n",
              "    fill: var(--fill-color);\n",
              "    height: 32px;\n",
              "    padding: 0;\n",
              "    width: 32px;\n",
              "  }\n",
              "\n",
              "  .colab-df-quickchart:hover {\n",
              "    background-color: var(--hover-bg-color);\n",
              "    box-shadow: 0 1px 2px rgba(60, 64, 67, 0.3), 0 1px 3px 1px rgba(60, 64, 67, 0.15);\n",
              "    fill: var(--button-hover-fill-color);\n",
              "  }\n",
              "\n",
              "  .colab-df-quickchart-complete:disabled,\n",
              "  .colab-df-quickchart-complete:disabled:hover {\n",
              "    background-color: var(--disabled-bg-color);\n",
              "    fill: var(--disabled-fill-color);\n",
              "    box-shadow: none;\n",
              "  }\n",
              "\n",
              "  .colab-df-spinner {\n",
              "    border: 2px solid var(--fill-color);\n",
              "    border-color: transparent;\n",
              "    border-bottom-color: var(--fill-color);\n",
              "    animation:\n",
              "      spin 1s steps(1) infinite;\n",
              "  }\n",
              "\n",
              "  @keyframes spin {\n",
              "    0% {\n",
              "      border-color: transparent;\n",
              "      border-bottom-color: var(--fill-color);\n",
              "      border-left-color: var(--fill-color);\n",
              "    }\n",
              "    20% {\n",
              "      border-color: transparent;\n",
              "      border-left-color: var(--fill-color);\n",
              "      border-top-color: var(--fill-color);\n",
              "    }\n",
              "    30% {\n",
              "      border-color: transparent;\n",
              "      border-left-color: var(--fill-color);\n",
              "      border-top-color: var(--fill-color);\n",
              "      border-right-color: var(--fill-color);\n",
              "    }\n",
              "    40% {\n",
              "      border-color: transparent;\n",
              "      border-right-color: var(--fill-color);\n",
              "      border-top-color: var(--fill-color);\n",
              "    }\n",
              "    60% {\n",
              "      border-color: transparent;\n",
              "      border-right-color: var(--fill-color);\n",
              "    }\n",
              "    80% {\n",
              "      border-color: transparent;\n",
              "      border-right-color: var(--fill-color);\n",
              "      border-bottom-color: var(--fill-color);\n",
              "    }\n",
              "    90% {\n",
              "      border-color: transparent;\n",
              "      border-bottom-color: var(--fill-color);\n",
              "    }\n",
              "  }\n",
              "</style>\n",
              "\n",
              "      <script>\n",
              "        async function quickchart(key) {\n",
              "          const quickchartButtonEl =\n",
              "            document.querySelector('#' + key + ' button');\n",
              "          quickchartButtonEl.disabled = true;  // To prevent multiple clicks.\n",
              "          quickchartButtonEl.classList.add('colab-df-spinner');\n",
              "          try {\n",
              "            const charts = await google.colab.kernel.invokeFunction(\n",
              "                'suggestCharts', [key], {});\n",
              "          } catch (error) {\n",
              "            console.error('Error during call to suggestCharts:', error);\n",
              "          }\n",
              "          quickchartButtonEl.classList.remove('colab-df-spinner');\n",
              "          quickchartButtonEl.classList.add('colab-df-quickchart-complete');\n",
              "        }\n",
              "        (() => {\n",
              "          let quickchartButtonEl =\n",
              "            document.querySelector('#df-a8fb43be-b69e-452f-b6bc-ba55c774b866 button');\n",
              "          quickchartButtonEl.style.display =\n",
              "            google.colab.kernel.accessAllowed ? 'block' : 'none';\n",
              "        })();\n",
              "      </script>\n",
              "    </div>\n",
              "\n",
              "  <div id=\"id_253b174a-5b79-4086-921a-dffe0e2a4b0f\">\n",
              "    <style>\n",
              "      .colab-df-generate {\n",
              "        background-color: #E8F0FE;\n",
              "        border: none;\n",
              "        border-radius: 50%;\n",
              "        cursor: pointer;\n",
              "        display: none;\n",
              "        fill: #1967D2;\n",
              "        height: 32px;\n",
              "        padding: 0 0 0 0;\n",
              "        width: 32px;\n",
              "      }\n",
              "\n",
              "      .colab-df-generate:hover {\n",
              "        background-color: #E2EBFA;\n",
              "        box-shadow: 0px 1px 2px rgba(60, 64, 67, 0.3), 0px 1px 3px 1px rgba(60, 64, 67, 0.15);\n",
              "        fill: #174EA6;\n",
              "      }\n",
              "\n",
              "      [theme=dark] .colab-df-generate {\n",
              "        background-color: #3B4455;\n",
              "        fill: #D2E3FC;\n",
              "      }\n",
              "\n",
              "      [theme=dark] .colab-df-generate:hover {\n",
              "        background-color: #434B5C;\n",
              "        box-shadow: 0px 1px 3px 1px rgba(0, 0, 0, 0.15);\n",
              "        filter: drop-shadow(0px 1px 2px rgba(0, 0, 0, 0.3));\n",
              "        fill: #FFFFFF;\n",
              "      }\n",
              "    </style>\n",
              "    <button class=\"colab-df-generate\" onclick=\"generateWithVariable('efs_results')\"\n",
              "            title=\"Generate code using this dataframe.\"\n",
              "            style=\"display:none;\">\n",
              "\n",
              "  <svg xmlns=\"http://www.w3.org/2000/svg\" height=\"24px\"viewBox=\"0 0 24 24\"\n",
              "       width=\"24px\">\n",
              "    <path d=\"M7,19H8.4L18.45,9,17,7.55,7,17.6ZM5,21V16.75L18.45,3.32a2,2,0,0,1,2.83,0l1.4,1.43a1.91,1.91,0,0,1,.58,1.4,1.91,1.91,0,0,1-.58,1.4L9.25,21ZM18.45,9,17,7.55Zm-12,3A5.31,5.31,0,0,0,4.9,8.1,5.31,5.31,0,0,0,1,6.5,5.31,5.31,0,0,0,4.9,4.9,5.31,5.31,0,0,0,6.5,1,5.31,5.31,0,0,0,8.1,4.9,5.31,5.31,0,0,0,12,6.5,5.46,5.46,0,0,0,6.5,12Z\"/>\n",
              "  </svg>\n",
              "    </button>\n",
              "    <script>\n",
              "      (() => {\n",
              "      const buttonEl =\n",
              "        document.querySelector('#id_253b174a-5b79-4086-921a-dffe0e2a4b0f button.colab-df-generate');\n",
              "      buttonEl.style.display =\n",
              "        google.colab.kernel.accessAllowed ? 'block' : 'none';\n",
              "\n",
              "      buttonEl.onclick = () => {\n",
              "        google.colab.notebook.generateWithVariable('efs_results');\n",
              "      }\n",
              "      })();\n",
              "    </script>\n",
              "  </div>\n",
              "\n",
              "    </div>\n",
              "  </div>\n"
            ],
            "application/vnd.google.colaboratory.intrinsic+json": {
              "type": "dataframe",
              "variable_name": "efs_results",
              "summary": "{\n  \"name\": \"efs_results\",\n  \"rows\": 56,\n  \"fields\": [\n    {\n      \"column\": \"feature_idx\",\n      \"properties\": {\n        \"dtype\": \"string\",\n        \"num_unique_values\": 56,\n        \"samples\": [\n          [\n            1\n          ],\n          [\n            1,\n            2,\n            3\n          ],\n          [\n            1,\n            4,\n            5\n          ]\n        ],\n        \"semantic_type\": \"\",\n        \"description\": \"\"\n      }\n    },\n    {\n      \"column\": \"cv_scores\",\n      \"properties\": {\n        \"dtype\": \"object\",\n        \"semantic_type\": \"\",\n        \"description\": \"\"\n      }\n    },\n    {\n      \"column\": \"avg_score\",\n      \"properties\": {\n        \"dtype\": \"date\",\n        \"min\": 0.5890967741935484,\n        \"max\": 0.8170967741935483,\n        \"num_unique_values\": 55,\n        \"samples\": [\n          0.7608903225806453,\n          0.6195354838709677,\n          0.764\n        ],\n        \"semantic_type\": \"\",\n        \"description\": \"\"\n      }\n    },\n    {\n      \"column\": \"feature_names\",\n      \"properties\": {\n        \"dtype\": \"string\",\n        \"num_unique_values\": 56,\n        \"samples\": [\n          [\n            \"Age\"\n          ],\n          [\n            \"Age\",\n            \"SibSp\",\n            \"Parch\"\n          ],\n          [\n            \"Age\",\n            \"Fare\",\n            \"Sex_male\"\n          ]\n        ],\n        \"semantic_type\": \"\",\n        \"description\": \"\"\n      }\n    },\n    {\n      \"column\": \"ci_bound\",\n      \"properties\": {\n        \"dtype\": \"date\",\n        \"min\": 0.013123636333320442,\n        \"max\": 0.06695547232134179,\n        \"num_unique_values\": 56,\n        \"samples\": [\n          0.03183591260078732,\n          0.048653731188152236,\n          0.06012807348655142\n        ],\n        \"semantic_type\": \"\",\n        \"description\": \"\"\n      }\n    },\n    {\n      \"column\": \"std_dev\",\n      \"properties\": {\n        \"dtype\": \"date\",\n        \"min\": 0.010210634924269475,\n        \"max\": 0.052093632183289613,\n        \"num_unique_values\": 56,\n        \"samples\": [\n          0.024769421583426657,\n          0.03785425580594958,\n          0.04678168393862279\n        ],\n        \"semantic_type\": \"\",\n        \"description\": \"\"\n      }\n    },\n    {\n      \"column\": \"std_err\",\n      \"properties\": {\n        \"dtype\": \"date\",\n        \"min\": 0.0051053174621347374,\n        \"max\": 0.026046816091644803,\n        \"num_unique_values\": 56,\n        \"samples\": [\n          0.012384710791713329,\n          0.01892712790297479,\n          0.023390841969311394\n        ],\n        \"semantic_type\": \"\",\n        \"description\": \"\"\n      }\n    }\n  ]\n}"
            }
          },
          "metadata": {},
          "execution_count": 24
        }
      ]
    },
    {
      "cell_type": "code",
      "source": [
        "from sklearn.ensemble import RandomForestClassifier\n",
        "rfc = RandomForestClassifier(random_state=0, criterion='gini')\n",
        "rfc.fit(x_train, y_train)\n",
        "for feature in zip(x_train.columns, rfc.feature_importances_):\n",
        "    print(feature)\n"
      ],
      "metadata": {
        "colab": {
          "base_uri": "https://localhost:8080/"
        },
        "id": "2dZxZ9wmFY_I",
        "outputId": "3e607af5-dc1a-4f0d-d021-2c40861d8db3"
      },
      "execution_count": 25,
      "outputs": [
        {
          "output_type": "stream",
          "name": "stdout",
          "text": [
            "('Pclass', np.float64(0.08580548090109545))\n",
            "('Age', np.float64(0.26433757901109173))\n",
            "('SibSp', np.float64(0.05355992352286061))\n",
            "('Parch', np.float64(0.03699908167792097))\n",
            "('Fare', np.float64(0.28790097031129963))\n",
            "('Sex_male', np.float64(0.2713969645757317))\n"
          ]
        }
      ]
    },
    {
      "cell_type": "code",
      "source": [
        "from sklearn.feature_selection import SelectFromModel\n",
        "sfm = SelectFromModel(estimator=rfc, threshold=0.2)\n",
        "sfm = sfm.fit(x_train, y_train)\n",
        "feature_names=x_train.columns\n",
        "print('The most important features based on random forest classifier:')\n",
        "for feature_list_index in sfm.get_support(indices=True):\n",
        "    print('- ' + feature_names[feature_list_index])"
      ],
      "metadata": {
        "colab": {
          "base_uri": "https://localhost:8080/"
        },
        "id": "scroW_WFFlJ0",
        "outputId": "5d737e6b-6c32-4d67-bb14-6136852198b9"
      },
      "execution_count": 26,
      "outputs": [
        {
          "output_type": "stream",
          "name": "stdout",
          "text": [
            "The most important features based on random forest classifier:\n",
            "- Age\n",
            "- Fare\n",
            "- Sex_male\n"
          ]
        }
      ]
    },
    {
      "cell_type": "code",
      "source": [
        "from sklearn.metrics import accuracy_score\n",
        "rfc_full = RandomForestClassifier(random_state=0, criterion='gini')\n",
        "rfc_full.fit(x_train, y_train)\n",
        "pred_full = rfc_full.predict(x_test)\n",
        "print('The accuracy of classifier with full features: {:.2f}'.format(accuracy_score(y_test, pred_full)))\n"
      ],
      "metadata": {
        "colab": {
          "base_uri": "https://localhost:8080/"
        },
        "id": "ve8Ta7lCFpgl",
        "outputId": "24a557a7-08bd-46bd-9546-343bddd38205"
      },
      "execution_count": 27,
      "outputs": [
        {
          "output_type": "stream",
          "name": "stdout",
          "text": [
            "The accuracy of classifier with full features: 0.82\n"
          ]
        }
      ]
    },
    {
      "cell_type": "code",
      "source": [
        "x_important_train = sfm.transform(x_train)\n",
        "x_important_test = sfm.transform(x_test)"
      ],
      "metadata": {
        "id": "Pt6AUo1aFuY6"
      },
      "execution_count": 28,
      "outputs": []
    },
    {
      "cell_type": "code",
      "source": [
        "rfc_lim = RandomForestClassifier(random_state=0, criterion='gini')\n",
        "rfc_lim.fit(x_important_train, y_train)\n",
        "pred_lim = rfc_lim.predict(x_important_test)\n",
        "print('The accuracy of classifier with limited features: {:.2f}'.format(accuracy_score(y_test, pred_lim)))"
      ],
      "metadata": {
        "colab": {
          "base_uri": "https://localhost:8080/"
        },
        "id": "2oWFlmv7F-IR",
        "outputId": "afa2c245-48fe-4349-d8e0-7c39c3e851a3"
      },
      "execution_count": 29,
      "outputs": [
        {
          "output_type": "stream",
          "name": "stdout",
          "text": [
            "The accuracy of classifier with limited features: 0.80\n"
          ]
        }
      ]
    },
    {
      "cell_type": "code",
      "source": [
        "from sklearn.preprocessing import StandardScaler\n",
        "from sklearn.decomposition import PCA\n",
        "from sklearn.linear_model import LogisticRegression\n",
        "from sklearn.metrics import confusion_matrix\n",
        "import matplotlib.pyplot as plt\n",
        "import seaborn as sns\n",
        ""
      ],
      "metadata": {
        "id": "C7CTjPIKIWFK"
      },
      "execution_count": 30,
      "outputs": []
    },
    {
      "cell_type": "code",
      "source": [
        "scaler=StandardScaler()\n",
        "x_scaled=scaler.fit_transform(X)"
      ],
      "metadata": {
        "id": "0TgwwF1mzyB_"
      },
      "execution_count": 31,
      "outputs": []
    },
    {
      "cell_type": "code",
      "source": [
        "x_scaled.shape"
      ],
      "metadata": {
        "colab": {
          "base_uri": "https://localhost:8080/"
        },
        "id": "uQuWVBqIz6t6",
        "outputId": "7905d857-3ac8-49eb-8c19-2c356947d5db"
      },
      "execution_count": 32,
      "outputs": [
        {
          "output_type": "execute_result",
          "data": {
            "text/plain": [
              "(891, 6)"
            ]
          },
          "metadata": {},
          "execution_count": 32
        }
      ]
    },
    {
      "cell_type": "code",
      "source": [
        "pca=PCA(n_components=2)\n",
        "x_pca=pca.fit_transform(x_scaled)"
      ],
      "metadata": {
        "id": "j7d5ZypD0S3F"
      },
      "execution_count": 33,
      "outputs": []
    },
    {
      "cell_type": "code",
      "source": [
        "x_pca.shape"
      ],
      "metadata": {
        "colab": {
          "base_uri": "https://localhost:8080/"
        },
        "id": "9D9JRXoVvONu",
        "outputId": "e8feaa84-4fb6-4304-e3ed-1a8096acb1ac"
      },
      "execution_count": 34,
      "outputs": [
        {
          "output_type": "execute_result",
          "data": {
            "text/plain": [
              "(891, 2)"
            ]
          },
          "metadata": {},
          "execution_count": 34
        }
      ]
    },
    {
      "cell_type": "code",
      "source": [
        "y.shape"
      ],
      "metadata": {
        "colab": {
          "base_uri": "https://localhost:8080/"
        },
        "id": "tLdZyEBEvUvx",
        "outputId": "75e345bd-863b-40aa-f271-7e862fb501fb"
      },
      "execution_count": 35,
      "outputs": [
        {
          "output_type": "execute_result",
          "data": {
            "text/plain": [
              "(891,)"
            ]
          },
          "metadata": {},
          "execution_count": 35
        }
      ]
    },
    {
      "cell_type": "code",
      "source": [
        "x_train,x_test,y_train,y_test=train_test_split(x_pca,y,test_size=0.3,random_state=42)\n",
        "model=LogisticRegression()\n",
        "model.fit(x_train,y_train)\n",
        "y_pred=model.predict(x_test)"
      ],
      "metadata": {
        "id": "zo40dT2T3DWH"
      },
      "execution_count": 36,
      "outputs": []
    },
    {
      "cell_type": "code",
      "source": [
        "cm=confusion_matrix(y_test,y_pred)\n",
        "plt.figure(figsize=(8,6))\n",
        "sns.heatmap(cm,annot=True,fmt='d',cmap='Blues')\n",
        "plt.title('Confusion Matrix')\n",
        "plt.xlabel('Predicted Labels')\n",
        "plt.ylabel('True Labels')\n",
        "plt.show()"
      ],
      "metadata": {
        "id": "fXjTr3gP2F3n",
        "colab": {
          "base_uri": "https://localhost:8080/",
          "height": 564
        },
        "outputId": "f7b1605b-b5c8-41c0-f086-b6fb61e161b8"
      },
      "execution_count": 37,
      "outputs": [
        {
          "output_type": "display_data",
          "data": {
            "text/plain": [
              "<Figure size 800x600 with 2 Axes>"
            ],
            "image/png": "[encoded data removed]"
          },
          "metadata": {}
        }
      ]
    },
    {
      "cell_type": "code",
      "source": [
        "y_numeric = pd.factorize(y)[0]\n",
        "plt.figure(figsize=(12, 5))\n",
        "plt.subplot(1, 2, 1)\n",
        "plt.scatter(x_scaled[:, 0], x_scaled[:, 1], c=y_numeric, cmap='coolwarm', edgecolor='k', s=80)\n",
        "plt.xlabel('Original Feature 1')\n",
        "plt.ylabel('Original Feature 2')\n",
        "plt.title('Before PCA: Using First 2 Standardized Features')\n",
        "plt.colorbar(label='Target classes')\n",
        "\n",
        "plt.subplot(1, 2, 2)\n",
        "plt.scatter(x_pca[:, 0], x_pca[:, 1], c=y_numeric, cmap='coolwarm', edgecolor='k', s=80)\n",
        "plt.xlabel('Principal Component 1')\n",
        "plt.ylabel('Principal Component 2')\n",
        "plt.title('After PCA: Projected onto 2 Principal Components')\n",
        "plt.colorbar(label='Target classes')\n",
        "\n",
        "plt.tight_layout()\n",
        "plt.show()"
      ],
      "metadata": {
        "id": "5bJliEOt3I_P",
        "colab": {
          "base_uri": "https://localhost:8080/",
          "height": 374
        },
        "outputId": "4726ab41-5d0e-4a9a-ef5c-894815541b8a"
      },
      "execution_count": 38,
      "outputs": [
        {
          "output_type": "display_data",
          "data": {
            "text/plain": [
              "<Figure size 1200x500 with 4 Axes>"
            ],
            "image/png": "[encoded data removed]"
          },
          "metadata": {}
        }
      ]
    },
    {
      "cell_type": "code",
      "source": [],
      "metadata": {
        "id": "toqzmi4EIqBP"
      },
      "execution_count": null,
      "outputs": []
    }
  ]
}