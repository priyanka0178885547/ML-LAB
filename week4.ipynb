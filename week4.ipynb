{
  "nbformat": 4,
  "nbformat_minor": 0,
  "metadata": {
    "colab": {
      "provenance": [],
      "authorship_tag": "ABX9TyMio6VQTcX9XaSvA2+mSbZb",
      "include_colab_link": true
    },
    "kernelspec": {
      "name": "python3",
      "display_name": "Python 3"
    },
    "language_info": {
      "name": "python"
    }
  },
  "cells": [
    {
      "cell_type": "markdown",
      "metadata": {
        "id": "view-in-github",
        "colab_type": "text"
      },
      "source": [
        "<a href=\"https://colab.research.google.com/github/priyanka0178885547/ML-LAB/blob/main/week4.ipynb\" target=\"_parent\"><img src=\"https://colab.research.google.com/assets/colab-badge.svg\" alt=\"Open In Colab\"/></a>"
      ]
    },
    {
      "cell_type": "code",
      "execution_count": null,
      "metadata": {
        "id": "watUAQ3ECt8N"
      },
      "outputs": [],
      "source": [
        "import pandas as pd\n",
        "import numpy as np"
      ]
    },
    {
      "cell_type": "code",
      "source": [
        "df=pd.read_csv('/content/titanic_train.csv')\n",
        "df.shape"
      ],
      "metadata": {
        "colab": {
          "base_uri": "https://localhost:8080/"
        },
        "id": "0WJMKW2cC5-n",
        "outputId": "3e53606e-35ae-405d-b482-952f54d90a31"
      },
      "execution_count": null,
      "outputs": [
        {
          "output_type": "execute_result",
          "data": {
            "text/plain": [
              "(891, 12)"
            ]
          },
          "metadata": {},
          "execution_count": 28
        }
      ]
    },
    {
      "cell_type": "code",
      "source": [
        "df.columns"
      ],
      "metadata": {
        "colab": {
          "base_uri": "https://localhost:8080/"
        },
        "id": "JsrF4pSGC-7C",
        "outputId": "ee31d76f-f427-40fe-f818-ee7148b1b994"
      },
      "execution_count": null,
      "outputs": [
        {
          "output_type": "execute_result",
          "data": {
            "text/plain": [
              "Index(['PassengerId', 'Survived', 'Pclass', 'Name', 'Sex', 'Age', 'SibSp',\n",
              "       'Parch', 'Ticket', 'Fare', 'Cabin', 'Embarked'],\n",
              "      dtype='object')"
            ]
          },
          "metadata": {},
          "execution_count": 29
        }
      ]
    },
    {
      "cell_type": "code",
      "source": [
        "df=df.drop(['PassengerId','Name','Ticket'],axis=1)"
      ],
      "metadata": {
        "id": "rMuqrnHhDROL"
      },
      "execution_count": null,
      "outputs": []
    },
    {
      "cell_type": "code",
      "source": [
        "df.head(5)"
      ],
      "metadata": {
        "colab": {
          "base_uri": "https://localhost:8080/",
          "height": 206
        },
        "id": "b6YIHmQFDWLp",
        "outputId": "441fe118-d5ea-4500-ee74-10e17e5b7cc4"
      },
      "execution_count": null,
      "outputs": [
        {
          "output_type": "execute_result",
          "data": {
            "text/plain": [
              "   Survived  Pclass     Sex   Age  SibSp  Parch     Fare Cabin Embarked\n",
              "0         0       3    male  22.0      1      0   7.2500   NaN        S\n",
              "1         1       1  female  38.0      1      0  71.2833   C85        C\n",
              "2         1       3  female  26.0      0      0   7.9250   NaN        S\n",
              "3         1       1  female  35.0      1      0  53.1000  C123        S\n",
              "4         0       3    male  35.0      0      0   8.0500   NaN        S"
            ],
            "text/html": [
              "\n",
              "  <div id=\"df-c4c62ee1-aad4-4eb1-81f5-56efd56ae672\" class=\"colab-df-container\">\n",
              "    <div>\n",
              "<style scoped>\n",
              "    .dataframe tbody tr th:only-of-type {\n",
              "        vertical-align: middle;\n",
              "    }\n",
              "\n",
              "    .dataframe tbody tr th {\n",
              "        vertical-align: top;\n",
              "    }\n",
              "\n",
              "    .dataframe thead th {\n",
              "        text-align: right;\n",
              "    }\n",
              "</style>\n",
              "<table border=\"1\" class=\"dataframe\">\n",
              "  <thead>\n",
              "    <tr style=\"text-align: right;\">\n",
              "      <th></th>\n",
              "      <th>Survived</th>\n",
              "      <th>Pclass</th>\n",
              "      <th>Sex</th>\n",
              "      <th>Age</th>\n",
              "      <th>SibSp</th>\n",
              "      <th>Parch</th>\n",
              "      <th>Fare</th>\n",
              "      <th>Cabin</th>\n",
              "      <th>Embarked</th>\n",
              "    </tr>\n",
              "  </thead>\n",
              "  <tbody>\n",
              "    <tr>\n",
              "      <th>0</th>\n",
              "      <td>0</td>\n",
              "      <td>3</td>\n",
              "      <td>male</td>\n",
              "      <td>22.0</td>\n",
              "      <td>1</td>\n",
              "      <td>0</td>\n",
              "      <td>7.2500</td>\n",
              "      <td>NaN</td>\n",
              "      <td>S</td>\n",
              "    </tr>\n",
              "    <tr>\n",
              "      <th>1</th>\n",
              "      <td>1</td>\n",
              "      <td>1</td>\n",
              "      <td>female</td>\n",
              "      <td>38.0</td>\n",
              "      <td>1</td>\n",
              "      <td>0</td>\n",
              "      <td>71.2833</td>\n",
              "      <td>C85</td>\n",
              "      <td>C</td>\n",
              "    </tr>\n",
              "    <tr>\n",
              "      <th>2</th>\n",
              "      <td>1</td>\n",
              "      <td>3</td>\n",
              "      <td>female</td>\n",
              "      <td>26.0</td>\n",
              "      <td>0</td>\n",
              "      <td>0</td>\n",
              "      <td>7.9250</td>\n",
              "      <td>NaN</td>\n",
              "      <td>S</td>\n",
              "    </tr>\n",
              "    <tr>\n",
              "      <th>3</th>\n",
              "      <td>1</td>\n",
              "      <td>1</td>\n",
              "      <td>female</td>\n",
              "      <td>35.0</td>\n",
              "      <td>1</td>\n",
              "      <td>0</td>\n",
              "      <td>53.1000</td>\n",
              "      <td>C123</td>\n",
              "      <td>S</td>\n",
              "    </tr>\n",
              "    <tr>\n",
              "      <th>4</th>\n",
              "      <td>0</td>\n",
              "      <td>3</td>\n",
              "      <td>male</td>\n",
              "      <td>35.0</td>\n",
              "      <td>0</td>\n",
              "      <td>0</td>\n",
              "      <td>8.0500</td>\n",
              "      <td>NaN</td>\n",
              "      <td>S</td>\n",
              "    </tr>\n",
              "  </tbody>\n",
              "</table>\n",
              "</div>\n",
              "    <div class=\"colab-df-buttons\">\n",
              "\n",
              "  <div class=\"colab-df-container\">\n",
              "    <button class=\"colab-df-convert\" onclick=\"convertToInteractive('df-c4c62ee1-aad4-4eb1-81f5-56efd56ae672')\"\n",
              "            title=\"Convert this dataframe to an interactive table.\"\n",
              "            style=\"display:none;\">\n",
              "\n",
              "  <svg xmlns=\"http://www.w3.org/2000/svg\" height=\"24px\" viewBox=\"0 -960 960 960\">\n",
              "    <path d=\"M120-120v-720h720v720H120Zm60-500h600v-160H180v160Zm220 220h160v-160H400v160Zm0 220h160v-160H400v160ZM180-400h160v-160H180v160Zm440 0h160v-160H620v160ZM180-180h160v-160H180v160Zm440 0h160v-160H620v160Z\"/>\n",
              "  </svg>\n",
              "    </button>\n",
              "\n",
              "  <style>\n",
              "    .colab-df-container {\n",
              "      display:flex;\n",
              "      gap: 12px;\n",
              "    }\n",
              "\n",
              "    .colab-df-convert {\n",
              "      background-color: #E8F0FE;\n",
              "      border: none;\n",
              "      border-radius: 50%;\n",
              "      cursor: pointer;\n",
              "      display: none;\n",
              "      fill: #1967D2;\n",
              "      height: 32px;\n",
              "      padding: 0 0 0 0;\n",
              "      width: 32px;\n",
              "    }\n",
              "\n",
              "    .colab-df-convert:hover {\n",
              "      background-color: #E2EBFA;\n",
              "      box-shadow: 0px 1px 2px rgba(60, 64, 67, 0.3), 0px 1px 3px 1px rgba(60, 64, 67, 0.15);\n",
              "      fill: #174EA6;\n",
              "    }\n",
              "\n",
              "    .colab-df-buttons div {\n",
              "      margin-bottom: 4px;\n",
              "    }\n",
              "\n",
              "    [theme=dark] .colab-df-convert {\n",
              "      background-color: #3B4455;\n",
              "      fill: #D2E3FC;\n",
              "    }\n",
              "\n",
              "    [theme=dark] .colab-df-convert:hover {\n",
              "      background-color: #434B5C;\n",
              "      box-shadow: 0px 1px 3px 1px rgba(0, 0, 0, 0.15);\n",
              "      filter: drop-shadow(0px 1px 2px rgba(0, 0, 0, 0.3));\n",
              "      fill: #FFFFFF;\n",
              "    }\n",
              "  </style>\n",
              "\n",
              "    <script>\n",
              "      const buttonEl =\n",
              "        document.querySelector('#df-c4c62ee1-aad4-4eb1-81f5-56efd56ae672 button.colab-df-convert');\n",
              "      buttonEl.style.display =\n",
              "        google.colab.kernel.accessAllowed ? 'block' : 'none';\n",
              "\n",
              "      async function convertToInteractive(key) {\n",
              "        const element = document.querySelector('#df-c4c62ee1-aad4-4eb1-81f5-56efd56ae672');\n",
              "        const dataTable =\n",
              "          await google.colab.kernel.invokeFunction('convertToInteractive',\n",
              "                                                    [key], {});\n",
              "        if (!dataTable) return;\n",
              "\n",
              "        const docLinkHtml = 'Like what you see? Visit the ' +\n",
              "          '<a target=\"_blank\" href=https://colab.research.google.com/notebooks/data_table.ipynb>data table notebook</a>'\n",
              "          + ' to learn more about interactive tables.';\n",
              "        element.innerHTML = '';\n",
              "        dataTable['output_type'] = 'display_data';\n",
              "        await google.colab.output.renderOutput(dataTable, element);\n",
              "        const docLink = document.createElement('div');\n",
              "        docLink.innerHTML = docLinkHtml;\n",
              "        element.appendChild(docLink);\n",
              "      }\n",
              "    </script>\n",
              "  </div>\n",
              "\n",
              "\n",
              "    <div id=\"df-1fb79e03-0543-4f51-86b2-3433f4a17537\">\n",
              "      <button class=\"colab-df-quickchart\" onclick=\"quickchart('df-1fb79e03-0543-4f51-86b2-3433f4a17537')\"\n",
              "                title=\"Suggest charts\"\n",
              "                style=\"display:none;\">\n",
              "\n",
              "<svg xmlns=\"http://www.w3.org/2000/svg\" height=\"24px\"viewBox=\"0 0 24 24\"\n",
              "     width=\"24px\">\n",
              "    <g>\n",
              "        <path d=\"M19 3H5c-1.1 0-2 .9-2 2v14c0 1.1.9 2 2 2h14c1.1 0 2-.9 2-2V5c0-1.1-.9-2-2-2zM9 17H7v-7h2v7zm4 0h-2V7h2v10zm4 0h-2v-4h2v4z\"/>\n",
              "    </g>\n",
              "</svg>\n",
              "      </button>\n",
              "\n",
              "<style>\n",
              "  .colab-df-quickchart {\n",
              "      --bg-color: #E8F0FE;\n",
              "      --fill-color: #1967D2;\n",
              "      --hover-bg-color: #E2EBFA;\n",
              "      --hover-fill-color: #174EA6;\n",
              "      --disabled-fill-color: #AAA;\n",
              "      --disabled-bg-color: #DDD;\n",
              "  }\n",
              "\n",
              "  [theme=dark] .colab-df-quickchart {\n",
              "      --bg-color: #3B4455;\n",
              "      --fill-color: #D2E3FC;\n",
              "      --hover-bg-color: #434B5C;\n",
              "      --hover-fill-color: #FFFFFF;\n",
              "      --disabled-bg-color: #3B4455;\n",
              "      --disabled-fill-color: #666;\n",
              "  }\n",
              "\n",
              "  .colab-df-quickchart {\n",
              "    background-color: var(--bg-color);\n",
              "    border: none;\n",
              "    border-radius: 50%;\n",
              "    cursor: pointer;\n",
              "    display: none;\n",
              "    fill: var(--fill-color);\n",
              "    height: 32px;\n",
              "    padding: 0;\n",
              "    width: 32px;\n",
              "  }\n",
              "\n",
              "  .colab-df-quickchart:hover {\n",
              "    background-color: var(--hover-bg-color);\n",
              "    box-shadow: 0 1px 2px rgba(60, 64, 67, 0.3), 0 1px 3px 1px rgba(60, 64, 67, 0.15);\n",
              "    fill: var(--button-hover-fill-color);\n",
              "  }\n",
              "\n",
              "  .colab-df-quickchart-complete:disabled,\n",
              "  .colab-df-quickchart-complete:disabled:hover {\n",
              "    background-color: var(--disabled-bg-color);\n",
              "    fill: var(--disabled-fill-color);\n",
              "    box-shadow: none;\n",
              "  }\n",
              "\n",
              "  .colab-df-spinner {\n",
              "    border: 2px solid var(--fill-color);\n",
              "    border-color: transparent;\n",
              "    border-bottom-color: var(--fill-color);\n",
              "    animation:\n",
              "      spin 1s steps(1) infinite;\n",
              "  }\n",
              "\n",
              "  @keyframes spin {\n",
              "    0% {\n",
              "      border-color: transparent;\n",
              "      border-bottom-color: var(--fill-color);\n",
              "      border-left-color: var(--fill-color);\n",
              "    }\n",
              "    20% {\n",
              "      border-color: transparent;\n",
              "      border-left-color: var(--fill-color);\n",
              "      border-top-color: var(--fill-color);\n",
              "    }\n",
              "    30% {\n",
              "      border-color: transparent;\n",
              "      border-left-color: var(--fill-color);\n",
              "      border-top-color: var(--fill-color);\n",
              "      border-right-color: var(--fill-color);\n",
              "    }\n",
              "    40% {\n",
              "      border-color: transparent;\n",
              "      border-right-color: var(--fill-color);\n",
              "      border-top-color: var(--fill-color);\n",
              "    }\n",
              "    60% {\n",
              "      border-color: transparent;\n",
              "      border-right-color: var(--fill-color);\n",
              "    }\n",
              "    80% {\n",
              "      border-color: transparent;\n",
              "      border-right-color: var(--fill-color);\n",
              "      border-bottom-color: var(--fill-color);\n",
              "    }\n",
              "    90% {\n",
              "      border-color: transparent;\n",
              "      border-bottom-color: var(--fill-color);\n",
              "    }\n",
              "  }\n",
              "</style>\n",
              "\n",
              "      <script>\n",
              "        async function quickchart(key) {\n",
              "          const quickchartButtonEl =\n",
              "            document.querySelector('#' + key + ' button');\n",
              "          quickchartButtonEl.disabled = true;  // To prevent multiple clicks.\n",
              "          quickchartButtonEl.classList.add('colab-df-spinner');\n",
              "          try {\n",
              "            const charts = await google.colab.kernel.invokeFunction(\n",
              "                'suggestCharts', [key], {});\n",
              "          } catch (error) {\n",
              "            console.error('Error during call to suggestCharts:', error);\n",
              "          }\n",
              "          quickchartButtonEl.classList.remove('colab-df-spinner');\n",
              "          quickchartButtonEl.classList.add('colab-df-quickchart-complete');\n",
              "        }\n",
              "        (() => {\n",
              "          let quickchartButtonEl =\n",
              "            document.querySelector('#df-1fb79e03-0543-4f51-86b2-3433f4a17537 button');\n",
              "          quickchartButtonEl.style.display =\n",
              "            google.colab.kernel.accessAllowed ? 'block' : 'none';\n",
              "        })();\n",
              "      </script>\n",
              "    </div>\n",
              "\n",
              "    </div>\n",
              "  </div>\n"
            ],
            "application/vnd.google.colaboratory.intrinsic+json": {
              "type": "dataframe",
              "variable_name": "df",
              "summary": "{\n  \"name\": \"df\",\n  \"rows\": 891,\n  \"fields\": [\n    {\n      \"column\": \"Survived\",\n      \"properties\": {\n        \"dtype\": \"number\",\n        \"std\": 0,\n        \"min\": 0,\n        \"max\": 1,\n        \"num_unique_values\": 2,\n        \"samples\": [\n          1,\n          0\n        ],\n        \"semantic_type\": \"\",\n        \"description\": \"\"\n      }\n    },\n    {\n      \"column\": \"Pclass\",\n      \"properties\": {\n        \"dtype\": \"number\",\n        \"std\": 0,\n        \"min\": 1,\n        \"max\": 3,\n        \"num_unique_values\": 3,\n        \"samples\": [\n          3,\n          1\n        ],\n        \"semantic_type\": \"\",\n        \"description\": \"\"\n      }\n    },\n    {\n      \"column\": \"Sex\",\n      \"properties\": {\n        \"dtype\": \"category\",\n        \"num_unique_values\": 2,\n        \"samples\": [\n          \"female\",\n          \"male\"\n        ],\n        \"semantic_type\": \"\",\n        \"description\": \"\"\n      }\n    },\n    {\n      \"column\": \"Age\",\n      \"properties\": {\n        \"dtype\": \"number\",\n        \"std\": 14.526497332334044,\n        \"min\": 0.42,\n        \"max\": 80.0,\n        \"num_unique_values\": 88,\n        \"samples\": [\n          0.75,\n          22.0\n        ],\n        \"semantic_type\": \"\",\n        \"description\": \"\"\n      }\n    },\n    {\n      \"column\": \"SibSp\",\n      \"properties\": {\n        \"dtype\": \"number\",\n        \"std\": 1,\n        \"min\": 0,\n        \"max\": 8,\n        \"num_unique_values\": 7,\n        \"samples\": [\n          1,\n          0\n        ],\n        \"semantic_type\": \"\",\n        \"description\": \"\"\n      }\n    },\n    {\n      \"column\": \"Parch\",\n      \"properties\": {\n        \"dtype\": \"number\",\n        \"std\": 0,\n        \"min\": 0,\n        \"max\": 6,\n        \"num_unique_values\": 7,\n        \"samples\": [\n          0,\n          1\n        ],\n        \"semantic_type\": \"\",\n        \"description\": \"\"\n      }\n    },\n    {\n      \"column\": \"Fare\",\n      \"properties\": {\n        \"dtype\": \"number\",\n        \"std\": 49.693428597180905,\n        \"min\": 0.0,\n        \"max\": 512.3292,\n        \"num_unique_values\": 248,\n        \"samples\": [\n          11.2417,\n          51.8625\n        ],\n        \"semantic_type\": \"\",\n        \"description\": \"\"\n      }\n    },\n    {\n      \"column\": \"Cabin\",\n      \"properties\": {\n        \"dtype\": \"category\",\n        \"num_unique_values\": 147,\n        \"samples\": [\n          \"D45\",\n          \"B49\"\n        ],\n        \"semantic_type\": \"\",\n        \"description\": \"\"\n      }\n    },\n    {\n      \"column\": \"Embarked\",\n      \"properties\": {\n        \"dtype\": \"category\",\n        \"num_unique_values\": 3,\n        \"samples\": [\n          \"S\",\n          \"C\"\n        ],\n        \"semantic_type\": \"\",\n        \"description\": \"\"\n      }\n    }\n  ]\n}"
            }
          },
          "metadata": {},
          "execution_count": 31
        }
      ]
    },
    {
      "cell_type": "code",
      "source": [
        "[col for col in df.columns if df[col].isnull().sum()>0]\n"
      ],
      "metadata": {
        "colab": {
          "base_uri": "https://localhost:8080/"
        },
        "id": "reIPU1RzDcQ2",
        "outputId": "6d728a74-6d66-4b5a-e19a-6b682f3ca9f0"
      },
      "execution_count": null,
      "outputs": [
        {
          "output_type": "execute_result",
          "data": {
            "text/plain": [
              "['Age', 'Cabin', 'Embarked']"
            ]
          },
          "metadata": {},
          "execution_count": 32
        }
      ]
    },
    {
      "cell_type": "code",
      "source": [
        "df['Age'] = df['Age'].fillna(df['Age'].median())"
      ],
      "metadata": {
        "id": "Il-oNUBnDmxM"
      },
      "execution_count": null,
      "outputs": []
    },
    {
      "cell_type": "code",
      "source": [
        "df=df.drop(['Embarked','Cabin'],axis=1)"
      ],
      "metadata": {
        "id": "rJgv5wKlDrfH"
      },
      "execution_count": null,
      "outputs": []
    },
    {
      "cell_type": "code",
      "source": [
        "from sklearn.ensemble import RandomForestClassifier,RandomForestRegressor"
      ],
      "metadata": {
        "id": "9BA_Q1BQDyfL"
      },
      "execution_count": null,
      "outputs": []
    },
    {
      "cell_type": "code",
      "source": [
        "from sklearn.metrics import roc_auc_score"
      ],
      "metadata": {
        "id": "I6NyGdlhD6Eu"
      },
      "execution_count": null,
      "outputs": []
    },
    {
      "cell_type": "code",
      "source": [
        "from mlxtend.feature_selection import SequentialFeatureSelector as SFS"
      ],
      "metadata": {
        "id": "L55m3V5CD_oh"
      },
      "execution_count": null,
      "outputs": []
    },
    {
      "cell_type": "code",
      "source": [
        "X = df.drop('Survived',axis=1)\n",
        "y = df['Survived']"
      ],
      "metadata": {
        "id": "o4SjL8TOEFe_"
      },
      "execution_count": null,
      "outputs": []
    },
    {
      "cell_type": "code",
      "source": [
        "X = pd.get_dummies(X,drop_first=True)\n"
      ],
      "metadata": {
        "id": "Fgx0akiLEI2R"
      },
      "execution_count": null,
      "outputs": []
    },
    {
      "cell_type": "code",
      "source": [
        "from sklearn.model_selection import train_test_split\n"
      ],
      "metadata": {
        "id": "dfdVhSnCEOQf"
      },
      "execution_count": null,
      "outputs": []
    },
    {
      "cell_type": "code",
      "source": [
        "x_train,x_test,y_train,y_test=train_test_split(X,y,test_size=0.3,random_state=0)"
      ],
      "metadata": {
        "id": "hqqTQHleESK1"
      },
      "execution_count": null,
      "outputs": []
    },
    {
      "cell_type": "code",
      "source": [
        "grouped_feature_ls = []\n",
        "correlated_groups = []\n",
        "def correlation (dataset, threshold):\n",
        "    col_corr = set()\n",
        "    corr_matrix = dataset.corr()\n",
        "    for i in range(len(corr_matrix.columns)):\n",
        "        for j in range(i):\n",
        "            if abs(corr_matrix.iloc[i, j]) > threshold:\n",
        "                colname=corr_matrix.columns[i]\n",
        "                col_corr.add(colname)\n",
        "    return col_corr\n",
        "corr_features=correlation (x_test, 0.9)\n",
        "correlated_features = set(corr_features)\n",
        "print(len(correlated_features))"
      ],
      "metadata": {
        "colab": {
          "base_uri": "https://localhost:8080/"
        },
        "id": "CUNvnidsEWGW",
        "outputId": "118dc756-d31f-4b18-b5b6-7b95436eb412"
      },
      "execution_count": null,
      "outputs": [
        {
          "output_type": "stream",
          "name": "stdout",
          "text": [
            "0\n"
          ]
        }
      ]
    },
    {
      "cell_type": "code",
      "source": [
        "sfs1=SFS(RandomForestClassifier(n_jobs=4),k_features=5,forward=True,verbose=2,scoring='roc_auc' or 'accuracy',cv=3)\n"
      ],
      "metadata": {
        "id": "Cr1hkhCDEaOt"
      },
      "execution_count": null,
      "outputs": []
    },
    {
      "cell_type": "code",
      "source": [
        "sfs1=sfs1.fit(np.array(x_train.fillna(0)),y_train)"
      ],
      "metadata": {
        "colab": {
          "base_uri": "https://localhost:8080/"
        },
        "id": "PsW80KQUEehZ",
        "outputId": "e8dde32e-1997-445a-ba47-082b3fb57398"
      },
      "execution_count": null,
      "outputs": [
        {
          "output_type": "stream",
          "name": "stderr",
          "text": [
            "[Parallel(n_jobs=1)]: Done   6 out of   6 | elapsed:    5.0s finished\n",
            "\n",
            "[2025-08-20 09:37:15] Features: 1/5 -- score: 0.765194136612553[Parallel(n_jobs=1)]: Done   5 out of   5 | elapsed:    4.6s finished\n",
            "\n",
            "[2025-08-20 09:37:19] Features: 2/5 -- score: 0.832223720877483[Parallel(n_jobs=1)]: Done   4 out of   4 | elapsed:    3.5s finished\n",
            "\n",
            "[2025-08-20 09:37:23] Features: 3/5 -- score: 0.8358966413920483[Parallel(n_jobs=1)]: Done   3 out of   3 | elapsed:    2.7s finished\n",
            "\n",
            "[2025-08-20 09:37:26] Features: 4/5 -- score: 0.8412565616797901[Parallel(n_jobs=1)]: Done   2 out of   2 | elapsed:    1.7s finished\n",
            "\n",
            "[2025-08-20 09:37:27] Features: 5/5 -- score: 0.8447287839020122"
          ]
        }
      ]
    },
    {
      "cell_type": "code",
      "source": [
        "print('best accracy score',sfs1.k_score_)\n",
        "print('best subset(indices)',sfs1.k_feature_idx_)\n",
        "print('Best subset (corresponding names):', sfs1.k_feature_names_)"
      ],
      "metadata": {
        "colab": {
          "base_uri": "https://localhost:8080/"
        },
        "id": "G_VKkEESEka1",
        "outputId": "02f93078-5859-4d7a-bc35-6fda92dd4b87"
      },
      "execution_count": null,
      "outputs": [
        {
          "output_type": "stream",
          "name": "stdout",
          "text": [
            "best accracy score 0.8447287839020122\n",
            "best subset(indices) (0, 1, 2, 4, 5)\n",
            "Best subset (corresponding names): ('0', '1', '2', '4', '5')\n"
          ]
        }
      ]
    },
    {
      "cell_type": "code",
      "source": [
        "sfs2=SFS(RandomForestClassifier(n_jobs=4),k_features=5,forward=False,verbose=2,scoring='roc_auc' or 'accuracy',cv=3)\n",
        "sfs2=sfs2.fit(np.array(x_train.fillna(0)),y_train)\n",
        "print('best accracy score',sfs2.k_score_)\n",
        "print('best subset(indices)',sfs2.k_feature_idx_)\n",
        "print('Best subset (corresponding names):', sfs2.k_feature_names_)"
      ],
      "metadata": {
        "colab": {
          "base_uri": "https://localhost:8080/"
        },
        "id": "DkuM1NmvEvkk",
        "outputId": "b81291d9-7eac-46d5-cd3f-e8b9d3c913f8"
      },
      "execution_count": null,
      "outputs": [
        {
          "output_type": "stream",
          "name": "stdout",
          "text": [
            "best accracy score 0.8428028093710509\n",
            "best subset(indices) (0, 1, 2, 4, 5)\n",
            "Best subset (corresponding names): ('0', '1', '2', '4', '5')\n"
          ]
        },
        {
          "output_type": "stream",
          "name": "stderr",
          "text": [
            "[Parallel(n_jobs=1)]: Done   6 out of   6 | elapsed:    6.3s finished\n",
            "\n",
            "[2025-08-20 09:37:44] Features: 5/5 -- score: 0.8428028093710509"
          ]
        }
      ]
    },
    {
      "cell_type": "code",
      "source": [
        "from mlxtend.feature_selection import ExhaustiveFeatureSelector as EFS\n",
        "efs=EFS(RandomForestClassifier(n_jobs=4),min_features=1,max_features=4,scoring='accuracy',cv=5)\n",
        "efs=efs.fit(x_train,y_train)\n",
        "print('best accuracy score',efs.best_score_)\n",
        "print('best subset(indices)',efs.best_idx_)\n",
        "print('Best subset (corresponding names):', efs.best_feature_names_)"
      ],
      "metadata": {
        "colab": {
          "base_uri": "https://localhost:8080/"
        },
        "id": "xWK0t_ZaE08C",
        "outputId": "2fa2e92d-235b-41d4-c23f-014901fda5b9"
      },
      "execution_count": null,
      "outputs": [
        {
          "output_type": "stream",
          "name": "stderr",
          "text": [
            "Features: 56/56"
          ]
        },
        {
          "output_type": "stream",
          "name": "stdout",
          "text": [
            "best accuracy score 0.8170580645161291\n",
            "best subset(indices) (0, 1, 5)\n",
            "Best subset (corresponding names): ('Pclass', 'Age', 'Sex_male')\n"
          ]
        }
      ]
    },
    {
      "cell_type": "code",
      "source": [
        "efs_results = pd.DataFrame.from_dict(efs.get_metric_dict()).T\n",
        "efs_results.sort_values(by='avg_score', ascending=True, inplace=True)\n",
        "efs_results"
      ],
      "metadata": {
        "colab": {
          "base_uri": "https://localhost:8080/",
          "height": 1000
        },
        "id": "3NkV0BfhE-VX",
        "outputId": "9e1918e6-05c7-48ca-dc66-f7e2eeb04526"
      },
      "execution_count": null,
      "outputs": [
        {
          "output_type": "execute_result",
          "data": {
            "text/plain": [
              "     feature_idx  ...   std_err\n",
              "11        (1, 2)  ...  0.017765\n",
              "12        (1, 3)  ...  0.018158\n",
              "34     (1, 3, 4)  ...  0.014121\n",
              "1           (1,)  ...  0.008397\n",
              "13        (1, 4)  ...  0.015715\n",
              "3           (3,)  ...  0.012865\n",
              "31     (1, 2, 3)  ...  0.013449\n",
              "2           (2,)  ...  0.026047\n",
              "23     (0, 1, 4)  ...  0.010534\n",
              "21     (0, 1, 2)  ...  0.019842\n",
              "42  (0, 1, 2, 4)  ...  0.010195\n",
              "6         (0, 1)  ...  0.014031\n",
              "32     (1, 2, 4)  ...  0.012919\n",
              "44  (0, 1, 3, 4)  ...  0.008287\n",
              "51  (1, 2, 3, 4)  ...  0.005226\n",
              "16        (2, 4)  ...  0.005887\n",
              "15        (2, 3)  ...  0.017267\n",
              "41  (0, 1, 2, 3)  ...  0.028176\n",
              "0           (0,)  ...  0.013225\n",
              "26     (0, 2, 4)  ...  0.005819\n",
              "37     (2, 3, 4)  ...  0.013081\n",
              "18        (3, 4)  ...  0.008967\n",
              "25     (0, 2, 3)  ...  0.004809\n",
              "22     (0, 1, 3)  ...  0.023086\n",
              "47  (0, 2, 3, 4)  ...  0.006516\n",
              "4           (4,)  ...  0.010071\n",
              "7         (0, 2)  ...  0.008915\n",
              "9         (0, 4)  ...  0.008027\n",
              "28     (0, 3, 4)  ...  0.006143\n",
              "8         (0, 3)  ...  0.010452\n",
              "54  (1, 3, 4, 5)  ...   0.02001\n",
              "10        (0, 5)  ...  0.009612\n",
              "36     (1, 4, 5)  ...   0.01817\n",
              "53  (1, 2, 4, 5)  ...   0.01107\n",
              "35     (1, 3, 5)  ...  0.012017\n",
              "52  (1, 2, 3, 5)  ...  0.014637\n",
              "14        (1, 5)  ...  0.023482\n",
              "55  (2, 3, 4, 5)  ...  0.014856\n",
              "48  (0, 2, 3, 5)  ...  0.009205\n",
              "40     (3, 4, 5)  ...   0.01944\n",
              "38     (2, 3, 5)  ...  0.014086\n",
              "39     (2, 4, 5)  ...  0.013456\n",
              "33     (1, 2, 5)  ...  0.021398\n",
              "50  (0, 3, 4, 5)  ...  0.010375\n",
              "19        (3, 5)  ...  0.010193\n",
              "5           (5,)  ...  0.011491\n",
              "20        (4, 5)  ...  0.014027\n",
              "27     (0, 2, 5)  ...  0.007819\n",
              "17        (2, 5)  ...  0.013407\n",
              "29     (0, 3, 5)  ...  0.013124\n",
              "46  (0, 1, 4, 5)  ...  0.010438\n",
              "49  (0, 2, 4, 5)  ...  0.012035\n",
              "30     (0, 4, 5)  ...  0.012564\n",
              "45  (0, 1, 3, 5)  ...  0.016639\n",
              "43  (0, 1, 2, 5)  ...  0.020782\n",
              "24     (0, 1, 5)  ...   0.01158\n",
              "\n",
              "[56 rows x 7 columns]"
            ],
            "text/html": [
              "\n",
              "  <div id=\"df-be5a6c12-e956-4e80-b33f-9b758a3ec253\" class=\"colab-df-container\">\n",
              "    <div>\n",
              "<style scoped>\n",
              "    .dataframe tbody tr th:only-of-type {\n",
              "        vertical-align: middle;\n",
              "    }\n",
              "\n",
              "    .dataframe tbody tr th {\n",
              "        vertical-align: top;\n",
              "    }\n",
              "\n",
              "    .dataframe thead th {\n",
              "        text-align: right;\n",
              "    }\n",
              "</style>\n",
              "<table border=\"1\" class=\"dataframe\">\n",
              "  <thead>\n",
              "    <tr style=\"text-align: right;\">\n",
              "      <th></th>\n",
              "      <th>feature_idx</th>\n",
              "      <th>cv_scores</th>\n",
              "      <th>avg_score</th>\n",
              "      <th>feature_names</th>\n",
              "      <th>ci_bound</th>\n",
              "      <th>std_dev</th>\n",
              "      <th>std_err</th>\n",
              "    </tr>\n",
              "  </thead>\n",
              "  <tbody>\n",
              "    <tr>\n",
              "      <th>11</th>\n",
              "      <td>(1, 2)</td>\n",
              "      <td>[0.656, 0.576, 0.624, 0.5564516129032258, 0.58...</td>\n",
              "      <td>0.600232</td>\n",
              "      <td>(Age, SibSp)</td>\n",
              "      <td>0.045666</td>\n",
              "      <td>0.035529</td>\n",
              "      <td>0.017765</td>\n",
              "    </tr>\n",
              "    <tr>\n",
              "      <th>12</th>\n",
              "      <td>(1, 3)</td>\n",
              "      <td>[0.56, 0.568, 0.656, 0.6290322580645161, 0.596...</td>\n",
              "      <td>0.601961</td>\n",
              "      <td>(Age, Parch)</td>\n",
              "      <td>0.046676</td>\n",
              "      <td>0.036315</td>\n",
              "      <td>0.018158</td>\n",
              "    </tr>\n",
              "    <tr>\n",
              "      <th>34</th>\n",
              "      <td>(1, 3, 4)</td>\n",
              "      <td>[0.576, 0.6, 0.576, 0.6048387096774194, 0.6532...</td>\n",
              "      <td>0.602013</td>\n",
              "      <td>(Age, Parch, Fare)</td>\n",
              "      <td>0.0363</td>\n",
              "      <td>0.028242</td>\n",
              "      <td>0.014121</td>\n",
              "    </tr>\n",
              "    <tr>\n",
              "      <th>1</th>\n",
              "      <td>(1,)</td>\n",
              "      <td>[0.624, 0.592, 0.624, 0.5887096774193549, 0.58...</td>\n",
              "      <td>0.603484</td>\n",
              "      <td>(Age,)</td>\n",
              "      <td>0.021586</td>\n",
              "      <td>0.016794</td>\n",
              "      <td>0.008397</td>\n",
              "    </tr>\n",
              "    <tr>\n",
              "      <th>13</th>\n",
              "      <td>(1, 4)</td>\n",
              "      <td>[0.592, 0.64, 0.592, 0.5564516129032258, 0.637...</td>\n",
              "      <td>0.60351</td>\n",
              "      <td>(Age, Fare)</td>\n",
              "      <td>0.040396</td>\n",
              "      <td>0.031429</td>\n",
              "      <td>0.015715</td>\n",
              "    </tr>\n",
              "    <tr>\n",
              "      <th>3</th>\n",
              "      <td>(3,)</td>\n",
              "      <td>[0.568, 0.6, 0.624, 0.6048387096774194, 0.6451...</td>\n",
              "      <td>0.6084</td>\n",
              "      <td>(Parch,)</td>\n",
              "      <td>0.03307</td>\n",
              "      <td>0.02573</td>\n",
              "      <td>0.012865</td>\n",
              "    </tr>\n",
              "    <tr>\n",
              "      <th>31</th>\n",
              "      <td>(1, 2, 3)</td>\n",
              "      <td>[0.64, 0.576, 0.656, 0.6209677419354839, 0.629...</td>\n",
              "      <td>0.6244</td>\n",
              "      <td>(Age, SibSp, Parch)</td>\n",
              "      <td>0.034573</td>\n",
              "      <td>0.026899</td>\n",
              "      <td>0.013449</td>\n",
              "    </tr>\n",
              "    <tr>\n",
              "      <th>2</th>\n",
              "      <td>(2,)</td>\n",
              "      <td>[0.624, 0.6, 0.656, 0.5645161290322581, 0.7177...</td>\n",
              "      <td>0.632452</td>\n",
              "      <td>(SibSp,)</td>\n",
              "      <td>0.066955</td>\n",
              "      <td>0.052094</td>\n",
              "      <td>0.026047</td>\n",
              "    </tr>\n",
              "    <tr>\n",
              "      <th>23</th>\n",
              "      <td>(0, 1, 4)</td>\n",
              "      <td>[0.632, 0.648, 0.64, 0.6048387096774194, 0.669...</td>\n",
              "      <td>0.638839</td>\n",
              "      <td>(Pclass, Age, Fare)</td>\n",
              "      <td>0.027078</td>\n",
              "      <td>0.021068</td>\n",
              "      <td>0.010534</td>\n",
              "    </tr>\n",
              "    <tr>\n",
              "      <th>21</th>\n",
              "      <td>(0, 1, 2)</td>\n",
              "      <td>[0.608, 0.624, 0.712, 0.6048387096774194, 0.65...</td>\n",
              "      <td>0.640413</td>\n",
              "      <td>(Pclass, Age, SibSp)</td>\n",
              "      <td>0.051006</td>\n",
              "      <td>0.039685</td>\n",
              "      <td>0.019842</td>\n",
              "    </tr>\n",
              "    <tr>\n",
              "      <th>42</th>\n",
              "      <td>(0, 1, 2, 4)</td>\n",
              "      <td>[0.656, 0.632, 0.632, 0.6209677419354839, 0.67...</td>\n",
              "      <td>0.643677</td>\n",
              "      <td>(Pclass, Age, SibSp, Fare)</td>\n",
              "      <td>0.026207</td>\n",
              "      <td>0.02039</td>\n",
              "      <td>0.010195</td>\n",
              "    </tr>\n",
              "    <tr>\n",
              "      <th>6</th>\n",
              "      <td>(0, 1)</td>\n",
              "      <td>[0.624, 0.6, 0.664, 0.6532258064516129, 0.6774...</td>\n",
              "      <td>0.643729</td>\n",
              "      <td>(Pclass, Age)</td>\n",
              "      <td>0.036069</td>\n",
              "      <td>0.028063</td>\n",
              "      <td>0.014031</td>\n",
              "    </tr>\n",
              "    <tr>\n",
              "      <th>32</th>\n",
              "      <td>(1, 2, 4)</td>\n",
              "      <td>[0.672, 0.648, 0.648, 0.5967741935483871, 0.66...</td>\n",
              "      <td>0.645213</td>\n",
              "      <td>(Age, SibSp, Fare)</td>\n",
              "      <td>0.033209</td>\n",
              "      <td>0.025837</td>\n",
              "      <td>0.012919</td>\n",
              "    </tr>\n",
              "    <tr>\n",
              "      <th>44</th>\n",
              "      <td>(0, 1, 3, 4)</td>\n",
              "      <td>[0.624, 0.632, 0.656, 0.6693548387096774, 0.65...</td>\n",
              "      <td>0.646916</td>\n",
              "      <td>(Pclass, Age, Parch, Fare)</td>\n",
              "      <td>0.021302</td>\n",
              "      <td>0.016574</td>\n",
              "      <td>0.008287</td>\n",
              "    </tr>\n",
              "    <tr>\n",
              "      <th>51</th>\n",
              "      <td>(1, 2, 3, 4)</td>\n",
              "      <td>[0.664, 0.632, 0.648, 0.6451612903225806, 0.65...</td>\n",
              "      <td>0.648477</td>\n",
              "      <td>(Age, SibSp, Parch, Fare)</td>\n",
              "      <td>0.013434</td>\n",
              "      <td>0.010452</td>\n",
              "      <td>0.005226</td>\n",
              "    </tr>\n",
              "    <tr>\n",
              "      <th>16</th>\n",
              "      <td>(2, 4)</td>\n",
              "      <td>[0.656, 0.672, 0.656, 0.6451612903225806, 0.63...</td>\n",
              "      <td>0.653252</td>\n",
              "      <td>(SibSp, Fare)</td>\n",
              "      <td>0.015132</td>\n",
              "      <td>0.011773</td>\n",
              "      <td>0.005887</td>\n",
              "    </tr>\n",
              "    <tr>\n",
              "      <th>15</th>\n",
              "      <td>(2, 3)</td>\n",
              "      <td>[0.648, 0.64, 0.72, 0.6209677419354839, 0.6774...</td>\n",
              "      <td>0.661277</td>\n",
              "      <td>(SibSp, Parch)</td>\n",
              "      <td>0.044386</td>\n",
              "      <td>0.034533</td>\n",
              "      <td>0.017267</td>\n",
              "    </tr>\n",
              "    <tr>\n",
              "      <th>41</th>\n",
              "      <td>(0, 1, 2, 3)</td>\n",
              "      <td>[0.608, 0.624, 0.768, 0.6612903225806451, 0.64...</td>\n",
              "      <td>0.66129</td>\n",
              "      <td>(Pclass, Age, SibSp, Parch)</td>\n",
              "      <td>0.072428</td>\n",
              "      <td>0.056352</td>\n",
              "      <td>0.028176</td>\n",
              "    </tr>\n",
              "    <tr>\n",
              "      <th>0</th>\n",
              "      <td>(0,)</td>\n",
              "      <td>[0.64, 0.656, 0.68, 0.7016129032258065, 0.6290...</td>\n",
              "      <td>0.661329</td>\n",
              "      <td>(Pclass,)</td>\n",
              "      <td>0.033995</td>\n",
              "      <td>0.026449</td>\n",
              "      <td>0.013225</td>\n",
              "    </tr>\n",
              "    <tr>\n",
              "      <th>26</th>\n",
              "      <td>(0, 2, 4)</td>\n",
              "      <td>[0.68, 0.656, 0.68, 0.6532258064516129, 0.6612...</td>\n",
              "      <td>0.666103</td>\n",
              "      <td>(Pclass, SibSp, Fare)</td>\n",
              "      <td>0.014959</td>\n",
              "      <td>0.011639</td>\n",
              "      <td>0.005819</td>\n",
              "    </tr>\n",
              "    <tr>\n",
              "      <th>37</th>\n",
              "      <td>(2, 3, 4)</td>\n",
              "      <td>[0.696, 0.64, 0.704, 0.6451612903225806, 0.661...</td>\n",
              "      <td>0.66929</td>\n",
              "      <td>(SibSp, Parch, Fare)</td>\n",
              "      <td>0.033626</td>\n",
              "      <td>0.026162</td>\n",
              "      <td>0.013081</td>\n",
              "    </tr>\n",
              "    <tr>\n",
              "      <th>18</th>\n",
              "      <td>(3, 4)</td>\n",
              "      <td>[0.664, 0.656, 0.68, 0.6532258064516129, 0.701...</td>\n",
              "      <td>0.670968</td>\n",
              "      <td>(Parch, Fare)</td>\n",
              "      <td>0.02305</td>\n",
              "      <td>0.017934</td>\n",
              "      <td>0.008967</td>\n",
              "    </tr>\n",
              "    <tr>\n",
              "      <th>25</th>\n",
              "      <td>(0, 2, 3)</td>\n",
              "      <td>[0.664, 0.688, 0.672, 0.6774193548387096, 0.66...</td>\n",
              "      <td>0.672542</td>\n",
              "      <td>(Pclass, SibSp, Parch)</td>\n",
              "      <td>0.012363</td>\n",
              "      <td>0.009619</td>\n",
              "      <td>0.004809</td>\n",
              "    </tr>\n",
              "    <tr>\n",
              "      <th>22</th>\n",
              "      <td>(0, 1, 3)</td>\n",
              "      <td>[0.608, 0.68, 0.752, 0.6693548387096774, 0.661...</td>\n",
              "      <td>0.674129</td>\n",
              "      <td>(Pclass, Age, Parch)</td>\n",
              "      <td>0.059344</td>\n",
              "      <td>0.046171</td>\n",
              "      <td>0.023086</td>\n",
              "    </tr>\n",
              "    <tr>\n",
              "      <th>47</th>\n",
              "      <td>(0, 2, 3, 4)</td>\n",
              "      <td>[0.688, 0.656, 0.68, 0.6612903225806451, 0.685...</td>\n",
              "      <td>0.674155</td>\n",
              "      <td>(Pclass, SibSp, Parch, Fare)</td>\n",
              "      <td>0.016751</td>\n",
              "      <td>0.013033</td>\n",
              "      <td>0.006516</td>\n",
              "    </tr>\n",
              "    <tr>\n",
              "      <th>4</th>\n",
              "      <td>(4,)</td>\n",
              "      <td>[0.696, 0.664, 0.648, 0.7016129032258065, 0.68...</td>\n",
              "      <td>0.679019</td>\n",
              "      <td>(Fare,)</td>\n",
              "      <td>0.025888</td>\n",
              "      <td>0.020141</td>\n",
              "      <td>0.010071</td>\n",
              "    </tr>\n",
              "    <tr>\n",
              "      <th>7</th>\n",
              "      <td>(0, 2)</td>\n",
              "      <td>[0.656, 0.672, 0.688, 0.6774193548387096, 0.70...</td>\n",
              "      <td>0.680619</td>\n",
              "      <td>(Pclass, SibSp)</td>\n",
              "      <td>0.022916</td>\n",
              "      <td>0.01783</td>\n",
              "      <td>0.008915</td>\n",
              "    </tr>\n",
              "    <tr>\n",
              "      <th>9</th>\n",
              "      <td>(0, 4)</td>\n",
              "      <td>[0.68, 0.672, 0.656, 0.6935483870967742, 0.701...</td>\n",
              "      <td>0.680632</td>\n",
              "      <td>(Pclass, Fare)</td>\n",
              "      <td>0.020634</td>\n",
              "      <td>0.016054</td>\n",
              "      <td>0.008027</td>\n",
              "    </tr>\n",
              "    <tr>\n",
              "      <th>28</th>\n",
              "      <td>(0, 3, 4)</td>\n",
              "      <td>[0.688, 0.696, 0.72, 0.6935483870967742, 0.685...</td>\n",
              "      <td>0.696606</td>\n",
              "      <td>(Pclass, Parch, Fare)</td>\n",
              "      <td>0.015791</td>\n",
              "      <td>0.012286</td>\n",
              "      <td>0.006143</td>\n",
              "    </tr>\n",
              "    <tr>\n",
              "      <th>8</th>\n",
              "      <td>(0, 3)</td>\n",
              "      <td>[0.672, 0.704, 0.736, 0.6935483870967742, 0.70...</td>\n",
              "      <td>0.703045</td>\n",
              "      <td>(Pclass, Parch)</td>\n",
              "      <td>0.026868</td>\n",
              "      <td>0.020904</td>\n",
              "      <td>0.010452</td>\n",
              "    </tr>\n",
              "    <tr>\n",
              "      <th>54</th>\n",
              "      <td>(1, 3, 4, 5)</td>\n",
              "      <td>[0.704, 0.792, 0.736, 0.7419354838709677, 0.81...</td>\n",
              "      <td>0.75769</td>\n",
              "      <td>(Age, Parch, Fare, Sex_male)</td>\n",
              "      <td>0.051436</td>\n",
              "      <td>0.040019</td>\n",
              "      <td>0.02001</td>\n",
              "    </tr>\n",
              "    <tr>\n",
              "      <th>10</th>\n",
              "      <td>(0, 5)</td>\n",
              "      <td>[0.752, 0.8, 0.768, 0.75, 0.75]</td>\n",
              "      <td>0.764</td>\n",
              "      <td>(Pclass, Sex_male)</td>\n",
              "      <td>0.02471</td>\n",
              "      <td>0.019225</td>\n",
              "      <td>0.009612</td>\n",
              "    </tr>\n",
              "    <tr>\n",
              "      <th>36</th>\n",
              "      <td>(1, 4, 5)</td>\n",
              "      <td>[0.704, 0.784, 0.76, 0.7580645161290323, 0.814...</td>\n",
              "      <td>0.764116</td>\n",
              "      <td>(Age, Fare, Sex_male)</td>\n",
              "      <td>0.046708</td>\n",
              "      <td>0.03634</td>\n",
              "      <td>0.01817</td>\n",
              "    </tr>\n",
              "    <tr>\n",
              "      <th>53</th>\n",
              "      <td>(1, 2, 4, 5)</td>\n",
              "      <td>[0.728, 0.792, 0.768, 0.7580645161290323, 0.78...</td>\n",
              "      <td>0.765665</td>\n",
              "      <td>(Age, SibSp, Fare, Sex_male)</td>\n",
              "      <td>0.028455</td>\n",
              "      <td>0.022139</td>\n",
              "      <td>0.01107</td>\n",
              "    </tr>\n",
              "    <tr>\n",
              "      <th>35</th>\n",
              "      <td>(1, 3, 5)</td>\n",
              "      <td>[0.752, 0.784, 0.744, 0.75, 0.8064516129032258]</td>\n",
              "      <td>0.76729</td>\n",
              "      <td>(Age, Parch, Sex_male)</td>\n",
              "      <td>0.03089</td>\n",
              "      <td>0.024033</td>\n",
              "      <td>0.012017</td>\n",
              "    </tr>\n",
              "    <tr>\n",
              "      <th>52</th>\n",
              "      <td>(1, 2, 3, 5)</td>\n",
              "      <td>[0.728, 0.752, 0.76, 0.782258064516129, 0.8145...</td>\n",
              "      <td>0.767355</td>\n",
              "      <td>(Age, SibSp, Parch, Sex_male)</td>\n",
              "      <td>0.037626</td>\n",
              "      <td>0.029274</td>\n",
              "      <td>0.014637</td>\n",
              "    </tr>\n",
              "    <tr>\n",
              "      <th>14</th>\n",
              "      <td>(1, 5)</td>\n",
              "      <td>[0.744, 0.832, 0.704, 0.7903225806451613, 0.81...</td>\n",
              "      <td>0.776968</td>\n",
              "      <td>(Age, Sex_male)</td>\n",
              "      <td>0.060362</td>\n",
              "      <td>0.046964</td>\n",
              "      <td>0.023482</td>\n",
              "    </tr>\n",
              "    <tr>\n",
              "      <th>55</th>\n",
              "      <td>(2, 3, 4, 5)</td>\n",
              "      <td>[0.784, 0.816, 0.792, 0.7741935483870968, 0.72...</td>\n",
              "      <td>0.7784</td>\n",
              "      <td>(SibSp, Parch, Fare, Sex_male)</td>\n",
              "      <td>0.038188</td>\n",
              "      <td>0.029711</td>\n",
              "      <td>0.014856</td>\n",
              "    </tr>\n",
              "    <tr>\n",
              "      <th>48</th>\n",
              "      <td>(0, 2, 3, 5)</td>\n",
              "      <td>[0.768, 0.8, 0.792, 0.75, 0.7903225806451613]</td>\n",
              "      <td>0.780065</td>\n",
              "      <td>(Pclass, SibSp, Parch, Sex_male)</td>\n",
              "      <td>0.023661</td>\n",
              "      <td>0.018409</td>\n",
              "      <td>0.009205</td>\n",
              "    </tr>\n",
              "    <tr>\n",
              "      <th>40</th>\n",
              "      <td>(3, 4, 5)</td>\n",
              "      <td>[0.76, 0.848, 0.744, 0.75, 0.7983870967741935]</td>\n",
              "      <td>0.780077</td>\n",
              "      <td>(Parch, Fare, Sex_male)</td>\n",
              "      <td>0.049971</td>\n",
              "      <td>0.038879</td>\n",
              "      <td>0.01944</td>\n",
              "    </tr>\n",
              "    <tr>\n",
              "      <th>38</th>\n",
              "      <td>(2, 3, 5)</td>\n",
              "      <td>[0.792, 0.8, 0.752, 0.7419354838709677, 0.8145...</td>\n",
              "      <td>0.78009</td>\n",
              "      <td>(SibSp, Parch, Sex_male)</td>\n",
              "      <td>0.036209</td>\n",
              "      <td>0.028172</td>\n",
              "      <td>0.014086</td>\n",
              "    </tr>\n",
              "    <tr>\n",
              "      <th>39</th>\n",
              "      <td>(2, 4, 5)</td>\n",
              "      <td>[0.76, 0.832, 0.784, 0.7741935483870968, 0.758...</td>\n",
              "      <td>0.781652</td>\n",
              "      <td>(SibSp, Fare, Sex_male)</td>\n",
              "      <td>0.03459</td>\n",
              "      <td>0.026912</td>\n",
              "      <td>0.013456</td>\n",
              "    </tr>\n",
              "    <tr>\n",
              "      <th>33</th>\n",
              "      <td>(1, 2, 5)</td>\n",
              "      <td>[0.728, 0.744, 0.784, 0.8064516129032258, 0.84...</td>\n",
              "      <td>0.781845</td>\n",
              "      <td>(Age, SibSp, Sex_male)</td>\n",
              "      <td>0.055005</td>\n",
              "      <td>0.042796</td>\n",
              "      <td>0.021398</td>\n",
              "    </tr>\n",
              "    <tr>\n",
              "      <th>50</th>\n",
              "      <td>(0, 3, 4, 5)</td>\n",
              "      <td>[0.752, 0.816, 0.776, 0.782258064516129, 0.790...</td>\n",
              "      <td>0.783316</td>\n",
              "      <td>(Pclass, Parch, Fare, Sex_male)</td>\n",
              "      <td>0.026669</td>\n",
              "      <td>0.020749</td>\n",
              "      <td>0.010375</td>\n",
              "    </tr>\n",
              "    <tr>\n",
              "      <th>19</th>\n",
              "      <td>(3, 5)</td>\n",
              "      <td>[0.752, 0.8, 0.768, 0.7903225806451613, 0.8064...</td>\n",
              "      <td>0.783355</td>\n",
              "      <td>(Parch, Sex_male)</td>\n",
              "      <td>0.026202</td>\n",
              "      <td>0.020386</td>\n",
              "      <td>0.010193</td>\n",
              "    </tr>\n",
              "    <tr>\n",
              "      <th>5</th>\n",
              "      <td>(5,)</td>\n",
              "      <td>[0.752, 0.8, 0.768, 0.7983870967741935, 0.8145...</td>\n",
              "      <td>0.786581</td>\n",
              "      <td>(Sex_male,)</td>\n",
              "      <td>0.029539</td>\n",
              "      <td>0.022982</td>\n",
              "      <td>0.011491</td>\n",
              "    </tr>\n",
              "    <tr>\n",
              "      <th>20</th>\n",
              "      <td>(4, 5)</td>\n",
              "      <td>[0.744, 0.824, 0.784, 0.8145161290322581, 0.79...</td>\n",
              "      <td>0.792981</td>\n",
              "      <td>(Fare, Sex_male)</td>\n",
              "      <td>0.036057</td>\n",
              "      <td>0.028053</td>\n",
              "      <td>0.014027</td>\n",
              "    </tr>\n",
              "    <tr>\n",
              "      <th>27</th>\n",
              "      <td>(0, 2, 5)</td>\n",
              "      <td>[0.776, 0.792, 0.776, 0.8064516129032258, 0.81...</td>\n",
              "      <td>0.792994</td>\n",
              "      <td>(Pclass, SibSp, Sex_male)</td>\n",
              "      <td>0.020101</td>\n",
              "      <td>0.015639</td>\n",
              "      <td>0.007819</td>\n",
              "    </tr>\n",
              "    <tr>\n",
              "      <th>17</th>\n",
              "      <td>(2, 5)</td>\n",
              "      <td>[0.76, 0.792, 0.768, 0.8145161290322581, 0.830...</td>\n",
              "      <td>0.793032</td>\n",
              "      <td>(SibSp, Sex_male)</td>\n",
              "      <td>0.034464</td>\n",
              "      <td>0.026815</td>\n",
              "      <td>0.013407</td>\n",
              "    </tr>\n",
              "    <tr>\n",
              "      <th>29</th>\n",
              "      <td>(0, 3, 5)</td>\n",
              "      <td>[0.776, 0.816, 0.792, 0.7580645161290323, 0.83...</td>\n",
              "      <td>0.794542</td>\n",
              "      <td>(Pclass, Parch, Sex_male)</td>\n",
              "      <td>0.033736</td>\n",
              "      <td>0.026248</td>\n",
              "      <td>0.013124</td>\n",
              "    </tr>\n",
              "    <tr>\n",
              "      <th>46</th>\n",
              "      <td>(0, 1, 4, 5)</td>\n",
              "      <td>[0.784, 0.816, 0.792, 0.7741935483870968, 0.83...</td>\n",
              "      <td>0.799368</td>\n",
              "      <td>(Pclass, Age, Fare, Sex_male)</td>\n",
              "      <td>0.026832</td>\n",
              "      <td>0.020876</td>\n",
              "      <td>0.010438</td>\n",
              "    </tr>\n",
              "    <tr>\n",
              "      <th>49</th>\n",
              "      <td>(0, 2, 4, 5)</td>\n",
              "      <td>[0.792, 0.84, 0.816, 0.782258064516129, 0.7741...</td>\n",
              "      <td>0.80089</td>\n",
              "      <td>(Pclass, SibSp, Fare, Sex_male)</td>\n",
              "      <td>0.030937</td>\n",
              "      <td>0.02407</td>\n",
              "      <td>0.012035</td>\n",
              "    </tr>\n",
              "    <tr>\n",
              "      <th>30</th>\n",
              "      <td>(0, 4, 5)</td>\n",
              "      <td>[0.76, 0.832, 0.816, 0.8225806451612904, 0.806...</td>\n",
              "      <td>0.807406</td>\n",
              "      <td>(Pclass, Fare, Sex_male)</td>\n",
              "      <td>0.032298</td>\n",
              "      <td>0.025129</td>\n",
              "      <td>0.012564</td>\n",
              "    </tr>\n",
              "    <tr>\n",
              "      <th>45</th>\n",
              "      <td>(0, 1, 3, 5)</td>\n",
              "      <td>[0.784, 0.824, 0.768, 0.7983870967741935, 0.86...</td>\n",
              "      <td>0.807458</td>\n",
              "      <td>(Pclass, Age, Parch, Sex_male)</td>\n",
              "      <td>0.042773</td>\n",
              "      <td>0.033279</td>\n",
              "      <td>0.016639</td>\n",
              "    </tr>\n",
              "    <tr>\n",
              "      <th>43</th>\n",
              "      <td>(0, 1, 2, 5)</td>\n",
              "      <td>[0.728, 0.84, 0.816, 0.8225806451612904, 0.838...</td>\n",
              "      <td>0.809058</td>\n",
              "      <td>(Pclass, Age, SibSp, Sex_male)</td>\n",
              "      <td>0.053423</td>\n",
              "      <td>0.041565</td>\n",
              "      <td>0.020782</td>\n",
              "    </tr>\n",
              "    <tr>\n",
              "      <th>24</th>\n",
              "      <td>(0, 1, 5)</td>\n",
              "      <td>[0.8, 0.832, 0.792, 0.8064516129032258, 0.8548...</td>\n",
              "      <td>0.817058</td>\n",
              "      <td>(Pclass, Age, Sex_male)</td>\n",
              "      <td>0.029768</td>\n",
              "      <td>0.02316</td>\n",
              "      <td>0.01158</td>\n",
              "    </tr>\n",
              "  </tbody>\n",
              "</table>\n",
              "</div>\n",
              "    <div class=\"colab-df-buttons\">\n",
              "\n",
              "  <div class=\"colab-df-container\">\n",
              "    <button class=\"colab-df-convert\" onclick=\"convertToInteractive('df-be5a6c12-e956-4e80-b33f-9b758a3ec253')\"\n",
              "            title=\"Convert this dataframe to an interactive table.\"\n",
              "            style=\"display:none;\">\n",
              "\n",
              "  <svg xmlns=\"http://www.w3.org/2000/svg\" height=\"24px\" viewBox=\"0 -960 960 960\">\n",
              "    <path d=\"M120-120v-720h720v720H120Zm60-500h600v-160H180v160Zm220 220h160v-160H400v160Zm0 220h160v-160H400v160ZM180-400h160v-160H180v160Zm440 0h160v-160H620v160ZM180-180h160v-160H180v160Zm440 0h160v-160H620v160Z\"/>\n",
              "  </svg>\n",
              "    </button>\n",
              "\n",
              "  <style>\n",
              "    .colab-df-container {\n",
              "      display:flex;\n",
              "      gap: 12px;\n",
              "    }\n",
              "\n",
              "    .colab-df-convert {\n",
              "      background-color: #E8F0FE;\n",
              "      border: none;\n",
              "      border-radius: 50%;\n",
              "      cursor: pointer;\n",
              "      display: none;\n",
              "      fill: #1967D2;\n",
              "      height: 32px;\n",
              "      padding: 0 0 0 0;\n",
              "      width: 32px;\n",
              "    }\n",
              "\n",
              "    .colab-df-convert:hover {\n",
              "      background-color: #E2EBFA;\n",
              "      box-shadow: 0px 1px 2px rgba(60, 64, 67, 0.3), 0px 1px 3px 1px rgba(60, 64, 67, 0.15);\n",
              "      fill: #174EA6;\n",
              "    }\n",
              "\n",
              "    .colab-df-buttons div {\n",
              "      margin-bottom: 4px;\n",
              "    }\n",
              "\n",
              "    [theme=dark] .colab-df-convert {\n",
              "      background-color: #3B4455;\n",
              "      fill: #D2E3FC;\n",
              "    }\n",
              "\n",
              "    [theme=dark] .colab-df-convert:hover {\n",
              "      background-color: #434B5C;\n",
              "      box-shadow: 0px 1px 3px 1px rgba(0, 0, 0, 0.15);\n",
              "      filter: drop-shadow(0px 1px 2px rgba(0, 0, 0, 0.3));\n",
              "      fill: #FFFFFF;\n",
              "    }\n",
              "  </style>\n",
              "\n",
              "    <script>\n",
              "      const buttonEl =\n",
              "        document.querySelector('#df-be5a6c12-e956-4e80-b33f-9b758a3ec253 button.colab-df-convert');\n",
              "      buttonEl.style.display =\n",
              "        google.colab.kernel.accessAllowed ? 'block' : 'none';\n",
              "\n",
              "      async function convertToInteractive(key) {\n",
              "        const element = document.querySelector('#df-be5a6c12-e956-4e80-b33f-9b758a3ec253');\n",
              "        const dataTable =\n",
              "          await google.colab.kernel.invokeFunction('convertToInteractive',\n",
              "                                                    [key], {});\n",
              "        if (!dataTable) return;\n",
              "\n",
              "        const docLinkHtml = 'Like what you see? Visit the ' +\n",
              "          '<a target=\"_blank\" href=https://colab.research.google.com/notebooks/data_table.ipynb>data table notebook</a>'\n",
              "          + ' to learn more about interactive tables.';\n",
              "        element.innerHTML = '';\n",
              "        dataTable['output_type'] = 'display_data';\n",
              "        await google.colab.output.renderOutput(dataTable, element);\n",
              "        const docLink = document.createElement('div');\n",
              "        docLink.innerHTML = docLinkHtml;\n",
              "        element.appendChild(docLink);\n",
              "      }\n",
              "    </script>\n",
              "  </div>\n",
              "\n",
              "\n",
              "    <div id=\"df-bf783c9b-f87e-45f8-aff6-294e93a49397\">\n",
              "      <button class=\"colab-df-quickchart\" onclick=\"quickchart('df-bf783c9b-f87e-45f8-aff6-294e93a49397')\"\n",
              "                title=\"Suggest charts\"\n",
              "                style=\"display:none;\">\n",
              "\n",
              "<svg xmlns=\"http://www.w3.org/2000/svg\" height=\"24px\"viewBox=\"0 0 24 24\"\n",
              "     width=\"24px\">\n",
              "    <g>\n",
              "        <path d=\"M19 3H5c-1.1 0-2 .9-2 2v14c0 1.1.9 2 2 2h14c1.1 0 2-.9 2-2V5c0-1.1-.9-2-2-2zM9 17H7v-7h2v7zm4 0h-2V7h2v10zm4 0h-2v-4h2v4z\"/>\n",
              "    </g>\n",
              "</svg>\n",
              "      </button>\n",
              "\n",
              "<style>\n",
              "  .colab-df-quickchart {\n",
              "      --bg-color: #E8F0FE;\n",
              "      --fill-color: #1967D2;\n",
              "      --hover-bg-color: #E2EBFA;\n",
              "      --hover-fill-color: #174EA6;\n",
              "      --disabled-fill-color: #AAA;\n",
              "      --disabled-bg-color: #DDD;\n",
              "  }\n",
              "\n",
              "  [theme=dark] .colab-df-quickchart {\n",
              "      --bg-color: #3B4455;\n",
              "      --fill-color: #D2E3FC;\n",
              "      --hover-bg-color: #434B5C;\n",
              "      --hover-fill-color: #FFFFFF;\n",
              "      --disabled-bg-color: #3B4455;\n",
              "      --disabled-fill-color: #666;\n",
              "  }\n",
              "\n",
              "  .colab-df-quickchart {\n",
              "    background-color: var(--bg-color);\n",
              "    border: none;\n",
              "    border-radius: 50%;\n",
              "    cursor: pointer;\n",
              "    display: none;\n",
              "    fill: var(--fill-color);\n",
              "    height: 32px;\n",
              "    padding: 0;\n",
              "    width: 32px;\n",
              "  }\n",
              "\n",
              "  .colab-df-quickchart:hover {\n",
              "    background-color: var(--hover-bg-color);\n",
              "    box-shadow: 0 1px 2px rgba(60, 64, 67, 0.3), 0 1px 3px 1px rgba(60, 64, 67, 0.15);\n",
              "    fill: var(--button-hover-fill-color);\n",
              "  }\n",
              "\n",
              "  .colab-df-quickchart-complete:disabled,\n",
              "  .colab-df-quickchart-complete:disabled:hover {\n",
              "    background-color: var(--disabled-bg-color);\n",
              "    fill: var(--disabled-fill-color);\n",
              "    box-shadow: none;\n",
              "  }\n",
              "\n",
              "  .colab-df-spinner {\n",
              "    border: 2px solid var(--fill-color);\n",
              "    border-color: transparent;\n",
              "    border-bottom-color: var(--fill-color);\n",
              "    animation:\n",
              "      spin 1s steps(1) infinite;\n",
              "  }\n",
              "\n",
              "  @keyframes spin {\n",
              "    0% {\n",
              "      border-color: transparent;\n",
              "      border-bottom-color: var(--fill-color);\n",
              "      border-left-color: var(--fill-color);\n",
              "    }\n",
              "    20% {\n",
              "      border-color: transparent;\n",
              "      border-left-color: var(--fill-color);\n",
              "      border-top-color: var(--fill-color);\n",
              "    }\n",
              "    30% {\n",
              "      border-color: transparent;\n",
              "      border-left-color: var(--fill-color);\n",
              "      border-top-color: var(--fill-color);\n",
              "      border-right-color: var(--fill-color);\n",
              "    }\n",
              "    40% {\n",
              "      border-color: transparent;\n",
              "      border-right-color: var(--fill-color);\n",
              "      border-top-color: var(--fill-color);\n",
              "    }\n",
              "    60% {\n",
              "      border-color: transparent;\n",
              "      border-right-color: var(--fill-color);\n",
              "    }\n",
              "    80% {\n",
              "      border-color: transparent;\n",
              "      border-right-color: var(--fill-color);\n",
              "      border-bottom-color: var(--fill-color);\n",
              "    }\n",
              "    90% {\n",
              "      border-color: transparent;\n",
              "      border-bottom-color: var(--fill-color);\n",
              "    }\n",
              "  }\n",
              "</style>\n",
              "\n",
              "      <script>\n",
              "        async function quickchart(key) {\n",
              "          const quickchartButtonEl =\n",
              "            document.querySelector('#' + key + ' button');\n",
              "          quickchartButtonEl.disabled = true;  // To prevent multiple clicks.\n",
              "          quickchartButtonEl.classList.add('colab-df-spinner');\n",
              "          try {\n",
              "            const charts = await google.colab.kernel.invokeFunction(\n",
              "                'suggestCharts', [key], {});\n",
              "          } catch (error) {\n",
              "            console.error('Error during call to suggestCharts:', error);\n",
              "          }\n",
              "          quickchartButtonEl.classList.remove('colab-df-spinner');\n",
              "          quickchartButtonEl.classList.add('colab-df-quickchart-complete');\n",
              "        }\n",
              "        (() => {\n",
              "          let quickchartButtonEl =\n",
              "            document.querySelector('#df-bf783c9b-f87e-45f8-aff6-294e93a49397 button');\n",
              "          quickchartButtonEl.style.display =\n",
              "            google.colab.kernel.accessAllowed ? 'block' : 'none';\n",
              "        })();\n",
              "      </script>\n",
              "    </div>\n",
              "\n",
              "  <div id=\"id_e2f20151-715c-4efd-b028-890278013cc9\">\n",
              "    <style>\n",
              "      .colab-df-generate {\n",
              "        background-color: #E8F0FE;\n",
              "        border: none;\n",
              "        border-radius: 50%;\n",
              "        cursor: pointer;\n",
              "        display: none;\n",
              "        fill: #1967D2;\n",
              "        height: 32px;\n",
              "        padding: 0 0 0 0;\n",
              "        width: 32px;\n",
              "      }\n",
              "\n",
              "      .colab-df-generate:hover {\n",
              "        background-color: #E2EBFA;\n",
              "        box-shadow: 0px 1px 2px rgba(60, 64, 67, 0.3), 0px 1px 3px 1px rgba(60, 64, 67, 0.15);\n",
              "        fill: #174EA6;\n",
              "      }\n",
              "\n",
              "      [theme=dark] .colab-df-generate {\n",
              "        background-color: #3B4455;\n",
              "        fill: #D2E3FC;\n",
              "      }\n",
              "\n",
              "      [theme=dark] .colab-df-generate:hover {\n",
              "        background-color: #434B5C;\n",
              "        box-shadow: 0px 1px 3px 1px rgba(0, 0, 0, 0.15);\n",
              "        filter: drop-shadow(0px 1px 2px rgba(0, 0, 0, 0.3));\n",
              "        fill: #FFFFFF;\n",
              "      }\n",
              "    </style>\n",
              "    <button class=\"colab-df-generate\" onclick=\"generateWithVariable('efs_results')\"\n",
              "            title=\"Generate code using this dataframe.\"\n",
              "            style=\"display:none;\">\n",
              "\n",
              "  <svg xmlns=\"http://www.w3.org/2000/svg\" height=\"24px\"viewBox=\"0 0 24 24\"\n",
              "       width=\"24px\">\n",
              "    <path d=\"M7,19H8.4L18.45,9,17,7.55,7,17.6ZM5,21V16.75L18.45,3.32a2,2,0,0,1,2.83,0l1.4,1.43a1.91,1.91,0,0,1,.58,1.4,1.91,1.91,0,0,1-.58,1.4L9.25,21ZM18.45,9,17,7.55Zm-12,3A5.31,5.31,0,0,0,4.9,8.1,5.31,5.31,0,0,0,1,6.5,5.31,5.31,0,0,0,4.9,4.9,5.31,5.31,0,0,0,6.5,1,5.31,5.31,0,0,0,8.1,4.9,5.31,5.31,0,0,0,12,6.5,5.46,5.46,0,0,0,6.5,12Z\"/>\n",
              "  </svg>\n",
              "    </button>\n",
              "    <script>\n",
              "      (() => {\n",
              "      const buttonEl =\n",
              "        document.querySelector('#id_e2f20151-715c-4efd-b028-890278013cc9 button.colab-df-generate');\n",
              "      buttonEl.style.display =\n",
              "        google.colab.kernel.accessAllowed ? 'block' : 'none';\n",
              "\n",
              "      buttonEl.onclick = () => {\n",
              "        google.colab.notebook.generateWithVariable('efs_results');\n",
              "      }\n",
              "      })();\n",
              "    </script>\n",
              "  </div>\n",
              "\n",
              "    </div>\n",
              "  </div>\n"
            ],
            "application/vnd.google.colaboratory.intrinsic+json": {
              "type": "dataframe",
              "variable_name": "efs_results",
              "summary": "{\n  \"name\": \"efs_results\",\n  \"rows\": 56,\n  \"fields\": [\n    {\n      \"column\": \"feature_idx\",\n      \"properties\": {\n        \"dtype\": \"string\",\n        \"num_unique_values\": 56,\n        \"samples\": [\n          [\n            1,\n            2\n          ],\n          [\n            3\n          ],\n          [\n            1,\n            2,\n            4,\n            5\n          ]\n        ],\n        \"semantic_type\": \"\",\n        \"description\": \"\"\n      }\n    },\n    {\n      \"column\": \"cv_scores\",\n      \"properties\": {\n        \"dtype\": \"object\",\n        \"semantic_type\": \"\",\n        \"description\": \"\"\n      }\n    },\n    {\n      \"column\": \"avg_score\",\n      \"properties\": {\n        \"dtype\": \"date\",\n        \"min\": 0.6002322580645162,\n        \"max\": 0.8170580645161291,\n        \"num_unique_values\": 56,\n        \"samples\": [\n          0.6002322580645162,\n          0.6083999999999999,\n          0.7656645161290323\n        ],\n        \"semantic_type\": \"\",\n        \"description\": \"\"\n      }\n    },\n    {\n      \"column\": \"feature_names\",\n      \"properties\": {\n        \"dtype\": \"string\",\n        \"num_unique_values\": 56,\n        \"samples\": [\n          [\n            \"Age\",\n            \"SibSp\"\n          ],\n          [\n            \"Parch\"\n          ],\n          [\n            \"Age\",\n            \"SibSp\",\n            \"Fare\",\n            \"Sex_male\"\n          ]\n        ],\n        \"semantic_type\": \"\",\n        \"description\": \"\"\n      }\n    },\n    {\n      \"column\": \"ci_bound\",\n      \"properties\": {\n        \"dtype\": \"date\",\n        \"min\": 0.012362843498831879,\n        \"max\": 0.072428230390674,\n        \"num_unique_values\": 56,\n        \"samples\": [\n          0.04566551515330091,\n          0.03307048913358637,\n          0.028455387786071373\n        ],\n        \"semantic_type\": \"\",\n        \"description\": \"\"\n      }\n    },\n    {\n      \"column\": \"std_dev\",\n      \"properties\": {\n        \"dtype\": \"date\",\n        \"min\": 0.009618712252178984,\n        \"max\": 0.056351623890429726,\n        \"num_unique_values\": 56,\n        \"samples\": [\n          0.035529322210430245,\n          0.025729964068932437,\n          0.022139258429037807\n        ],\n        \"semantic_type\": \"\",\n        \"description\": \"\"\n      }\n    },\n    {\n      \"column\": \"std_err\",\n      \"properties\": {\n        \"dtype\": \"date\",\n        \"min\": 0.004809356126089492,\n        \"max\": 0.02817581194521486,\n        \"num_unique_values\": 56,\n        \"samples\": [\n          0.01776466110521512,\n          0.012864982034466219,\n          0.011069629214518904\n        ],\n        \"semantic_type\": \"\",\n        \"description\": \"\"\n      }\n    }\n  ]\n}"
            }
          },
          "metadata": {},
          "execution_count": 48
        }
      ]
    },
    {
      "cell_type": "code",
      "source": [
        "from sklearn.ensemble import RandomForestClassifier\n",
        "rfc = RandomForestClassifier(random_state=0, criterion='gini')\n",
        "rfc.fit(x_train, y_train)\n",
        "for feature in zip(x_train.columns, rfc.feature_importances_):\n",
        "    print(feature)\n"
      ],
      "metadata": {
        "colab": {
          "base_uri": "https://localhost:8080/"
        },
        "id": "2dZxZ9wmFY_I",
        "outputId": "2f430382-70a7-45a2-afe6-4355dd535391"
      },
      "execution_count": null,
      "outputs": [
        {
          "output_type": "stream",
          "name": "stdout",
          "text": [
            "('Pclass', np.float64(0.08580548090109545))\n",
            "('Age', np.float64(0.26433757901109173))\n",
            "('SibSp', np.float64(0.05355992352286061))\n",
            "('Parch', np.float64(0.03699908167792097))\n",
            "('Fare', np.float64(0.28790097031129963))\n",
            "('Sex_male', np.float64(0.2713969645757317))\n"
          ]
        }
      ]
    },
    {
      "cell_type": "code",
      "source": [
        "from sklearn.feature_selection import SelectFromModel\n",
        "sfm = SelectFromModel(estimator=rfc, threshold=0.2)\n",
        "sfm = sfm.fit(x_train, y_train)\n",
        "feature_names=x_train.columns\n",
        "print('The most important features based on random forest classifier:')\n",
        "for feature_list_index in sfm.get_support(indices=True):\n",
        "    print('- ' + feature_names[feature_list_index])"
      ],
      "metadata": {
        "colab": {
          "base_uri": "https://localhost:8080/"
        },
        "id": "scroW_WFFlJ0",
        "outputId": "16378136-a31d-4ebb-9347-40525dcb7dc7"
      },
      "execution_count": null,
      "outputs": [
        {
          "output_type": "stream",
          "name": "stdout",
          "text": [
            "The most important features based on random forest classifier:\n",
            "- Age\n",
            "- Fare\n",
            "- Sex_male\n"
          ]
        }
      ]
    },
    {
      "cell_type": "code",
      "source": [
        "from sklearn.metrics import accuracy_score\n",
        "rfc_full = RandomForestClassifier(random_state=0, criterion='gini')\n",
        "rfc_full.fit(x_train, y_train)\n",
        "pred_full = rfc_full.predict(x_test)\n",
        "print('The accuracy of classifier with full features: {:.2f}'.format(accuracy_score(y_test, pred_full)))\n"
      ],
      "metadata": {
        "colab": {
          "base_uri": "https://localhost:8080/"
        },
        "id": "ve8Ta7lCFpgl",
        "outputId": "dd812a73-4508-428e-deb8-66a30372ea2b"
      },
      "execution_count": null,
      "outputs": [
        {
          "output_type": "stream",
          "name": "stdout",
          "text": [
            "The accuracy of classifier with full features: 0.82\n"
          ]
        }
      ]
    },
    {
      "cell_type": "code",
      "source": [
        "x_important_train = sfm.transform(x_train)\n",
        "x_important_test = sfm.transform(x_test)"
      ],
      "metadata": {
        "id": "Pt6AUo1aFuY6"
      },
      "execution_count": null,
      "outputs": []
    },
    {
      "cell_type": "code",
      "source": [
        "rfc_lim = RandomForestClassifier(random_state=0, criterion='gini')\n",
        "rfc_lim.fit(x_important_train, y_train)\n",
        "pred_lim = rfc_lim.predict(x_important_test)\n",
        "print('The accuracy of classifier with limited features: {:.2f}'.format(accuracy_score(y_test, pred_lim)))"
      ],
      "metadata": {
        "colab": {
          "base_uri": "https://localhost:8080/"
        },
        "id": "2oWFlmv7F-IR",
        "outputId": "17388384-bf5f-4ec1-b2ca-135817dc6dd0"
      },
      "execution_count": null,
      "outputs": [
        {
          "output_type": "stream",
          "name": "stdout",
          "text": [
            "The accuracy of classifier with limited features: 0.80\n"
          ]
        }
      ]
    },
    {
      "cell_type": "code",
      "source": [
        "from sklearn.preprocessing import StandardScaler\n",
        "from sklearn.decomposition import PCA\n",
        "from sklearn.linear_model import LogisticRegression\n",
        "from sklearn.metrics import confusion_matrix\n",
        "import matplotlib.pyplot as plt\n",
        "import seaborn as sns"
      ],
      "metadata": {
        "id": "WXsbpJU5zTJ9"
      },
      "execution_count": null,
      "outputs": []
    },
    {
      "cell_type": "code",
      "source": [
        "df1=pd.read_csv('/content/titanic_train.csv')\n",
        "df1.shape"
      ],
      "metadata": {
        "colab": {
          "base_uri": "https://localhost:8080/"
        },
        "id": "-otG7Dw45ZpY",
        "outputId": "569b3673-4da3-43b4-896e-f9d277b81963"
      },
      "execution_count": null,
      "outputs": [
        {
          "output_type": "execute_result",
          "data": {
            "text/plain": [
              "(891, 12)"
            ]
          },
          "metadata": {},
          "execution_count": 64
        }
      ]
    },
    {
      "cell_type": "code",
      "source": [
        "[col for col in df1.columns if df1[col].isnull().sum()>0]"
      ],
      "metadata": {
        "colab": {
          "base_uri": "https://localhost:8080/"
        },
        "id": "A46pIhzd5s4Z",
        "outputId": "ab4d0b17-bb1b-4bce-8571-48b8d6085083"
      },
      "execution_count": null,
      "outputs": [
        {
          "output_type": "execute_result",
          "data": {
            "text/plain": [
              "['Age', 'Cabin', 'Embarked']"
            ]
          },
          "metadata": {},
          "execution_count": 70
        }
      ]
    },
    {
      "cell_type": "code",
      "source": [
        "df1['Age'] = df['Age'].fillna(df1['Age'].median())"
      ],
      "metadata": {
        "id": "9uc6IZrc57JB"
      },
      "execution_count": null,
      "outputs": []
    },
    {
      "cell_type": "code",
      "source": [
        "df1=df1.drop(['Embarked','Cabin'],axis=1)"
      ],
      "metadata": {
        "id": "grhyYn5p6EeR"
      },
      "execution_count": null,
      "outputs": []
    },
    {
      "cell_type": "code",
      "source": [
        "X = df.drop('Survived',axis=1)\n",
        "y = df['Survived']"
      ],
      "metadata": {
        "id": "CBwE9D9x32cx"
      },
      "execution_count": null,
      "outputs": []
    },
    {
      "cell_type": "code",
      "source": [
        "X = pd.get_dummies(X,drop_first=True)"
      ],
      "metadata": {
        "id": "UKeccoy94Djx"
      },
      "execution_count": null,
      "outputs": []
    },
    {
      "cell_type": "code",
      "source": [
        "\n",
        "data = pd.concat([X, y], axis=1)\n",
        "data = data.dropna()\n",
        "X = data.drop(columns=['Survived'])\n",
        "y = data['Survived']\n"
      ],
      "metadata": {
        "id": "TK1KlC9Y6b5N"
      },
      "execution_count": null,
      "outputs": []
    },
    {
      "cell_type": "code",
      "source": [
        "scaler=StandardScaler()\n",
        "x_scaled=scaler.fit_transform(x_train)"
      ],
      "metadata": {
        "id": "0TgwwF1mzyB_"
      },
      "execution_count": null,
      "outputs": []
    },
    {
      "cell_type": "code",
      "source": [
        "x_scaled.shape"
      ],
      "metadata": {
        "colab": {
          "base_uri": "https://localhost:8080/"
        },
        "id": "uQuWVBqIz6t6",
        "outputId": "12f36cb2-bb0d-45ff-be1b-0c856680f926"
      },
      "execution_count": null,
      "outputs": [
        {
          "output_type": "execute_result",
          "data": {
            "text/plain": [
              "(623, 6)"
            ]
          },
          "metadata": {},
          "execution_count": 81
        }
      ]
    },
    {
      "cell_type": "code",
      "source": [
        "pca=PCA(n_components=2)\n",
        "x_pca=pca.fit_transform(x_scaled)"
      ],
      "metadata": {
        "id": "j7d5ZypD0S3F"
      },
      "execution_count": null,
      "outputs": []
    },
    {
      "cell_type": "code",
      "source": [
        "x_train,x_test,y_train,y_test=train_test_split(x_pca,y,test_size=0.3,random_state=42)\n",
        "model=LogisticRegression()\n",
        "model.fit(x_train,y_train)\n",
        "y_pred=model.predict(x_test)"
      ],
      "metadata": {
        "id": "zo40dT2T3DWH"
      },
      "execution_count": null,
      "outputs": []
    },
    {
      "cell_type": "code",
      "source": [
        "cm=confusion_matrix(y_test,y_pred)\n",
        "plt.figure(figsize=(8,6))\n",
        "sns.heatmap(cm,annot=True,fmt='d',cmap='Blues')\n",
        "plt.title('Confusion Matrix')\n",
        "plt.xlabel('Predicted Labels')\n",
        "plt.ylabel('True Labels')\n",
        "plt.show()"
      ],
      "metadata": {
        "id": "fXjTr3gP2F3n"
      },
      "execution_count": null,
      "outputs": []
    },
    {
      "cell_type": "code",
      "source": [
        "y_numeric=pd.actegorize(y)[0]\n",
        "plt.figure(figsize=(12,5))\n",
        "plt.subplot(1,2,1)\n",
        "plt.scatter(x_scaled[:,0],x_scaled[:,1],c=y_numeric,cmap='viridis',edgecolor='k',s=50\n",
        "sns.scatter(x_scaled[:0]),x_scaled[:,1],c=y_numeric,cmap='viridis',edgecolor='k',s=50)\n",
        "plt.xlabel('Original Feature 1')\n",
        "plt.ylabel('Original FEature 2')\n",
        "plt.title(\"Before PCA:using first two standardized features\")\n",
        "plt.colorbar(label=\"Target classes\")\n",
        "plt.subplot(1,2,2)\n",
        "plt.scatter(x_pca[:,0],x_pca[:,1],c=y_numeric,cmap='viridis',edgecolor='k',s=50)\n",
        "plt.xlabel('Principal Component 1')\n",
        "plt.ylabel('Principal Component 2')\n",
        "plt.title(\"After PCA:using first two principal components\")\n",
        "plt.colorbar(label=\"Target classes\")\n",
        "plt.tight_layout()\n",
        "plt.show()"
      ],
      "metadata": {
        "id": "5bJliEOt3I_P"
      },
      "execution_count": null,
      "outputs": []
    }
  ]
}